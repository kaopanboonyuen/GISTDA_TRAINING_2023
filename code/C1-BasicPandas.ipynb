{
 "cells": [
  {
   "cell_type": "markdown",
   "metadata": {},
   "source": [
    "# TOPIC 1 - BASIC PANDAS\n",
    "\n",
    "[![Support-Ukraine](https://raw.githubusercontent.com/kaopanboonyuen/2110446_DataScience_2021s2/main/img/Support-Ukraine-FFD500.svg)](https://supportukrainenow.org/)\n",
    "\n",
    "![](https://github.com/kaopanboonyuen/GISTDA_TRAINING_2023/raw/main/logo_trainer.png)\n",
    "\n",
    "Credit: https://www.kaggle.com/code"
   ]
  },
  {
   "cell_type": "markdown",
   "metadata": {
    "id": "YQibouG4iHAQ"
   },
   "source": [
    "# Import Library"
   ]
  },
  {
   "cell_type": "code",
   "execution_count": 1,
   "metadata": {
    "id": "uD1qAqYuiHAR"
   },
   "outputs": [],
   "source": [
    "import pandas as pd\n",
    "import numpy as np"
   ]
  },
  {
   "cell_type": "markdown",
   "metadata": {
    "id": "xZ93LnsmiHAV"
   },
   "source": [
    "# Series"
   ]
  },
  {
   "cell_type": "markdown",
   "metadata": {
    "id": "QVmY7u58iHAW"
   },
   "source": [
    "## Create Series"
   ]
  },
  {
   "cell_type": "markdown",
   "metadata": {
    "id": "ArvcnmK5iHAW"
   },
   "source": [
    "There are many approaches to create a Series.  We first create a Series with 5 elements from a list:\n",
    "\n",
    "Index | Data (int)\n",
    ":---: | :---:\n",
    "0 | 14\n",
    "1 | -8\n",
    "2 | 0\n",
    "3 | 3\n",
    "4 | 9\n",
    "\n",
    "Note that **integer index starts from 0**"
   ]
  },
  {
   "cell_type": "code",
   "execution_count": 2,
   "metadata": {
    "colab": {
     "base_uri": "https://localhost:8080/"
    },
    "id": "0okZD2xSiHAX",
    "outputId": "ac36926f-9431-462f-cf41-f94ad1589399"
   },
   "outputs": [
    {
     "data": {
      "text/plain": [
       "0    14\n",
       "1    -8\n",
       "2     0\n",
       "3     3\n",
       "4     9\n",
       "dtype: int64"
      ]
     },
     "execution_count": 2,
     "metadata": {},
     "output_type": "execute_result"
    }
   ],
   "source": [
    "# create Series from a list\n",
    "s1 = pd.Series([14, -8, 0, 3, 9])\n",
    "s1"
   ]
  },
  {
   "cell_type": "code",
   "execution_count": 3,
   "metadata": {
    "colab": {
     "base_uri": "https://localhost:8080/"
    },
    "id": "SqHNCqsfiHAc",
    "outputId": "3fa2b861-0d8d-45a8-cce9-c261935dfa1c"
   },
   "outputs": [
    {
     "data": {
      "text/plain": [
       "pandas.core.series.Series"
      ]
     },
     "execution_count": 3,
     "metadata": {},
     "output_type": "execute_result"
    }
   ],
   "source": [
    "type(s1)"
   ]
  },
  {
   "cell_type": "code",
   "execution_count": 4,
   "metadata": {
    "colab": {
     "base_uri": "https://localhost:8080/"
    },
    "id": "r1D7WphoiHAg",
    "outputId": "b77b0cf5-5e5b-4baf-fb18-0ae6fa9d10aa"
   },
   "outputs": [
    {
     "data": {
      "text/plain": [
       "dtype('int64')"
      ]
     },
     "execution_count": 4,
     "metadata": {},
     "output_type": "execute_result"
    }
   ],
   "source": [
    "s1.dtype"
   ]
  },
  {
   "cell_type": "code",
   "execution_count": 5,
   "metadata": {
    "colab": {
     "base_uri": "https://localhost:8080/"
    },
    "id": "uDhLS9XHiHAj",
    "outputId": "39c390a8-2128-46ec-beb8-7f0e390a5064"
   },
   "outputs": [
    {
     "data": {
      "text/plain": [
       "array([14, -8,  0,  3,  9])"
      ]
     },
     "execution_count": 5,
     "metadata": {},
     "output_type": "execute_result"
    }
   ],
   "source": [
    "s1.values"
   ]
  },
  {
   "cell_type": "code",
   "execution_count": 6,
   "metadata": {
    "colab": {
     "base_uri": "https://localhost:8080/"
    },
    "id": "2PDS0JV0iHAn",
    "outputId": "331d22a1-fc5e-44e8-b6c7-bb1a9a2d9c6a"
   },
   "outputs": [
    {
     "data": {
      "text/plain": [
       "RangeIndex(start=0, stop=5, step=1)"
      ]
     },
     "execution_count": 6,
     "metadata": {},
     "output_type": "execute_result"
    }
   ],
   "source": [
    "s1.index"
   ]
  },
  {
   "cell_type": "code",
   "execution_count": 7,
   "metadata": {
    "colab": {
     "base_uri": "https://localhost:8080/"
    },
    "id": "SVefUyMmiHAt",
    "outputId": "cd90770c-19e2-4673-f3f4-276dbebdf6cc"
   },
   "outputs": [
    {
     "name": "stdout",
     "output_type": "stream",
     "text": [
      "14\n",
      "0\n"
     ]
    }
   ],
   "source": [
    "#Get value in index 0\n",
    "print(s1[0])\n",
    "print(s1[2])"
   ]
  },
  {
   "cell_type": "markdown",
   "metadata": {
    "id": "8S0VFDAfiHA2"
   },
   "source": [
    "## Create Series with Index"
   ]
  },
  {
   "cell_type": "markdown",
   "metadata": {
    "id": "dJG58kEAiHA3"
   },
   "source": [
    "We can create a Series with labels as index.  A label can be an arbitary string.  Although, we assign labels to the Series, integer index still exists.\n",
    "\n",
    "Index | Label | Data (int)\n",
    ":---: | :---: | :---:\n",
    "0 | d | 14\n",
    "1 | b | -8\n",
    "2 | a | 0\n",
    "3 | c | 3\n",
    "4 | x | 9\n",
    "\n",
    "Note that when we display a Series, it will show labels (if exist) or integer index (otherwise)."
   ]
  },
  {
   "cell_type": "code",
   "execution_count": 8,
   "metadata": {
    "colab": {
     "base_uri": "https://localhost:8080/"
    },
    "id": "GxGz9biZiHA4",
    "outputId": "edc11425-2d9a-48de-993b-8bcb12f4ae5b"
   },
   "outputs": [
    {
     "data": {
      "text/plain": [
       "d    14\n",
       "a    -8\n",
       "b     0\n",
       "c     3\n",
       "x     9\n",
       "dtype: int64"
      ]
     },
     "execution_count": 8,
     "metadata": {},
     "output_type": "execute_result"
    }
   ],
   "source": [
    "# create series with index, which can be numbers or strings\n",
    "s2 = pd.Series([14, -8, 0, 3, 9], index=['d','a','b','c', 'x'])\n",
    "s2"
   ]
  },
  {
   "cell_type": "code",
   "execution_count": 9,
   "metadata": {
    "colab": {
     "base_uri": "https://localhost:8080/"
    },
    "id": "GMyhV6fJiHA8",
    "outputId": "b0efb047-aae2-43ad-9bbf-9684e6914e18"
   },
   "outputs": [
    {
     "data": {
      "text/plain": [
       "Index(['d', 'a', 'b', 'c', 'x'], dtype='object')"
      ]
     },
     "execution_count": 9,
     "metadata": {},
     "output_type": "execute_result"
    }
   ],
   "source": [
    "s2.index"
   ]
  },
  {
   "cell_type": "code",
   "execution_count": 10,
   "metadata": {
    "colab": {
     "base_uri": "https://localhost:8080/"
    },
    "id": "wGbtZYrgiHBA",
    "outputId": "01caa40b-760c-42b3-9e43-0cba6ecd812d"
   },
   "outputs": [
    {
     "name": "stdout",
     "output_type": "stream",
     "text": [
      "-8\n",
      "-8\n"
     ]
    }
   ],
   "source": [
    "#Get value in index 'a'\n",
    "print(s2['a'])\n",
    "print(s2[1])"
   ]
  },
  {
   "cell_type": "markdown",
   "metadata": {
    "id": "wDD7C_qqiHBH"
   },
   "source": [
    "# Series Operation"
   ]
  },
  {
   "cell_type": "code",
   "execution_count": 11,
   "metadata": {
    "colab": {
     "base_uri": "https://localhost:8080/"
    },
    "id": "SyilPt3XiHBH",
    "outputId": "fc2c3a1e-c07b-4880-dc3a-3773f6caeb95"
   },
   "outputs": [
    {
     "data": {
      "text/plain": [
       "array([14, -8,  0,  3,  9])"
      ]
     },
     "execution_count": 11,
     "metadata": {},
     "output_type": "execute_result"
    }
   ],
   "source": [
    "s2.values"
   ]
  },
  {
   "cell_type": "code",
   "execution_count": 12,
   "metadata": {
    "colab": {
     "base_uri": "https://localhost:8080/"
    },
    "id": "bTx8Z-h-iHBL",
    "outputId": "a674e5bc-46d0-4e1d-ad1e-c11ab9b28db9"
   },
   "outputs": [
    {
     "data": {
      "text/plain": [
       "d    196\n",
       "a     64\n",
       "b      0\n",
       "c      9\n",
       "x     81\n",
       "dtype: int64"
      ]
     },
     "execution_count": 12,
     "metadata": {},
     "output_type": "execute_result"
    }
   ],
   "source": [
    "# Apply with Lambda\n",
    "s2.apply(lambda x : x**2)"
   ]
  },
  {
   "cell_type": "code",
   "execution_count": 13,
   "metadata": {
    "colab": {
     "base_uri": "https://localhost:8080/"
    },
    "id": "RbcFKpMdiHBO",
    "outputId": "ba5349b8-02c6-4837-897f-8174e6750757"
   },
   "outputs": [
    {
     "data": {
      "text/plain": [
       "d    196\n",
       "a     64\n",
       "b      0\n",
       "c      9\n",
       "x     81\n",
       "dtype: int64"
      ]
     },
     "execution_count": 13,
     "metadata": {},
     "output_type": "execute_result"
    }
   ],
   "source": [
    "# Apply with method\n",
    "def power(x):\n",
    "    return x**2\n",
    "s2.apply(power)"
   ]
  },
  {
   "cell_type": "code",
   "execution_count": 14,
   "metadata": {
    "colab": {
     "base_uri": "https://localhost:8080/"
    },
    "id": "PrLzixM4N4_H",
    "outputId": "6703d0ac-8edb-4815-98a6-b0224ab15dda"
   },
   "outputs": [
    {
     "data": {
      "text/plain": [
       "d    14\n",
       "a    -8\n",
       "b     0\n",
       "c     3\n",
       "x     9\n",
       "dtype: int64"
      ]
     },
     "execution_count": 14,
     "metadata": {},
     "output_type": "execute_result"
    }
   ],
   "source": [
    "s2"
   ]
  },
  {
   "cell_type": "markdown",
   "metadata": {
    "id": "8LB4-VBliHBU"
   },
   "source": [
    "# DataFrame"
   ]
  },
  {
   "cell_type": "markdown",
   "metadata": {
    "id": "CEB0WMzdiHBV"
   },
   "source": [
    "## Create DataFrame from List"
   ]
  },
  {
   "cell_type": "markdown",
   "metadata": {
    "id": "xovWG8PuiHBV"
   },
   "source": [
    "There are several approaches to create a DataFrame.  A simple one is to create from dict.\n",
    "We create the following DataFrame:\n",
    "\n",
    "Index | province | year | population\n",
    ":---: | :---: | :---: | :---:\n",
    "0 | Chiang Mai | 2016 | 1630428\n",
    "1 | Chiang Mai | 2017 | 1664012\n",
    "2 | Chiang Mai | 2018 | 1687971\n",
    "3 | Phrae | 2016 | 398936\n",
    "4 | Phrae | 2017 | 410382\n",
    "5 | Phrae | 2018 | 421653"
   ]
  },
  {
   "cell_type": "code",
   "execution_count": 15,
   "metadata": {
    "colab": {
     "base_uri": "https://localhost:8080/",
     "height": 237
    },
    "id": "hTAe8EWKiHBW",
    "outputId": "4f07e806-1d76-4cc7-8f4f-468f35279edb"
   },
   "outputs": [
    {
     "data": {
      "text/html": [
       "<div>\n",
       "<style scoped>\n",
       "    .dataframe tbody tr th:only-of-type {\n",
       "        vertical-align: middle;\n",
       "    }\n",
       "\n",
       "    .dataframe tbody tr th {\n",
       "        vertical-align: top;\n",
       "    }\n",
       "\n",
       "    .dataframe thead th {\n",
       "        text-align: right;\n",
       "    }\n",
       "</style>\n",
       "<table border=\"1\" class=\"dataframe\">\n",
       "  <thead>\n",
       "    <tr style=\"text-align: right;\">\n",
       "      <th></th>\n",
       "      <th>province</th>\n",
       "      <th>year</th>\n",
       "      <th>population</th>\n",
       "    </tr>\n",
       "  </thead>\n",
       "  <tbody>\n",
       "    <tr>\n",
       "      <th>0</th>\n",
       "      <td>Chiang Mai</td>\n",
       "      <td>2016</td>\n",
       "      <td>1630428</td>\n",
       "    </tr>\n",
       "    <tr>\n",
       "      <th>1</th>\n",
       "      <td>Chiang Mai</td>\n",
       "      <td>2017</td>\n",
       "      <td>1664012</td>\n",
       "    </tr>\n",
       "    <tr>\n",
       "      <th>2</th>\n",
       "      <td>Chiang Mai</td>\n",
       "      <td>2018</td>\n",
       "      <td>1687971</td>\n",
       "    </tr>\n",
       "    <tr>\n",
       "      <th>3</th>\n",
       "      <td>Phrae</td>\n",
       "      <td>2016</td>\n",
       "      <td>398936</td>\n",
       "    </tr>\n",
       "    <tr>\n",
       "      <th>4</th>\n",
       "      <td>Phrae</td>\n",
       "      <td>2017</td>\n",
       "      <td>410382</td>\n",
       "    </tr>\n",
       "    <tr>\n",
       "      <th>5</th>\n",
       "      <td>Phrae</td>\n",
       "      <td>2018</td>\n",
       "      <td>421653</td>\n",
       "    </tr>\n",
       "  </tbody>\n",
       "</table>\n",
       "</div>"
      ],
      "text/plain": [
       "     province  year  population\n",
       "0  Chiang Mai  2016     1630428\n",
       "1  Chiang Mai  2017     1664012\n",
       "2  Chiang Mai  2018     1687971\n",
       "3       Phrae  2016      398936\n",
       "4       Phrae  2017      410382\n",
       "5       Phrae  2018      421653"
      ]
     },
     "execution_count": 15,
     "metadata": {},
     "output_type": "execute_result"
    }
   ],
   "source": [
    "# Create From a List\n",
    "data = [\n",
    "    ['Chiang Mai', 2016, 1630428],\n",
    "    ['Chiang Mai', 2017, 1664012],\n",
    "    ['Chiang Mai', 2018, 1687971],\n",
    "    ['Phrae', 2016, 398936],\n",
    "    ['Phrae', 2017, 410382],\n",
    "    ['Phrae', 2018, 421653]\n",
    "]\n",
    "df = pd.DataFrame(\n",
    "    data=data,\n",
    "    columns=['province','year','population']\n",
    ")\n",
    "df"
   ]
  },
  {
   "cell_type": "code",
   "execution_count": 16,
   "metadata": {
    "colab": {
     "base_uri": "https://localhost:8080/",
     "height": 237
    },
    "id": "ONGYgffciHBY",
    "outputId": "2c4194bf-ab7b-40c5-ce88-13c8e259a588"
   },
   "outputs": [
    {
     "data": {
      "text/html": [
       "<div>\n",
       "<style scoped>\n",
       "    .dataframe tbody tr th:only-of-type {\n",
       "        vertical-align: middle;\n",
       "    }\n",
       "\n",
       "    .dataframe tbody tr th {\n",
       "        vertical-align: top;\n",
       "    }\n",
       "\n",
       "    .dataframe thead th {\n",
       "        text-align: right;\n",
       "    }\n",
       "</style>\n",
       "<table border=\"1\" class=\"dataframe\">\n",
       "  <thead>\n",
       "    <tr style=\"text-align: right;\">\n",
       "      <th></th>\n",
       "      <th>province</th>\n",
       "      <th>year</th>\n",
       "      <th>population</th>\n",
       "    </tr>\n",
       "  </thead>\n",
       "  <tbody>\n",
       "    <tr>\n",
       "      <th>0</th>\n",
       "      <td>Chiang Mai</td>\n",
       "      <td>2016</td>\n",
       "      <td>1630428</td>\n",
       "    </tr>\n",
       "    <tr>\n",
       "      <th>1</th>\n",
       "      <td>Chiang Mai</td>\n",
       "      <td>2017</td>\n",
       "      <td>1664012</td>\n",
       "    </tr>\n",
       "    <tr>\n",
       "      <th>2</th>\n",
       "      <td>Chiang Mai</td>\n",
       "      <td>2018</td>\n",
       "      <td>1687971</td>\n",
       "    </tr>\n",
       "    <tr>\n",
       "      <th>3</th>\n",
       "      <td>Phrae</td>\n",
       "      <td>2016</td>\n",
       "      <td>398936</td>\n",
       "    </tr>\n",
       "    <tr>\n",
       "      <th>4</th>\n",
       "      <td>Phrae</td>\n",
       "      <td>2017</td>\n",
       "      <td>410382</td>\n",
       "    </tr>\n",
       "    <tr>\n",
       "      <th>5</th>\n",
       "      <td>Phrae</td>\n",
       "      <td>2018</td>\n",
       "      <td>421653</td>\n",
       "    </tr>\n",
       "  </tbody>\n",
       "</table>\n",
       "</div>"
      ],
      "text/plain": [
       "     province  year  population\n",
       "0  Chiang Mai  2016     1630428\n",
       "1  Chiang Mai  2017     1664012\n",
       "2  Chiang Mai  2018     1687971\n",
       "3       Phrae  2016      398936\n",
       "4       Phrae  2017      410382\n",
       "5       Phrae  2018      421653"
      ]
     },
     "execution_count": 16,
     "metadata": {},
     "output_type": "execute_result"
    }
   ],
   "source": [
    "# Create From a Dict\n",
    "data = {\n",
    "    'province': ['Chiang Mai', 'Chiang Mai', 'Chiang Mai', 'Phrae', 'Phrae', 'Phrae'],\n",
    "    'year': [2016, 2017, 2018, 2016, 2017, 2018],\n",
    "    'population': [1630428, 1664012, 1687971, 398936, 410382, 421653]\n",
    "}\n",
    "df = pd.DataFrame(data)\n",
    "df"
   ]
  },
  {
   "cell_type": "code",
   "execution_count": 17,
   "metadata": {
    "colab": {
     "base_uri": "https://localhost:8080/"
    },
    "id": "KAMgnRxziHBe",
    "outputId": "ecb215ab-729d-4043-997d-1098080e7959"
   },
   "outputs": [
    {
     "data": {
      "text/plain": [
       "[['Chiang Mai', 2016, 1630428],\n",
       " ['Chiang Mai', 2017, 1664012],\n",
       " ['Chiang Mai', 2018, 1687971],\n",
       " ['Phrae', 2016, 398936],\n",
       " ['Phrae', 2017, 410382],\n",
       " ['Phrae', 2018, 421653]]"
      ]
     },
     "execution_count": 17,
     "metadata": {},
     "output_type": "execute_result"
    }
   ],
   "source": [
    "# Pandas to List\n",
    "df.values.tolist()"
   ]
  },
  {
   "cell_type": "markdown",
   "metadata": {
    "id": "mgLvfWItiHBh"
   },
   "source": [
    "## Create DataFrame from File"
   ]
  },
  {
   "cell_type": "markdown",
   "metadata": {
    "id": "8An1gYRiiT7J"
   },
   "source": [
    "### Download Data"
   ]
  },
  {
   "cell_type": "markdown",
   "metadata": {
    "id": "-cBxxR8PiHBi"
   },
   "source": [
    "### Read File"
   ]
  },
  {
   "cell_type": "code",
   "execution_count": 18,
   "metadata": {
    "colab": {
     "base_uri": "https://localhost:8080/",
     "height": 237
    },
    "id": "_4Mn5_1_iHBi",
    "outputId": "d8534e6f-751a-4386-9899-d749119192a0"
   },
   "outputs": [
    {
     "data": {
      "text/html": [
       "<div>\n",
       "<style scoped>\n",
       "    .dataframe tbody tr th:only-of-type {\n",
       "        vertical-align: middle;\n",
       "    }\n",
       "\n",
       "    .dataframe tbody tr th {\n",
       "        vertical-align: top;\n",
       "    }\n",
       "\n",
       "    .dataframe thead th {\n",
       "        text-align: right;\n",
       "    }\n",
       "</style>\n",
       "<table border=\"1\" class=\"dataframe\">\n",
       "  <thead>\n",
       "    <tr style=\"text-align: right;\">\n",
       "      <th></th>\n",
       "      <th>province</th>\n",
       "      <th>year</th>\n",
       "      <th>population</th>\n",
       "    </tr>\n",
       "  </thead>\n",
       "  <tbody>\n",
       "    <tr>\n",
       "      <th>0</th>\n",
       "      <td>Chiang Mai</td>\n",
       "      <td>2016</td>\n",
       "      <td>1630428</td>\n",
       "    </tr>\n",
       "    <tr>\n",
       "      <th>1</th>\n",
       "      <td>Chiang Mai</td>\n",
       "      <td>2017</td>\n",
       "      <td>1664012</td>\n",
       "    </tr>\n",
       "    <tr>\n",
       "      <th>2</th>\n",
       "      <td>Chiang Mai</td>\n",
       "      <td>2018</td>\n",
       "      <td>1687971</td>\n",
       "    </tr>\n",
       "    <tr>\n",
       "      <th>3</th>\n",
       "      <td>Phrae</td>\n",
       "      <td>2016</td>\n",
       "      <td>398936</td>\n",
       "    </tr>\n",
       "    <tr>\n",
       "      <th>4</th>\n",
       "      <td>Phrae</td>\n",
       "      <td>2017</td>\n",
       "      <td>410382</td>\n",
       "    </tr>\n",
       "    <tr>\n",
       "      <th>5</th>\n",
       "      <td>Phrae</td>\n",
       "      <td>2018</td>\n",
       "      <td>421653</td>\n",
       "    </tr>\n",
       "  </tbody>\n",
       "</table>\n",
       "</div>"
      ],
      "text/plain": [
       "     province  year  population\n",
       "0  Chiang Mai  2016     1630428\n",
       "1  Chiang Mai  2017     1664012\n",
       "2  Chiang Mai  2018     1687971\n",
       "3       Phrae  2016      398936\n",
       "4       Phrae  2017      410382\n",
       "5       Phrae  2018      421653"
      ]
     },
     "execution_count": 18,
     "metadata": {},
     "output_type": "execute_result"
    }
   ],
   "source": [
    "df = pd.read_csv('https://github.com/kaopanboonyuen/2110446_DataScience_2021s2/raw/main/datasets/sample.csv')\n",
    "df"
   ]
  },
  {
   "cell_type": "code",
   "execution_count": 19,
   "metadata": {
    "colab": {
     "base_uri": "https://localhost:8080/",
     "height": 237
    },
    "id": "RMH6neN4iHBk",
    "outputId": "0fad9f09-1f83-4877-de9e-5a6b06387b93"
   },
   "outputs": [
    {
     "data": {
      "text/html": [
       "<div>\n",
       "<style scoped>\n",
       "    .dataframe tbody tr th:only-of-type {\n",
       "        vertical-align: middle;\n",
       "    }\n",
       "\n",
       "    .dataframe tbody tr th {\n",
       "        vertical-align: top;\n",
       "    }\n",
       "\n",
       "    .dataframe thead th {\n",
       "        text-align: right;\n",
       "    }\n",
       "</style>\n",
       "<table border=\"1\" class=\"dataframe\">\n",
       "  <thead>\n",
       "    <tr style=\"text-align: right;\">\n",
       "      <th></th>\n",
       "      <th>province</th>\n",
       "      <th>year</th>\n",
       "      <th>population</th>\n",
       "    </tr>\n",
       "  </thead>\n",
       "  <tbody>\n",
       "    <tr>\n",
       "      <th>0</th>\n",
       "      <td>Chiang Mai</td>\n",
       "      <td>2016</td>\n",
       "      <td>1630428</td>\n",
       "    </tr>\n",
       "    <tr>\n",
       "      <th>1</th>\n",
       "      <td>Chiang Mai</td>\n",
       "      <td>2017</td>\n",
       "      <td>1664012</td>\n",
       "    </tr>\n",
       "    <tr>\n",
       "      <th>2</th>\n",
       "      <td>Chiang Mai</td>\n",
       "      <td>2018</td>\n",
       "      <td>1687971</td>\n",
       "    </tr>\n",
       "    <tr>\n",
       "      <th>3</th>\n",
       "      <td>Phrae</td>\n",
       "      <td>2016</td>\n",
       "      <td>398936</td>\n",
       "    </tr>\n",
       "    <tr>\n",
       "      <th>4</th>\n",
       "      <td>Phrae</td>\n",
       "      <td>2017</td>\n",
       "      <td>410382</td>\n",
       "    </tr>\n",
       "    <tr>\n",
       "      <th>5</th>\n",
       "      <td>Phrae</td>\n",
       "      <td>2018</td>\n",
       "      <td>421653</td>\n",
       "    </tr>\n",
       "  </tbody>\n",
       "</table>\n",
       "</div>"
      ],
      "text/plain": [
       "     province  year  population\n",
       "0  Chiang Mai  2016     1630428\n",
       "1  Chiang Mai  2017     1664012\n",
       "2  Chiang Mai  2018     1687971\n",
       "3       Phrae  2016      398936\n",
       "4       Phrae  2017      410382\n",
       "5       Phrae  2018      421653"
      ]
     },
     "execution_count": 19,
     "metadata": {},
     "output_type": "execute_result"
    }
   ],
   "source": [
    "df = pd.read_excel('https://github.com/kaopanboonyuen/2110446_DataScience_2021s2/raw/main/datasets/sample.xlsx', sheet_name='sheet1')\n",
    "df"
   ]
  },
  {
   "cell_type": "code",
   "execution_count": 20,
   "metadata": {
    "colab": {
     "base_uri": "https://localhost:8080/",
     "height": 487
    },
    "id": "S1lot6iDiHBn",
    "outputId": "1ec6493b-1303-4dc3-ba7c-4319eec89e09"
   },
   "outputs": [],
   "source": [
    "# df2 = pd.read_sas('https://github.com/kaopanboonyuen/2110446_DataScience_2021s2/raw/main/datasets/pva97nk.sas7bdat')\n",
    "# df2"
   ]
  },
  {
   "cell_type": "markdown",
   "metadata": {
    "id": "D7rfb2HviHBq"
   },
   "source": [
    "### Write File"
   ]
  },
  {
   "cell_type": "code",
   "execution_count": 21,
   "metadata": {
    "id": "3NI4bcRKiHBq"
   },
   "outputs": [],
   "source": [
    "df.to_csv('sample_test.csv', index=False)"
   ]
  },
  {
   "cell_type": "code",
   "execution_count": 22,
   "metadata": {
    "id": "jZq9ckbeiHBt"
   },
   "outputs": [],
   "source": [
    "df.to_excel('sample_test.xlsx', sheet_name='sheet1', index=False)"
   ]
  },
  {
   "cell_type": "markdown",
   "metadata": {
    "id": "lspQn9feiHBv"
   },
   "source": [
    "## Index"
   ]
  },
  {
   "cell_type": "code",
   "execution_count": 23,
   "metadata": {
    "colab": {
     "base_uri": "https://localhost:8080/",
     "height": 269
    },
    "id": "JXkhA468iHBv",
    "outputId": "b7be2e8c-2c39-45cd-cfd3-156dbea9abb9"
   },
   "outputs": [
    {
     "data": {
      "text/html": [
       "<div>\n",
       "<style scoped>\n",
       "    .dataframe tbody tr th:only-of-type {\n",
       "        vertical-align: middle;\n",
       "    }\n",
       "\n",
       "    .dataframe tbody tr th {\n",
       "        vertical-align: top;\n",
       "    }\n",
       "\n",
       "    .dataframe thead th {\n",
       "        text-align: right;\n",
       "    }\n",
       "</style>\n",
       "<table border=\"1\" class=\"dataframe\">\n",
       "  <thead>\n",
       "    <tr style=\"text-align: right;\">\n",
       "      <th></th>\n",
       "      <th>year</th>\n",
       "      <th>population</th>\n",
       "    </tr>\n",
       "    <tr>\n",
       "      <th>province</th>\n",
       "      <th></th>\n",
       "      <th></th>\n",
       "    </tr>\n",
       "  </thead>\n",
       "  <tbody>\n",
       "    <tr>\n",
       "      <th>Chiang Mai</th>\n",
       "      <td>2016</td>\n",
       "      <td>1630428</td>\n",
       "    </tr>\n",
       "    <tr>\n",
       "      <th>Chiang Mai</th>\n",
       "      <td>2017</td>\n",
       "      <td>1664012</td>\n",
       "    </tr>\n",
       "    <tr>\n",
       "      <th>Chiang Mai</th>\n",
       "      <td>2018</td>\n",
       "      <td>1687971</td>\n",
       "    </tr>\n",
       "    <tr>\n",
       "      <th>Phrae</th>\n",
       "      <td>2016</td>\n",
       "      <td>398936</td>\n",
       "    </tr>\n",
       "    <tr>\n",
       "      <th>Phrae</th>\n",
       "      <td>2017</td>\n",
       "      <td>410382</td>\n",
       "    </tr>\n",
       "    <tr>\n",
       "      <th>Phrae</th>\n",
       "      <td>2018</td>\n",
       "      <td>421653</td>\n",
       "    </tr>\n",
       "  </tbody>\n",
       "</table>\n",
       "</div>"
      ],
      "text/plain": [
       "            year  population\n",
       "province                    \n",
       "Chiang Mai  2016     1630428\n",
       "Chiang Mai  2017     1664012\n",
       "Chiang Mai  2018     1687971\n",
       "Phrae       2016      398936\n",
       "Phrae       2017      410382\n",
       "Phrae       2018      421653"
      ]
     },
     "execution_count": 23,
     "metadata": {},
     "output_type": "execute_result"
    }
   ],
   "source": [
    "# Index\n",
    "df.set_index('province')"
   ]
  },
  {
   "cell_type": "code",
   "execution_count": 24,
   "metadata": {
    "colab": {
     "base_uri": "https://localhost:8080/",
     "height": 269
    },
    "id": "iyv_jiVLiHB2",
    "outputId": "44389201-862a-4d18-ba68-1e2d4fbe2a0f"
   },
   "outputs": [
    {
     "data": {
      "text/html": [
       "<div>\n",
       "<style scoped>\n",
       "    .dataframe tbody tr th:only-of-type {\n",
       "        vertical-align: middle;\n",
       "    }\n",
       "\n",
       "    .dataframe tbody tr th {\n",
       "        vertical-align: top;\n",
       "    }\n",
       "\n",
       "    .dataframe thead th {\n",
       "        text-align: right;\n",
       "    }\n",
       "</style>\n",
       "<table border=\"1\" class=\"dataframe\">\n",
       "  <thead>\n",
       "    <tr style=\"text-align: right;\">\n",
       "      <th></th>\n",
       "      <th></th>\n",
       "      <th>population</th>\n",
       "    </tr>\n",
       "    <tr>\n",
       "      <th>province</th>\n",
       "      <th>year</th>\n",
       "      <th></th>\n",
       "    </tr>\n",
       "  </thead>\n",
       "  <tbody>\n",
       "    <tr>\n",
       "      <th rowspan=\"3\" valign=\"top\">Chiang Mai</th>\n",
       "      <th>2016</th>\n",
       "      <td>1630428</td>\n",
       "    </tr>\n",
       "    <tr>\n",
       "      <th>2017</th>\n",
       "      <td>1664012</td>\n",
       "    </tr>\n",
       "    <tr>\n",
       "      <th>2018</th>\n",
       "      <td>1687971</td>\n",
       "    </tr>\n",
       "    <tr>\n",
       "      <th rowspan=\"3\" valign=\"top\">Phrae</th>\n",
       "      <th>2016</th>\n",
       "      <td>398936</td>\n",
       "    </tr>\n",
       "    <tr>\n",
       "      <th>2017</th>\n",
       "      <td>410382</td>\n",
       "    </tr>\n",
       "    <tr>\n",
       "      <th>2018</th>\n",
       "      <td>421653</td>\n",
       "    </tr>\n",
       "  </tbody>\n",
       "</table>\n",
       "</div>"
      ],
      "text/plain": [
       "                 population\n",
       "province   year            \n",
       "Chiang Mai 2016     1630428\n",
       "           2017     1664012\n",
       "           2018     1687971\n",
       "Phrae      2016      398936\n",
       "           2017      410382\n",
       "           2018      421653"
      ]
     },
     "execution_count": 24,
     "metadata": {},
     "output_type": "execute_result"
    }
   ],
   "source": [
    "# Index\n",
    "df2 = df.set_index(['province','year'])\n",
    "df2"
   ]
  },
  {
   "cell_type": "code",
   "execution_count": 25,
   "metadata": {
    "colab": {
     "base_uri": "https://localhost:8080/",
     "height": 237
    },
    "id": "DRNlEBhdiHB7",
    "outputId": "620cecea-229e-4193-d5dc-6245160e3f4f",
    "scrolled": true
   },
   "outputs": [
    {
     "data": {
      "text/html": [
       "<div>\n",
       "<style scoped>\n",
       "    .dataframe tbody tr th:only-of-type {\n",
       "        vertical-align: middle;\n",
       "    }\n",
       "\n",
       "    .dataframe tbody tr th {\n",
       "        vertical-align: top;\n",
       "    }\n",
       "\n",
       "    .dataframe thead th {\n",
       "        text-align: right;\n",
       "    }\n",
       "</style>\n",
       "<table border=\"1\" class=\"dataframe\">\n",
       "  <thead>\n",
       "    <tr style=\"text-align: right;\">\n",
       "      <th></th>\n",
       "      <th>province</th>\n",
       "      <th>year</th>\n",
       "      <th>population</th>\n",
       "    </tr>\n",
       "  </thead>\n",
       "  <tbody>\n",
       "    <tr>\n",
       "      <th>0</th>\n",
       "      <td>Chiang Mai</td>\n",
       "      <td>2016</td>\n",
       "      <td>1630428</td>\n",
       "    </tr>\n",
       "    <tr>\n",
       "      <th>1</th>\n",
       "      <td>Chiang Mai</td>\n",
       "      <td>2017</td>\n",
       "      <td>1664012</td>\n",
       "    </tr>\n",
       "    <tr>\n",
       "      <th>2</th>\n",
       "      <td>Chiang Mai</td>\n",
       "      <td>2018</td>\n",
       "      <td>1687971</td>\n",
       "    </tr>\n",
       "    <tr>\n",
       "      <th>3</th>\n",
       "      <td>Phrae</td>\n",
       "      <td>2016</td>\n",
       "      <td>398936</td>\n",
       "    </tr>\n",
       "    <tr>\n",
       "      <th>4</th>\n",
       "      <td>Phrae</td>\n",
       "      <td>2017</td>\n",
       "      <td>410382</td>\n",
       "    </tr>\n",
       "    <tr>\n",
       "      <th>5</th>\n",
       "      <td>Phrae</td>\n",
       "      <td>2018</td>\n",
       "      <td>421653</td>\n",
       "    </tr>\n",
       "  </tbody>\n",
       "</table>\n",
       "</div>"
      ],
      "text/plain": [
       "     province  year  population\n",
       "0  Chiang Mai  2016     1630428\n",
       "1  Chiang Mai  2017     1664012\n",
       "2  Chiang Mai  2018     1687971\n",
       "3       Phrae  2016      398936\n",
       "4       Phrae  2017      410382\n",
       "5       Phrae  2018      421653"
      ]
     },
     "execution_count": 25,
     "metadata": {},
     "output_type": "execute_result"
    }
   ],
   "source": [
    "df2.reset_index()"
   ]
  },
  {
   "cell_type": "markdown",
   "metadata": {
    "id": "ZzoKCDfYiHB-"
   },
   "source": [
    "## Inspecting Data"
   ]
  },
  {
   "cell_type": "markdown",
   "metadata": {
    "id": "rqaJ-bqciHB_"
   },
   "source": [
    "### Row"
   ]
  },
  {
   "cell_type": "markdown",
   "metadata": {
    "id": "NZ_7JT0CiHB_"
   },
   "source": [
    "#### View"
   ]
  },
  {
   "cell_type": "code",
   "execution_count": 26,
   "metadata": {
    "colab": {
     "base_uri": "https://localhost:8080/",
     "height": 143
    },
    "id": "rVDMNZ60iHB_",
    "outputId": "004d8ede-b084-41cc-ecd3-2430e026321a"
   },
   "outputs": [
    {
     "data": {
      "text/html": [
       "<div>\n",
       "<style scoped>\n",
       "    .dataframe tbody tr th:only-of-type {\n",
       "        vertical-align: middle;\n",
       "    }\n",
       "\n",
       "    .dataframe tbody tr th {\n",
       "        vertical-align: top;\n",
       "    }\n",
       "\n",
       "    .dataframe thead th {\n",
       "        text-align: right;\n",
       "    }\n",
       "</style>\n",
       "<table border=\"1\" class=\"dataframe\">\n",
       "  <thead>\n",
       "    <tr style=\"text-align: right;\">\n",
       "      <th></th>\n",
       "      <th>province</th>\n",
       "      <th>year</th>\n",
       "      <th>population</th>\n",
       "    </tr>\n",
       "  </thead>\n",
       "  <tbody>\n",
       "    <tr>\n",
       "      <th>0</th>\n",
       "      <td>Chiang Mai</td>\n",
       "      <td>2016</td>\n",
       "      <td>1630428</td>\n",
       "    </tr>\n",
       "    <tr>\n",
       "      <th>1</th>\n",
       "      <td>Chiang Mai</td>\n",
       "      <td>2017</td>\n",
       "      <td>1664012</td>\n",
       "    </tr>\n",
       "    <tr>\n",
       "      <th>2</th>\n",
       "      <td>Chiang Mai</td>\n",
       "      <td>2018</td>\n",
       "      <td>1687971</td>\n",
       "    </tr>\n",
       "  </tbody>\n",
       "</table>\n",
       "</div>"
      ],
      "text/plain": [
       "     province  year  population\n",
       "0  Chiang Mai  2016     1630428\n",
       "1  Chiang Mai  2017     1664012\n",
       "2  Chiang Mai  2018     1687971"
      ]
     },
     "execution_count": 26,
     "metadata": {},
     "output_type": "execute_result"
    }
   ],
   "source": [
    "df.head(3)"
   ]
  },
  {
   "cell_type": "code",
   "execution_count": 27,
   "metadata": {
    "colab": {
     "base_uri": "https://localhost:8080/",
     "height": 143
    },
    "id": "luFo6_ePiHCC",
    "outputId": "b949dafa-2846-4b2d-e383-11cf8efe0955"
   },
   "outputs": [
    {
     "data": {
      "text/html": [
       "<div>\n",
       "<style scoped>\n",
       "    .dataframe tbody tr th:only-of-type {\n",
       "        vertical-align: middle;\n",
       "    }\n",
       "\n",
       "    .dataframe tbody tr th {\n",
       "        vertical-align: top;\n",
       "    }\n",
       "\n",
       "    .dataframe thead th {\n",
       "        text-align: right;\n",
       "    }\n",
       "</style>\n",
       "<table border=\"1\" class=\"dataframe\">\n",
       "  <thead>\n",
       "    <tr style=\"text-align: right;\">\n",
       "      <th></th>\n",
       "      <th>province</th>\n",
       "      <th>year</th>\n",
       "      <th>population</th>\n",
       "    </tr>\n",
       "  </thead>\n",
       "  <tbody>\n",
       "    <tr>\n",
       "      <th>3</th>\n",
       "      <td>Phrae</td>\n",
       "      <td>2016</td>\n",
       "      <td>398936</td>\n",
       "    </tr>\n",
       "    <tr>\n",
       "      <th>4</th>\n",
       "      <td>Phrae</td>\n",
       "      <td>2017</td>\n",
       "      <td>410382</td>\n",
       "    </tr>\n",
       "    <tr>\n",
       "      <th>5</th>\n",
       "      <td>Phrae</td>\n",
       "      <td>2018</td>\n",
       "      <td>421653</td>\n",
       "    </tr>\n",
       "  </tbody>\n",
       "</table>\n",
       "</div>"
      ],
      "text/plain": [
       "  province  year  population\n",
       "3    Phrae  2016      398936\n",
       "4    Phrae  2017      410382\n",
       "5    Phrae  2018      421653"
      ]
     },
     "execution_count": 27,
     "metadata": {},
     "output_type": "execute_result"
    }
   ],
   "source": [
    "df.tail(3)"
   ]
  },
  {
   "cell_type": "markdown",
   "metadata": {
    "id": "Vys2BQhkiHCH"
   },
   "source": [
    "#### Sample"
   ]
  },
  {
   "cell_type": "code",
   "execution_count": 28,
   "metadata": {
    "colab": {
     "base_uri": "https://localhost:8080/",
     "height": 269
    },
    "id": "sEBkpnwFiHCI",
    "outputId": "c87e8c23-85ca-4946-dc2a-76ad8989c90c"
   },
   "outputs": [
    {
     "data": {
      "text/html": [
       "<div>\n",
       "<style scoped>\n",
       "    .dataframe tbody tr th:only-of-type {\n",
       "        vertical-align: middle;\n",
       "    }\n",
       "\n",
       "    .dataframe tbody tr th {\n",
       "        vertical-align: top;\n",
       "    }\n",
       "\n",
       "    .dataframe thead th {\n",
       "        text-align: right;\n",
       "    }\n",
       "</style>\n",
       "<table border=\"1\" class=\"dataframe\">\n",
       "  <thead>\n",
       "    <tr style=\"text-align: right;\">\n",
       "      <th></th>\n",
       "      <th>province</th>\n",
       "      <th>year</th>\n",
       "      <th>population</th>\n",
       "    </tr>\n",
       "  </thead>\n",
       "  <tbody>\n",
       "    <tr>\n",
       "      <th>5</th>\n",
       "      <td>Phrae</td>\n",
       "      <td>2018</td>\n",
       "      <td>421653</td>\n",
       "    </tr>\n",
       "    <tr>\n",
       "      <th>3</th>\n",
       "      <td>Phrae</td>\n",
       "      <td>2016</td>\n",
       "      <td>398936</td>\n",
       "    </tr>\n",
       "    <tr>\n",
       "      <th>1</th>\n",
       "      <td>Chiang Mai</td>\n",
       "      <td>2017</td>\n",
       "      <td>1664012</td>\n",
       "    </tr>\n",
       "  </tbody>\n",
       "</table>\n",
       "</div>"
      ],
      "text/plain": [
       "     province  year  population\n",
       "5       Phrae  2018      421653\n",
       "3       Phrae  2016      398936\n",
       "1  Chiang Mai  2017     1664012"
      ]
     },
     "metadata": {},
     "output_type": "display_data"
    },
    {
     "data": {
      "text/html": [
       "<div>\n",
       "<style scoped>\n",
       "    .dataframe tbody tr th:only-of-type {\n",
       "        vertical-align: middle;\n",
       "    }\n",
       "\n",
       "    .dataframe tbody tr th {\n",
       "        vertical-align: top;\n",
       "    }\n",
       "\n",
       "    .dataframe thead th {\n",
       "        text-align: right;\n",
       "    }\n",
       "</style>\n",
       "<table border=\"1\" class=\"dataframe\">\n",
       "  <thead>\n",
       "    <tr style=\"text-align: right;\">\n",
       "      <th></th>\n",
       "      <th>province</th>\n",
       "      <th>year</th>\n",
       "      <th>population</th>\n",
       "    </tr>\n",
       "  </thead>\n",
       "  <tbody>\n",
       "    <tr>\n",
       "      <th>1</th>\n",
       "      <td>Chiang Mai</td>\n",
       "      <td>2017</td>\n",
       "      <td>1664012</td>\n",
       "    </tr>\n",
       "    <tr>\n",
       "      <th>3</th>\n",
       "      <td>Phrae</td>\n",
       "      <td>2016</td>\n",
       "      <td>398936</td>\n",
       "    </tr>\n",
       "    <tr>\n",
       "      <th>0</th>\n",
       "      <td>Chiang Mai</td>\n",
       "      <td>2016</td>\n",
       "      <td>1630428</td>\n",
       "    </tr>\n",
       "  </tbody>\n",
       "</table>\n",
       "</div>"
      ],
      "text/plain": [
       "     province  year  population\n",
       "1  Chiang Mai  2017     1664012\n",
       "3       Phrae  2016      398936\n",
       "0  Chiang Mai  2016     1630428"
      ]
     },
     "metadata": {},
     "output_type": "display_data"
    }
   ],
   "source": [
    "#Random\n",
    "display(df.sample(3))\n",
    "display(df.sample(3))"
   ]
  },
  {
   "cell_type": "code",
   "execution_count": 29,
   "metadata": {
    "colab": {
     "base_uri": "https://localhost:8080/",
     "height": 269
    },
    "id": "DrSZIDKAiHCM",
    "outputId": "2f56faef-97bd-458a-be22-38c3ef52ad6d"
   },
   "outputs": [
    {
     "data": {
      "text/html": [
       "<div>\n",
       "<style scoped>\n",
       "    .dataframe tbody tr th:only-of-type {\n",
       "        vertical-align: middle;\n",
       "    }\n",
       "\n",
       "    .dataframe tbody tr th {\n",
       "        vertical-align: top;\n",
       "    }\n",
       "\n",
       "    .dataframe thead th {\n",
       "        text-align: right;\n",
       "    }\n",
       "</style>\n",
       "<table border=\"1\" class=\"dataframe\">\n",
       "  <thead>\n",
       "    <tr style=\"text-align: right;\">\n",
       "      <th></th>\n",
       "      <th>province</th>\n",
       "      <th>year</th>\n",
       "      <th>population</th>\n",
       "    </tr>\n",
       "  </thead>\n",
       "  <tbody>\n",
       "    <tr>\n",
       "      <th>1</th>\n",
       "      <td>Chiang Mai</td>\n",
       "      <td>2017</td>\n",
       "      <td>1664012</td>\n",
       "    </tr>\n",
       "    <tr>\n",
       "      <th>3</th>\n",
       "      <td>Phrae</td>\n",
       "      <td>2016</td>\n",
       "      <td>398936</td>\n",
       "    </tr>\n",
       "    <tr>\n",
       "      <th>4</th>\n",
       "      <td>Phrae</td>\n",
       "      <td>2017</td>\n",
       "      <td>410382</td>\n",
       "    </tr>\n",
       "  </tbody>\n",
       "</table>\n",
       "</div>"
      ],
      "text/plain": [
       "     province  year  population\n",
       "1  Chiang Mai  2017     1664012\n",
       "3       Phrae  2016      398936\n",
       "4       Phrae  2017      410382"
      ]
     },
     "metadata": {},
     "output_type": "display_data"
    },
    {
     "data": {
      "text/html": [
       "<div>\n",
       "<style scoped>\n",
       "    .dataframe tbody tr th:only-of-type {\n",
       "        vertical-align: middle;\n",
       "    }\n",
       "\n",
       "    .dataframe tbody tr th {\n",
       "        vertical-align: top;\n",
       "    }\n",
       "\n",
       "    .dataframe thead th {\n",
       "        text-align: right;\n",
       "    }\n",
       "</style>\n",
       "<table border=\"1\" class=\"dataframe\">\n",
       "  <thead>\n",
       "    <tr style=\"text-align: right;\">\n",
       "      <th></th>\n",
       "      <th>province</th>\n",
       "      <th>year</th>\n",
       "      <th>population</th>\n",
       "    </tr>\n",
       "  </thead>\n",
       "  <tbody>\n",
       "    <tr>\n",
       "      <th>1</th>\n",
       "      <td>Chiang Mai</td>\n",
       "      <td>2017</td>\n",
       "      <td>1664012</td>\n",
       "    </tr>\n",
       "    <tr>\n",
       "      <th>3</th>\n",
       "      <td>Phrae</td>\n",
       "      <td>2016</td>\n",
       "      <td>398936</td>\n",
       "    </tr>\n",
       "    <tr>\n",
       "      <th>4</th>\n",
       "      <td>Phrae</td>\n",
       "      <td>2017</td>\n",
       "      <td>410382</td>\n",
       "    </tr>\n",
       "  </tbody>\n",
       "</table>\n",
       "</div>"
      ],
      "text/plain": [
       "     province  year  population\n",
       "1  Chiang Mai  2017     1664012\n",
       "3       Phrae  2016      398936\n",
       "4       Phrae  2017      410382"
      ]
     },
     "metadata": {},
     "output_type": "display_data"
    }
   ],
   "source": [
    "#Random with fix random_state\n",
    "display(df.sample(3, random_state = 123))\n",
    "display(df.sample(3, random_state = 123))"
   ]
  },
  {
   "cell_type": "markdown",
   "metadata": {
    "id": "M7x3wdOZiHCQ"
   },
   "source": [
    "#### Get Some Rows"
   ]
  },
  {
   "cell_type": "code",
   "execution_count": 30,
   "metadata": {
    "colab": {
     "base_uri": "https://localhost:8080/",
     "height": 269
    },
    "id": "MIBlF5uxiHCR",
    "outputId": "c7268592-03d5-4c44-840d-55bdad028ed0"
   },
   "outputs": [
    {
     "data": {
      "text/html": [
       "<div>\n",
       "<style scoped>\n",
       "    .dataframe tbody tr th:only-of-type {\n",
       "        vertical-align: middle;\n",
       "    }\n",
       "\n",
       "    .dataframe tbody tr th {\n",
       "        vertical-align: top;\n",
       "    }\n",
       "\n",
       "    .dataframe thead th {\n",
       "        text-align: right;\n",
       "    }\n",
       "</style>\n",
       "<table border=\"1\" class=\"dataframe\">\n",
       "  <thead>\n",
       "    <tr style=\"text-align: right;\">\n",
       "      <th></th>\n",
       "      <th>year</th>\n",
       "      <th>population</th>\n",
       "    </tr>\n",
       "    <tr>\n",
       "      <th>province</th>\n",
       "      <th></th>\n",
       "      <th></th>\n",
       "    </tr>\n",
       "  </thead>\n",
       "  <tbody>\n",
       "    <tr>\n",
       "      <th>Chiang Mai</th>\n",
       "      <td>2016</td>\n",
       "      <td>1630428</td>\n",
       "    </tr>\n",
       "    <tr>\n",
       "      <th>Chiang Mai</th>\n",
       "      <td>2017</td>\n",
       "      <td>1664012</td>\n",
       "    </tr>\n",
       "    <tr>\n",
       "      <th>Chiang Mai</th>\n",
       "      <td>2018</td>\n",
       "      <td>1687971</td>\n",
       "    </tr>\n",
       "    <tr>\n",
       "      <th>Phrae</th>\n",
       "      <td>2016</td>\n",
       "      <td>398936</td>\n",
       "    </tr>\n",
       "    <tr>\n",
       "      <th>Phrae</th>\n",
       "      <td>2017</td>\n",
       "      <td>410382</td>\n",
       "    </tr>\n",
       "    <tr>\n",
       "      <th>Phrae</th>\n",
       "      <td>2018</td>\n",
       "      <td>421653</td>\n",
       "    </tr>\n",
       "  </tbody>\n",
       "</table>\n",
       "</div>"
      ],
      "text/plain": [
       "            year  population\n",
       "province                    \n",
       "Chiang Mai  2016     1630428\n",
       "Chiang Mai  2017     1664012\n",
       "Chiang Mai  2018     1687971\n",
       "Phrae       2016      398936\n",
       "Phrae       2017      410382\n",
       "Phrae       2018      421653"
      ]
     },
     "execution_count": 30,
     "metadata": {},
     "output_type": "execute_result"
    }
   ],
   "source": [
    "df2 = df.set_index(['province'])\n",
    "df2"
   ]
  },
  {
   "cell_type": "code",
   "execution_count": 31,
   "metadata": {
    "colab": {
     "base_uri": "https://localhost:8080/"
    },
    "id": "rhwVl28KiHCV",
    "outputId": "6ae5e9d9-f624-4a46-b239-9f333b421e8b"
   },
   "outputs": [
    {
     "data": {
      "text/plain": [
       "year             2016\n",
       "population    1630428\n",
       "Name: Chiang Mai, dtype: int64"
      ]
     },
     "execution_count": 31,
     "metadata": {},
     "output_type": "execute_result"
    }
   ],
   "source": [
    "# Index Position\n",
    "df2.iloc[0]"
   ]
  },
  {
   "cell_type": "code",
   "execution_count": 32,
   "metadata": {
    "colab": {
     "base_uri": "https://localhost:8080/",
     "height": 174
    },
    "id": "Y1QB8EbGiHCX",
    "outputId": "62531dd9-b5d5-4e13-cf36-b0ef02edae0d"
   },
   "outputs": [
    {
     "data": {
      "text/html": [
       "<div>\n",
       "<style scoped>\n",
       "    .dataframe tbody tr th:only-of-type {\n",
       "        vertical-align: middle;\n",
       "    }\n",
       "\n",
       "    .dataframe tbody tr th {\n",
       "        vertical-align: top;\n",
       "    }\n",
       "\n",
       "    .dataframe thead th {\n",
       "        text-align: right;\n",
       "    }\n",
       "</style>\n",
       "<table border=\"1\" class=\"dataframe\">\n",
       "  <thead>\n",
       "    <tr style=\"text-align: right;\">\n",
       "      <th></th>\n",
       "      <th>year</th>\n",
       "      <th>population</th>\n",
       "    </tr>\n",
       "    <tr>\n",
       "      <th>province</th>\n",
       "      <th></th>\n",
       "      <th></th>\n",
       "    </tr>\n",
       "  </thead>\n",
       "  <tbody>\n",
       "    <tr>\n",
       "      <th>Chiang Mai</th>\n",
       "      <td>2017</td>\n",
       "      <td>1664012</td>\n",
       "    </tr>\n",
       "    <tr>\n",
       "      <th>Chiang Mai</th>\n",
       "      <td>2018</td>\n",
       "      <td>1687971</td>\n",
       "    </tr>\n",
       "    <tr>\n",
       "      <th>Phrae</th>\n",
       "      <td>2016</td>\n",
       "      <td>398936</td>\n",
       "    </tr>\n",
       "  </tbody>\n",
       "</table>\n",
       "</div>"
      ],
      "text/plain": [
       "            year  population\n",
       "province                    \n",
       "Chiang Mai  2017     1664012\n",
       "Chiang Mai  2018     1687971\n",
       "Phrae       2016      398936"
      ]
     },
     "execution_count": 32,
     "metadata": {},
     "output_type": "execute_result"
    }
   ],
   "source": [
    "# Index Position\n",
    "df2.iloc[1:4]"
   ]
  },
  {
   "cell_type": "code",
   "execution_count": 33,
   "metadata": {
    "colab": {
     "base_uri": "https://localhost:8080/",
     "height": 174
    },
    "id": "fvb3yNUBiHCa",
    "outputId": "c6d99d29-224a-4067-99b2-b9ce3ac9ff55"
   },
   "outputs": [
    {
     "data": {
      "text/html": [
       "<div>\n",
       "<style scoped>\n",
       "    .dataframe tbody tr th:only-of-type {\n",
       "        vertical-align: middle;\n",
       "    }\n",
       "\n",
       "    .dataframe tbody tr th {\n",
       "        vertical-align: top;\n",
       "    }\n",
       "\n",
       "    .dataframe thead th {\n",
       "        text-align: right;\n",
       "    }\n",
       "</style>\n",
       "<table border=\"1\" class=\"dataframe\">\n",
       "  <thead>\n",
       "    <tr style=\"text-align: right;\">\n",
       "      <th></th>\n",
       "      <th>year</th>\n",
       "      <th>population</th>\n",
       "    </tr>\n",
       "    <tr>\n",
       "      <th>province</th>\n",
       "      <th></th>\n",
       "      <th></th>\n",
       "    </tr>\n",
       "  </thead>\n",
       "  <tbody>\n",
       "    <tr>\n",
       "      <th>Chiang Mai</th>\n",
       "      <td>2016</td>\n",
       "      <td>1630428</td>\n",
       "    </tr>\n",
       "    <tr>\n",
       "      <th>Chiang Mai</th>\n",
       "      <td>2017</td>\n",
       "      <td>1664012</td>\n",
       "    </tr>\n",
       "    <tr>\n",
       "      <th>Chiang Mai</th>\n",
       "      <td>2018</td>\n",
       "      <td>1687971</td>\n",
       "    </tr>\n",
       "  </tbody>\n",
       "</table>\n",
       "</div>"
      ],
      "text/plain": [
       "            year  population\n",
       "province                    \n",
       "Chiang Mai  2016     1630428\n",
       "Chiang Mai  2017     1664012\n",
       "Chiang Mai  2018     1687971"
      ]
     },
     "execution_count": 33,
     "metadata": {},
     "output_type": "execute_result"
    }
   ],
   "source": [
    "# Index name\n",
    "df2.loc['Chiang Mai']"
   ]
  },
  {
   "cell_type": "code",
   "execution_count": 34,
   "metadata": {
    "colab": {
     "base_uri": "https://localhost:8080/",
     "height": 269
    },
    "id": "Bok1Z6y6iHCc",
    "outputId": "d19c8bea-6394-4968-89cf-c5cb43c49e67"
   },
   "outputs": [
    {
     "data": {
      "text/html": [
       "<div>\n",
       "<style scoped>\n",
       "    .dataframe tbody tr th:only-of-type {\n",
       "        vertical-align: middle;\n",
       "    }\n",
       "\n",
       "    .dataframe tbody tr th {\n",
       "        vertical-align: top;\n",
       "    }\n",
       "\n",
       "    .dataframe thead th {\n",
       "        text-align: right;\n",
       "    }\n",
       "</style>\n",
       "<table border=\"1\" class=\"dataframe\">\n",
       "  <thead>\n",
       "    <tr style=\"text-align: right;\">\n",
       "      <th></th>\n",
       "      <th>year</th>\n",
       "      <th>population</th>\n",
       "    </tr>\n",
       "    <tr>\n",
       "      <th>province</th>\n",
       "      <th></th>\n",
       "      <th></th>\n",
       "    </tr>\n",
       "  </thead>\n",
       "  <tbody>\n",
       "    <tr>\n",
       "      <th>Chiang Mai</th>\n",
       "      <td>2016</td>\n",
       "      <td>1630428</td>\n",
       "    </tr>\n",
       "    <tr>\n",
       "      <th>Chiang Mai</th>\n",
       "      <td>2017</td>\n",
       "      <td>1664012</td>\n",
       "    </tr>\n",
       "    <tr>\n",
       "      <th>Chiang Mai</th>\n",
       "      <td>2018</td>\n",
       "      <td>1687971</td>\n",
       "    </tr>\n",
       "    <tr>\n",
       "      <th>Phrae</th>\n",
       "      <td>2016</td>\n",
       "      <td>398936</td>\n",
       "    </tr>\n",
       "    <tr>\n",
       "      <th>Phrae</th>\n",
       "      <td>2017</td>\n",
       "      <td>410382</td>\n",
       "    </tr>\n",
       "    <tr>\n",
       "      <th>Phrae</th>\n",
       "      <td>2018</td>\n",
       "      <td>421653</td>\n",
       "    </tr>\n",
       "  </tbody>\n",
       "</table>\n",
       "</div>"
      ],
      "text/plain": [
       "            year  population\n",
       "province                    \n",
       "Chiang Mai  2016     1630428\n",
       "Chiang Mai  2017     1664012\n",
       "Chiang Mai  2018     1687971\n",
       "Phrae       2016      398936\n",
       "Phrae       2017      410382\n",
       "Phrae       2018      421653"
      ]
     },
     "execution_count": 34,
     "metadata": {},
     "output_type": "execute_result"
    }
   ],
   "source": [
    "# Index name\n",
    "df2.loc[['Chiang Mai','Phrae']]"
   ]
  },
  {
   "cell_type": "markdown",
   "metadata": {
    "id": "kOwYAw9MiHCg"
   },
   "source": [
    "### Column"
   ]
  },
  {
   "cell_type": "code",
   "execution_count": 35,
   "metadata": {
    "colab": {
     "base_uri": "https://localhost:8080/"
    },
    "id": "y84QKNJ1iHCh",
    "outputId": "0566632f-0476-4788-ac41-56ac6ec8cebf"
   },
   "outputs": [
    {
     "data": {
      "text/plain": [
       "Index(['province', 'year', 'population'], dtype='object')"
      ]
     },
     "execution_count": 35,
     "metadata": {},
     "output_type": "execute_result"
    }
   ],
   "source": [
    "df.columns"
   ]
  },
  {
   "cell_type": "code",
   "execution_count": 36,
   "metadata": {
    "colab": {
     "base_uri": "https://localhost:8080/",
     "height": 237
    },
    "id": "N9M6jlhaiHCl",
    "outputId": "37addc1c-c90d-4494-b278-a085c8d01328"
   },
   "outputs": [
    {
     "data": {
      "text/html": [
       "<div>\n",
       "<style scoped>\n",
       "    .dataframe tbody tr th:only-of-type {\n",
       "        vertical-align: middle;\n",
       "    }\n",
       "\n",
       "    .dataframe tbody tr th {\n",
       "        vertical-align: top;\n",
       "    }\n",
       "\n",
       "    .dataframe thead th {\n",
       "        text-align: right;\n",
       "    }\n",
       "</style>\n",
       "<table border=\"1\" class=\"dataframe\">\n",
       "  <thead>\n",
       "    <tr style=\"text-align: right;\">\n",
       "      <th></th>\n",
       "      <th>year</th>\n",
       "      <th>population</th>\n",
       "    </tr>\n",
       "  </thead>\n",
       "  <tbody>\n",
       "    <tr>\n",
       "      <th>0</th>\n",
       "      <td>2016</td>\n",
       "      <td>1630428</td>\n",
       "    </tr>\n",
       "    <tr>\n",
       "      <th>1</th>\n",
       "      <td>2017</td>\n",
       "      <td>1664012</td>\n",
       "    </tr>\n",
       "    <tr>\n",
       "      <th>2</th>\n",
       "      <td>2018</td>\n",
       "      <td>1687971</td>\n",
       "    </tr>\n",
       "    <tr>\n",
       "      <th>3</th>\n",
       "      <td>2016</td>\n",
       "      <td>398936</td>\n",
       "    </tr>\n",
       "    <tr>\n",
       "      <th>4</th>\n",
       "      <td>2017</td>\n",
       "      <td>410382</td>\n",
       "    </tr>\n",
       "    <tr>\n",
       "      <th>5</th>\n",
       "      <td>2018</td>\n",
       "      <td>421653</td>\n",
       "    </tr>\n",
       "  </tbody>\n",
       "</table>\n",
       "</div>"
      ],
      "text/plain": [
       "   year  population\n",
       "0  2016     1630428\n",
       "1  2017     1664012\n",
       "2  2018     1687971\n",
       "3  2016      398936\n",
       "4  2017      410382\n",
       "5  2018      421653"
      ]
     },
     "execution_count": 36,
     "metadata": {},
     "output_type": "execute_result"
    }
   ],
   "source": [
    "columns_list = ['year','population']\n",
    "df[columns_list]"
   ]
  },
  {
   "cell_type": "code",
   "execution_count": 37,
   "metadata": {
    "colab": {
     "base_uri": "https://localhost:8080/"
    },
    "id": "v60mM5wHY8FQ",
    "outputId": "6ffe3555-b44b-4947-e23b-b333ea030d54"
   },
   "outputs": [
    {
     "data": {
      "text/plain": [
       "0    2016\n",
       "1    2017\n",
       "2    2018\n",
       "3    2016\n",
       "4    2017\n",
       "5    2018\n",
       "Name: year, dtype: int64"
      ]
     },
     "execution_count": 37,
     "metadata": {},
     "output_type": "execute_result"
    }
   ],
   "source": [
    "df.year"
   ]
  },
  {
   "cell_type": "markdown",
   "metadata": {
    "id": "DXfXZpKWiHCp"
   },
   "source": [
    "#### Drop"
   ]
  },
  {
   "cell_type": "code",
   "execution_count": 38,
   "metadata": {
    "colab": {
     "base_uri": "https://localhost:8080/",
     "height": 237
    },
    "id": "cwYBUM8LiHCp",
    "outputId": "e33461b1-d653-441e-dd64-70b01347ed27"
   },
   "outputs": [
    {
     "data": {
      "text/html": [
       "<div>\n",
       "<style scoped>\n",
       "    .dataframe tbody tr th:only-of-type {\n",
       "        vertical-align: middle;\n",
       "    }\n",
       "\n",
       "    .dataframe tbody tr th {\n",
       "        vertical-align: top;\n",
       "    }\n",
       "\n",
       "    .dataframe thead th {\n",
       "        text-align: right;\n",
       "    }\n",
       "</style>\n",
       "<table border=\"1\" class=\"dataframe\">\n",
       "  <thead>\n",
       "    <tr style=\"text-align: right;\">\n",
       "      <th></th>\n",
       "      <th>year</th>\n",
       "      <th>population</th>\n",
       "    </tr>\n",
       "  </thead>\n",
       "  <tbody>\n",
       "    <tr>\n",
       "      <th>0</th>\n",
       "      <td>2016</td>\n",
       "      <td>1630428</td>\n",
       "    </tr>\n",
       "    <tr>\n",
       "      <th>1</th>\n",
       "      <td>2017</td>\n",
       "      <td>1664012</td>\n",
       "    </tr>\n",
       "    <tr>\n",
       "      <th>2</th>\n",
       "      <td>2018</td>\n",
       "      <td>1687971</td>\n",
       "    </tr>\n",
       "    <tr>\n",
       "      <th>3</th>\n",
       "      <td>2016</td>\n",
       "      <td>398936</td>\n",
       "    </tr>\n",
       "    <tr>\n",
       "      <th>4</th>\n",
       "      <td>2017</td>\n",
       "      <td>410382</td>\n",
       "    </tr>\n",
       "    <tr>\n",
       "      <th>5</th>\n",
       "      <td>2018</td>\n",
       "      <td>421653</td>\n",
       "    </tr>\n",
       "  </tbody>\n",
       "</table>\n",
       "</div>"
      ],
      "text/plain": [
       "   year  population\n",
       "0  2016     1630428\n",
       "1  2017     1664012\n",
       "2  2018     1687971\n",
       "3  2016      398936\n",
       "4  2017      410382\n",
       "5  2018      421653"
      ]
     },
     "execution_count": 38,
     "metadata": {},
     "output_type": "execute_result"
    }
   ],
   "source": [
    "df.drop(columns=['province'])"
   ]
  },
  {
   "cell_type": "code",
   "execution_count": 39,
   "metadata": {
    "colab": {
     "base_uri": "https://localhost:8080/",
     "height": 237
    },
    "id": "5X_iV-VlZSoY",
    "outputId": "a0ce3034-b439-495a-df03-9c6a0cb0b7af"
   },
   "outputs": [
    {
     "data": {
      "text/html": [
       "<div>\n",
       "<style scoped>\n",
       "    .dataframe tbody tr th:only-of-type {\n",
       "        vertical-align: middle;\n",
       "    }\n",
       "\n",
       "    .dataframe tbody tr th {\n",
       "        vertical-align: top;\n",
       "    }\n",
       "\n",
       "    .dataframe thead th {\n",
       "        text-align: right;\n",
       "    }\n",
       "</style>\n",
       "<table border=\"1\" class=\"dataframe\">\n",
       "  <thead>\n",
       "    <tr style=\"text-align: right;\">\n",
       "      <th></th>\n",
       "      <th>province</th>\n",
       "      <th>year</th>\n",
       "      <th>population</th>\n",
       "    </tr>\n",
       "  </thead>\n",
       "  <tbody>\n",
       "    <tr>\n",
       "      <th>0</th>\n",
       "      <td>Chiang Mai</td>\n",
       "      <td>2016</td>\n",
       "      <td>1630428</td>\n",
       "    </tr>\n",
       "    <tr>\n",
       "      <th>1</th>\n",
       "      <td>Chiang Mai</td>\n",
       "      <td>2017</td>\n",
       "      <td>1664012</td>\n",
       "    </tr>\n",
       "    <tr>\n",
       "      <th>2</th>\n",
       "      <td>Chiang Mai</td>\n",
       "      <td>2018</td>\n",
       "      <td>1687971</td>\n",
       "    </tr>\n",
       "    <tr>\n",
       "      <th>3</th>\n",
       "      <td>Phrae</td>\n",
       "      <td>2016</td>\n",
       "      <td>398936</td>\n",
       "    </tr>\n",
       "    <tr>\n",
       "      <th>4</th>\n",
       "      <td>Phrae</td>\n",
       "      <td>2017</td>\n",
       "      <td>410382</td>\n",
       "    </tr>\n",
       "    <tr>\n",
       "      <th>5</th>\n",
       "      <td>Phrae</td>\n",
       "      <td>2018</td>\n",
       "      <td>421653</td>\n",
       "    </tr>\n",
       "  </tbody>\n",
       "</table>\n",
       "</div>"
      ],
      "text/plain": [
       "     province  year  population\n",
       "0  Chiang Mai  2016     1630428\n",
       "1  Chiang Mai  2017     1664012\n",
       "2  Chiang Mai  2018     1687971\n",
       "3       Phrae  2016      398936\n",
       "4       Phrae  2017      410382\n",
       "5       Phrae  2018      421653"
      ]
     },
     "execution_count": 39,
     "metadata": {},
     "output_type": "execute_result"
    }
   ],
   "source": [
    "df"
   ]
  },
  {
   "cell_type": "markdown",
   "metadata": {
    "id": "l4LcXPTkiHCt"
   },
   "source": [
    "#### Rename"
   ]
  },
  {
   "cell_type": "code",
   "execution_count": 40,
   "metadata": {
    "colab": {
     "base_uri": "https://localhost:8080/",
     "height": 237
    },
    "id": "VM9E6-CwiHCu",
    "outputId": "7dfdb038-4744-428d-8126-f6388dc766b6"
   },
   "outputs": [
    {
     "data": {
      "text/html": [
       "<div>\n",
       "<style scoped>\n",
       "    .dataframe tbody tr th:only-of-type {\n",
       "        vertical-align: middle;\n",
       "    }\n",
       "\n",
       "    .dataframe tbody tr th {\n",
       "        vertical-align: top;\n",
       "    }\n",
       "\n",
       "    .dataframe thead th {\n",
       "        text-align: right;\n",
       "    }\n",
       "</style>\n",
       "<table border=\"1\" class=\"dataframe\">\n",
       "  <thead>\n",
       "    <tr style=\"text-align: right;\">\n",
       "      <th></th>\n",
       "      <th>Province</th>\n",
       "      <th>Year</th>\n",
       "      <th>Population</th>\n",
       "    </tr>\n",
       "  </thead>\n",
       "  <tbody>\n",
       "    <tr>\n",
       "      <th>0</th>\n",
       "      <td>Chiang Mai</td>\n",
       "      <td>2016</td>\n",
       "      <td>1630428</td>\n",
       "    </tr>\n",
       "    <tr>\n",
       "      <th>1</th>\n",
       "      <td>Chiang Mai</td>\n",
       "      <td>2017</td>\n",
       "      <td>1664012</td>\n",
       "    </tr>\n",
       "    <tr>\n",
       "      <th>2</th>\n",
       "      <td>Chiang Mai</td>\n",
       "      <td>2018</td>\n",
       "      <td>1687971</td>\n",
       "    </tr>\n",
       "    <tr>\n",
       "      <th>3</th>\n",
       "      <td>Phrae</td>\n",
       "      <td>2016</td>\n",
       "      <td>398936</td>\n",
       "    </tr>\n",
       "    <tr>\n",
       "      <th>4</th>\n",
       "      <td>Phrae</td>\n",
       "      <td>2017</td>\n",
       "      <td>410382</td>\n",
       "    </tr>\n",
       "    <tr>\n",
       "      <th>5</th>\n",
       "      <td>Phrae</td>\n",
       "      <td>2018</td>\n",
       "      <td>421653</td>\n",
       "    </tr>\n",
       "  </tbody>\n",
       "</table>\n",
       "</div>"
      ],
      "text/plain": [
       "     Province  Year  Population\n",
       "0  Chiang Mai  2016     1630428\n",
       "1  Chiang Mai  2017     1664012\n",
       "2  Chiang Mai  2018     1687971\n",
       "3       Phrae  2016      398936\n",
       "4       Phrae  2017      410382\n",
       "5       Phrae  2018      421653"
      ]
     },
     "execution_count": 40,
     "metadata": {},
     "output_type": "execute_result"
    }
   ],
   "source": [
    "mapper = {\n",
    "    'province':'Province',\n",
    "    'year':'Year',\n",
    "    'population':'Population'\n",
    "}\n",
    "df.rename(columns=mapper)"
   ]
  },
  {
   "cell_type": "markdown",
   "metadata": {
    "id": "9-UC83wNiHCx"
   },
   "source": [
    "#### Create/Replace Column with Value/Array"
   ]
  },
  {
   "cell_type": "code",
   "execution_count": 41,
   "metadata": {
    "colab": {
     "base_uri": "https://localhost:8080/",
     "height": 237
    },
    "id": "osIehOSgiHCx",
    "outputId": "fdafc2e7-6859-45c0-f899-36a765878268"
   },
   "outputs": [
    {
     "data": {
      "text/html": [
       "<div>\n",
       "<style scoped>\n",
       "    .dataframe tbody tr th:only-of-type {\n",
       "        vertical-align: middle;\n",
       "    }\n",
       "\n",
       "    .dataframe tbody tr th {\n",
       "        vertical-align: top;\n",
       "    }\n",
       "\n",
       "    .dataframe thead th {\n",
       "        text-align: right;\n",
       "    }\n",
       "</style>\n",
       "<table border=\"1\" class=\"dataframe\">\n",
       "  <thead>\n",
       "    <tr style=\"text-align: right;\">\n",
       "      <th></th>\n",
       "      <th>province</th>\n",
       "      <th>year</th>\n",
       "      <th>population</th>\n",
       "      <th>source</th>\n",
       "    </tr>\n",
       "  </thead>\n",
       "  <tbody>\n",
       "    <tr>\n",
       "      <th>0</th>\n",
       "      <td>Chiang Mai</td>\n",
       "      <td>2016</td>\n",
       "      <td>1630428</td>\n",
       "      <td>A</td>\n",
       "    </tr>\n",
       "    <tr>\n",
       "      <th>1</th>\n",
       "      <td>Chiang Mai</td>\n",
       "      <td>2017</td>\n",
       "      <td>1664012</td>\n",
       "      <td>A</td>\n",
       "    </tr>\n",
       "    <tr>\n",
       "      <th>2</th>\n",
       "      <td>Chiang Mai</td>\n",
       "      <td>2018</td>\n",
       "      <td>1687971</td>\n",
       "      <td>A</td>\n",
       "    </tr>\n",
       "    <tr>\n",
       "      <th>3</th>\n",
       "      <td>Phrae</td>\n",
       "      <td>2016</td>\n",
       "      <td>398936</td>\n",
       "      <td>A</td>\n",
       "    </tr>\n",
       "    <tr>\n",
       "      <th>4</th>\n",
       "      <td>Phrae</td>\n",
       "      <td>2017</td>\n",
       "      <td>410382</td>\n",
       "      <td>A</td>\n",
       "    </tr>\n",
       "    <tr>\n",
       "      <th>5</th>\n",
       "      <td>Phrae</td>\n",
       "      <td>2018</td>\n",
       "      <td>421653</td>\n",
       "      <td>A</td>\n",
       "    </tr>\n",
       "  </tbody>\n",
       "</table>\n",
       "</div>"
      ],
      "text/plain": [
       "     province  year  population source\n",
       "0  Chiang Mai  2016     1630428      A\n",
       "1  Chiang Mai  2017     1664012      A\n",
       "2  Chiang Mai  2018     1687971      A\n",
       "3       Phrae  2016      398936      A\n",
       "4       Phrae  2017      410382      A\n",
       "5       Phrae  2018      421653      A"
      ]
     },
     "execution_count": 41,
     "metadata": {},
     "output_type": "execute_result"
    }
   ],
   "source": [
    "df['source'] = 'A'\n",
    "df"
   ]
  },
  {
   "cell_type": "code",
   "execution_count": 42,
   "metadata": {
    "colab": {
     "base_uri": "https://localhost:8080/",
     "height": 237
    },
    "id": "TRLyNOJmiHC3",
    "outputId": "7bd1ceae-6375-4baa-d4a0-90551747eaa8"
   },
   "outputs": [
    {
     "data": {
      "text/html": [
       "<div>\n",
       "<style scoped>\n",
       "    .dataframe tbody tr th:only-of-type {\n",
       "        vertical-align: middle;\n",
       "    }\n",
       "\n",
       "    .dataframe tbody tr th {\n",
       "        vertical-align: top;\n",
       "    }\n",
       "\n",
       "    .dataframe thead th {\n",
       "        text-align: right;\n",
       "    }\n",
       "</style>\n",
       "<table border=\"1\" class=\"dataframe\">\n",
       "  <thead>\n",
       "    <tr style=\"text-align: right;\">\n",
       "      <th></th>\n",
       "      <th>province</th>\n",
       "      <th>year</th>\n",
       "      <th>population</th>\n",
       "      <th>source</th>\n",
       "    </tr>\n",
       "  </thead>\n",
       "  <tbody>\n",
       "    <tr>\n",
       "      <th>0</th>\n",
       "      <td>Chiang Mai</td>\n",
       "      <td>2016</td>\n",
       "      <td>1630428</td>\n",
       "      <td>A</td>\n",
       "    </tr>\n",
       "    <tr>\n",
       "      <th>1</th>\n",
       "      <td>Chiang Mai</td>\n",
       "      <td>2017</td>\n",
       "      <td>1664012</td>\n",
       "      <td>B</td>\n",
       "    </tr>\n",
       "    <tr>\n",
       "      <th>2</th>\n",
       "      <td>Chiang Mai</td>\n",
       "      <td>2018</td>\n",
       "      <td>1687971</td>\n",
       "      <td>A</td>\n",
       "    </tr>\n",
       "    <tr>\n",
       "      <th>3</th>\n",
       "      <td>Phrae</td>\n",
       "      <td>2016</td>\n",
       "      <td>398936</td>\n",
       "      <td>C</td>\n",
       "    </tr>\n",
       "    <tr>\n",
       "      <th>4</th>\n",
       "      <td>Phrae</td>\n",
       "      <td>2017</td>\n",
       "      <td>410382</td>\n",
       "      <td>A</td>\n",
       "    </tr>\n",
       "    <tr>\n",
       "      <th>5</th>\n",
       "      <td>Phrae</td>\n",
       "      <td>2018</td>\n",
       "      <td>421653</td>\n",
       "      <td>B</td>\n",
       "    </tr>\n",
       "  </tbody>\n",
       "</table>\n",
       "</div>"
      ],
      "text/plain": [
       "     province  year  population source\n",
       "0  Chiang Mai  2016     1630428      A\n",
       "1  Chiang Mai  2017     1664012      B\n",
       "2  Chiang Mai  2018     1687971      A\n",
       "3       Phrae  2016      398936      C\n",
       "4       Phrae  2017      410382      A\n",
       "5       Phrae  2018      421653      B"
      ]
     },
     "execution_count": 42,
     "metadata": {},
     "output_type": "execute_result"
    }
   ],
   "source": [
    "df['source'] = ['A','B','A','C','A','B']\n",
    "df"
   ]
  },
  {
   "cell_type": "code",
   "execution_count": 43,
   "metadata": {
    "colab": {
     "base_uri": "https://localhost:8080/",
     "height": 237
    },
    "id": "p2IRL-0JiHC_",
    "outputId": "47b880cd-e063-4d1d-8501-ad2adfdcd0f6"
   },
   "outputs": [
    {
     "data": {
      "text/html": [
       "<div>\n",
       "<style scoped>\n",
       "    .dataframe tbody tr th:only-of-type {\n",
       "        vertical-align: middle;\n",
       "    }\n",
       "\n",
       "    .dataframe tbody tr th {\n",
       "        vertical-align: top;\n",
       "    }\n",
       "\n",
       "    .dataframe thead th {\n",
       "        text-align: right;\n",
       "    }\n",
       "</style>\n",
       "<table border=\"1\" class=\"dataframe\">\n",
       "  <thead>\n",
       "    <tr style=\"text-align: right;\">\n",
       "      <th></th>\n",
       "      <th>province</th>\n",
       "      <th>year</th>\n",
       "      <th>population</th>\n",
       "      <th>source</th>\n",
       "      <th>population (K)</th>\n",
       "    </tr>\n",
       "  </thead>\n",
       "  <tbody>\n",
       "    <tr>\n",
       "      <th>0</th>\n",
       "      <td>Chiang Mai</td>\n",
       "      <td>2016</td>\n",
       "      <td>1630428</td>\n",
       "      <td>A</td>\n",
       "      <td>1630.428</td>\n",
       "    </tr>\n",
       "    <tr>\n",
       "      <th>1</th>\n",
       "      <td>Chiang Mai</td>\n",
       "      <td>2017</td>\n",
       "      <td>1664012</td>\n",
       "      <td>B</td>\n",
       "      <td>1664.012</td>\n",
       "    </tr>\n",
       "    <tr>\n",
       "      <th>2</th>\n",
       "      <td>Chiang Mai</td>\n",
       "      <td>2018</td>\n",
       "      <td>1687971</td>\n",
       "      <td>A</td>\n",
       "      <td>1687.971</td>\n",
       "    </tr>\n",
       "    <tr>\n",
       "      <th>3</th>\n",
       "      <td>Phrae</td>\n",
       "      <td>2016</td>\n",
       "      <td>398936</td>\n",
       "      <td>C</td>\n",
       "      <td>398.936</td>\n",
       "    </tr>\n",
       "    <tr>\n",
       "      <th>4</th>\n",
       "      <td>Phrae</td>\n",
       "      <td>2017</td>\n",
       "      <td>410382</td>\n",
       "      <td>A</td>\n",
       "      <td>410.382</td>\n",
       "    </tr>\n",
       "    <tr>\n",
       "      <th>5</th>\n",
       "      <td>Phrae</td>\n",
       "      <td>2018</td>\n",
       "      <td>421653</td>\n",
       "      <td>B</td>\n",
       "      <td>421.653</td>\n",
       "    </tr>\n",
       "  </tbody>\n",
       "</table>\n",
       "</div>"
      ],
      "text/plain": [
       "     province  year  population source  population (K)\n",
       "0  Chiang Mai  2016     1630428      A        1630.428\n",
       "1  Chiang Mai  2017     1664012      B        1664.012\n",
       "2  Chiang Mai  2018     1687971      A        1687.971\n",
       "3       Phrae  2016      398936      C         398.936\n",
       "4       Phrae  2017      410382      A         410.382\n",
       "5       Phrae  2018      421653      B         421.653"
      ]
     },
     "execution_count": 43,
     "metadata": {},
     "output_type": "execute_result"
    }
   ],
   "source": [
    "df['population (K)'] = df['population'] / 1000\n",
    "df"
   ]
  },
  {
   "cell_type": "code",
   "execution_count": 44,
   "metadata": {
    "colab": {
     "base_uri": "https://localhost:8080/",
     "height": 237
    },
    "id": "z0zEMWmoiHDC",
    "outputId": "542e6760-43de-40d9-c362-35371aad00e7"
   },
   "outputs": [
    {
     "data": {
      "text/html": [
       "<div>\n",
       "<style scoped>\n",
       "    .dataframe tbody tr th:only-of-type {\n",
       "        vertical-align: middle;\n",
       "    }\n",
       "\n",
       "    .dataframe tbody tr th {\n",
       "        vertical-align: top;\n",
       "    }\n",
       "\n",
       "    .dataframe thead th {\n",
       "        text-align: right;\n",
       "    }\n",
       "</style>\n",
       "<table border=\"1\" class=\"dataframe\">\n",
       "  <thead>\n",
       "    <tr style=\"text-align: right;\">\n",
       "      <th></th>\n",
       "      <th>province</th>\n",
       "      <th>year</th>\n",
       "      <th>population</th>\n",
       "      <th>source</th>\n",
       "      <th>population (K)</th>\n",
       "    </tr>\n",
       "  </thead>\n",
       "  <tbody>\n",
       "    <tr>\n",
       "      <th>0</th>\n",
       "      <td>Chiang Mai</td>\n",
       "      <td>2016</td>\n",
       "      <td>1630428</td>\n",
       "      <td>A</td>\n",
       "      <td>1630.428</td>\n",
       "    </tr>\n",
       "    <tr>\n",
       "      <th>1</th>\n",
       "      <td>Chiang Mai</td>\n",
       "      <td>2017</td>\n",
       "      <td>1664012</td>\n",
       "      <td>B</td>\n",
       "      <td>1664.012</td>\n",
       "    </tr>\n",
       "    <tr>\n",
       "      <th>2</th>\n",
       "      <td>Chiang Mai</td>\n",
       "      <td>2018</td>\n",
       "      <td>1687971</td>\n",
       "      <td>A</td>\n",
       "      <td>1687.971</td>\n",
       "    </tr>\n",
       "    <tr>\n",
       "      <th>3</th>\n",
       "      <td>Phrae</td>\n",
       "      <td>2016</td>\n",
       "      <td>398936</td>\n",
       "      <td>C</td>\n",
       "      <td>398.936</td>\n",
       "    </tr>\n",
       "    <tr>\n",
       "      <th>4</th>\n",
       "      <td>Phrae</td>\n",
       "      <td>2017</td>\n",
       "      <td>410382</td>\n",
       "      <td>A</td>\n",
       "      <td>410.382</td>\n",
       "    </tr>\n",
       "    <tr>\n",
       "      <th>5</th>\n",
       "      <td>Phrae</td>\n",
       "      <td>2018</td>\n",
       "      <td>421653</td>\n",
       "      <td>B</td>\n",
       "      <td>421.653</td>\n",
       "    </tr>\n",
       "  </tbody>\n",
       "</table>\n",
       "</div>"
      ],
      "text/plain": [
       "     province  year  population source  population (K)\n",
       "0  Chiang Mai  2016     1630428      A        1630.428\n",
       "1  Chiang Mai  2017     1664012      B        1664.012\n",
       "2  Chiang Mai  2018     1687971      A        1687.971\n",
       "3       Phrae  2016      398936      C         398.936\n",
       "4       Phrae  2017      410382      A         410.382\n",
       "5       Phrae  2018      421653      B         421.653"
      ]
     },
     "execution_count": 44,
     "metadata": {},
     "output_type": "execute_result"
    }
   ],
   "source": [
    "df['population (K)'] = df['population'].apply(lambda x : x / 1000)\n",
    "df"
   ]
  },
  {
   "cell_type": "code",
   "execution_count": 45,
   "metadata": {
    "colab": {
     "base_uri": "https://localhost:8080/",
     "height": 237
    },
    "id": "rcKuUX86bOIM",
    "outputId": "27dc28d8-0479-41d2-f13b-04dc10981921"
   },
   "outputs": [
    {
     "data": {
      "text/html": [
       "<div>\n",
       "<style scoped>\n",
       "    .dataframe tbody tr th:only-of-type {\n",
       "        vertical-align: middle;\n",
       "    }\n",
       "\n",
       "    .dataframe tbody tr th {\n",
       "        vertical-align: top;\n",
       "    }\n",
       "\n",
       "    .dataframe thead th {\n",
       "        text-align: right;\n",
       "    }\n",
       "</style>\n",
       "<table border=\"1\" class=\"dataframe\">\n",
       "  <thead>\n",
       "    <tr style=\"text-align: right;\">\n",
       "      <th></th>\n",
       "      <th>province</th>\n",
       "      <th>year</th>\n",
       "      <th>population</th>\n",
       "      <th>source</th>\n",
       "      <th>population (K)</th>\n",
       "    </tr>\n",
       "  </thead>\n",
       "  <tbody>\n",
       "    <tr>\n",
       "      <th>0</th>\n",
       "      <td>Chiang Mai</td>\n",
       "      <td>2016</td>\n",
       "      <td>1630428</td>\n",
       "      <td>A</td>\n",
       "      <td>1630.428</td>\n",
       "    </tr>\n",
       "    <tr>\n",
       "      <th>1</th>\n",
       "      <td>Chiang Mai</td>\n",
       "      <td>2017</td>\n",
       "      <td>1664012</td>\n",
       "      <td>B</td>\n",
       "      <td>1664.012</td>\n",
       "    </tr>\n",
       "    <tr>\n",
       "      <th>2</th>\n",
       "      <td>Chiang Mai</td>\n",
       "      <td>2018</td>\n",
       "      <td>1687971</td>\n",
       "      <td>A</td>\n",
       "      <td>1687.971</td>\n",
       "    </tr>\n",
       "    <tr>\n",
       "      <th>3</th>\n",
       "      <td>Phrae</td>\n",
       "      <td>2016</td>\n",
       "      <td>398936</td>\n",
       "      <td>C</td>\n",
       "      <td>398.936</td>\n",
       "    </tr>\n",
       "    <tr>\n",
       "      <th>4</th>\n",
       "      <td>Phrae</td>\n",
       "      <td>2017</td>\n",
       "      <td>410382</td>\n",
       "      <td>A</td>\n",
       "      <td>410.382</td>\n",
       "    </tr>\n",
       "    <tr>\n",
       "      <th>5</th>\n",
       "      <td>Phrae</td>\n",
       "      <td>2018</td>\n",
       "      <td>421653</td>\n",
       "      <td>B</td>\n",
       "      <td>421.653</td>\n",
       "    </tr>\n",
       "  </tbody>\n",
       "</table>\n",
       "</div>"
      ],
      "text/plain": [
       "     province  year  population source  population (K)\n",
       "0  Chiang Mai  2016     1630428      A        1630.428\n",
       "1  Chiang Mai  2017     1664012      B        1664.012\n",
       "2  Chiang Mai  2018     1687971      A        1687.971\n",
       "3       Phrae  2016      398936      C         398.936\n",
       "4       Phrae  2017      410382      A         410.382\n",
       "5       Phrae  2018      421653      B         421.653"
      ]
     },
     "execution_count": 45,
     "metadata": {},
     "output_type": "execute_result"
    }
   ],
   "source": [
    "# extra example\n",
    "import math\n",
    "df2 = df.copy()\n",
    "# df2 = df # this will be error since it refers to address (not copy values)\n",
    "df['LN population'] = df['population'].apply(math.log)\n",
    "df2"
   ]
  },
  {
   "cell_type": "markdown",
   "metadata": {
    "id": "8-TVxVbqiHDF"
   },
   "source": [
    "### DataFrame Information"
   ]
  },
  {
   "cell_type": "code",
   "execution_count": 46,
   "metadata": {
    "colab": {
     "base_uri": "https://localhost:8080/"
    },
    "id": "9CTuGZa6iHDG",
    "outputId": "e2ad2d01-3048-47d1-bbb7-063974f9912f"
   },
   "outputs": [
    {
     "data": {
      "text/plain": [
       "pandas.core.frame.DataFrame"
      ]
     },
     "execution_count": 46,
     "metadata": {},
     "output_type": "execute_result"
    }
   ],
   "source": [
    "type(df)"
   ]
  },
  {
   "cell_type": "code",
   "execution_count": 47,
   "metadata": {
    "colab": {
     "base_uri": "https://localhost:8080/"
    },
    "id": "558gdlOhiHDM",
    "outputId": "86124b6c-a98d-455e-b7e4-1615824e8cd8"
   },
   "outputs": [
    {
     "data": {
      "text/plain": [
       "(6, 6)"
      ]
     },
     "execution_count": 47,
     "metadata": {},
     "output_type": "execute_result"
    }
   ],
   "source": [
    "df.shape"
   ]
  },
  {
   "cell_type": "code",
   "execution_count": 48,
   "metadata": {
    "colab": {
     "base_uri": "https://localhost:8080/"
    },
    "id": "RVbKwHxziHDQ",
    "outputId": "957bbba4-1de7-4a56-8409-fbbbd8921bda"
   },
   "outputs": [
    {
     "name": "stdout",
     "output_type": "stream",
     "text": [
      "<class 'pandas.core.frame.DataFrame'>\n",
      "RangeIndex: 6 entries, 0 to 5\n",
      "Data columns (total 6 columns):\n",
      " #   Column          Non-Null Count  Dtype  \n",
      "---  ------          --------------  -----  \n",
      " 0   province        6 non-null      object \n",
      " 1   year            6 non-null      int64  \n",
      " 2   population      6 non-null      int64  \n",
      " 3   source          6 non-null      object \n",
      " 4   population (K)  6 non-null      float64\n",
      " 5   LN population   6 non-null      float64\n",
      "dtypes: float64(2), int64(2), object(2)\n",
      "memory usage: 416.0+ bytes\n"
     ]
    }
   ],
   "source": [
    "df.info()"
   ]
  },
  {
   "cell_type": "code",
   "execution_count": 49,
   "metadata": {
    "colab": {
     "base_uri": "https://localhost:8080/"
    },
    "id": "I7NSQBUDiHDT",
    "outputId": "4bf90d7e-5817-4b39-a745-f2a06a026095"
   },
   "outputs": [
    {
     "data": {
      "text/plain": [
       "province           object\n",
       "year                int64\n",
       "population          int64\n",
       "source             object\n",
       "population (K)    float64\n",
       "LN population     float64\n",
       "dtype: object"
      ]
     },
     "execution_count": 49,
     "metadata": {},
     "output_type": "execute_result"
    }
   ],
   "source": [
    "df.dtypes"
   ]
  },
  {
   "cell_type": "markdown",
   "metadata": {
    "id": "wG1IfRT7iHDY"
   },
   "source": [
    "## Filtering and Sorting"
   ]
  },
  {
   "cell_type": "markdown",
   "metadata": {
    "id": "HC5Kaa6XiHDZ"
   },
   "source": [
    "### Filtering"
   ]
  },
  {
   "cell_type": "code",
   "execution_count": 50,
   "metadata": {
    "colab": {
     "base_uri": "https://localhost:8080/",
     "height": 237
    },
    "id": "ECXMA2kNiHDZ",
    "outputId": "15be3968-ef6b-428a-bf12-4172e087ec52"
   },
   "outputs": [
    {
     "data": {
      "text/html": [
       "<div>\n",
       "<style scoped>\n",
       "    .dataframe tbody tr th:only-of-type {\n",
       "        vertical-align: middle;\n",
       "    }\n",
       "\n",
       "    .dataframe tbody tr th {\n",
       "        vertical-align: top;\n",
       "    }\n",
       "\n",
       "    .dataframe thead th {\n",
       "        text-align: right;\n",
       "    }\n",
       "</style>\n",
       "<table border=\"1\" class=\"dataframe\">\n",
       "  <thead>\n",
       "    <tr style=\"text-align: right;\">\n",
       "      <th></th>\n",
       "      <th>province</th>\n",
       "      <th>year</th>\n",
       "      <th>population</th>\n",
       "      <th>source</th>\n",
       "      <th>population (K)</th>\n",
       "      <th>LN population</th>\n",
       "    </tr>\n",
       "  </thead>\n",
       "  <tbody>\n",
       "    <tr>\n",
       "      <th>0</th>\n",
       "      <td>Chiang Mai</td>\n",
       "      <td>2016</td>\n",
       "      <td>1630428</td>\n",
       "      <td>A</td>\n",
       "      <td>1630.428</td>\n",
       "      <td>14.304353</td>\n",
       "    </tr>\n",
       "    <tr>\n",
       "      <th>1</th>\n",
       "      <td>Chiang Mai</td>\n",
       "      <td>2017</td>\n",
       "      <td>1664012</td>\n",
       "      <td>B</td>\n",
       "      <td>1664.012</td>\n",
       "      <td>14.324742</td>\n",
       "    </tr>\n",
       "    <tr>\n",
       "      <th>2</th>\n",
       "      <td>Chiang Mai</td>\n",
       "      <td>2018</td>\n",
       "      <td>1687971</td>\n",
       "      <td>A</td>\n",
       "      <td>1687.971</td>\n",
       "      <td>14.339038</td>\n",
       "    </tr>\n",
       "    <tr>\n",
       "      <th>3</th>\n",
       "      <td>Phrae</td>\n",
       "      <td>2016</td>\n",
       "      <td>398936</td>\n",
       "      <td>C</td>\n",
       "      <td>398.936</td>\n",
       "      <td>12.896556</td>\n",
       "    </tr>\n",
       "    <tr>\n",
       "      <th>4</th>\n",
       "      <td>Phrae</td>\n",
       "      <td>2017</td>\n",
       "      <td>410382</td>\n",
       "      <td>A</td>\n",
       "      <td>410.382</td>\n",
       "      <td>12.924844</td>\n",
       "    </tr>\n",
       "    <tr>\n",
       "      <th>5</th>\n",
       "      <td>Phrae</td>\n",
       "      <td>2018</td>\n",
       "      <td>421653</td>\n",
       "      <td>B</td>\n",
       "      <td>421.653</td>\n",
       "      <td>12.951938</td>\n",
       "    </tr>\n",
       "  </tbody>\n",
       "</table>\n",
       "</div>"
      ],
      "text/plain": [
       "     province  year  population source  population (K)  LN population\n",
       "0  Chiang Mai  2016     1630428      A        1630.428      14.304353\n",
       "1  Chiang Mai  2017     1664012      B        1664.012      14.324742\n",
       "2  Chiang Mai  2018     1687971      A        1687.971      14.339038\n",
       "3       Phrae  2016      398936      C         398.936      12.896556\n",
       "4       Phrae  2017      410382      A         410.382      12.924844\n",
       "5       Phrae  2018      421653      B         421.653      12.951938"
      ]
     },
     "execution_count": 50,
     "metadata": {},
     "output_type": "execute_result"
    }
   ],
   "source": [
    "condition_list = [True,True,True,True,True,True]\n",
    "df[condition_list]"
   ]
  },
  {
   "cell_type": "code",
   "execution_count": 51,
   "metadata": {
    "colab": {
     "base_uri": "https://localhost:8080/",
     "height": 143
    },
    "id": "AtRshhWziHDd",
    "outputId": "3bf97f9e-1805-4595-91cc-07c3feb72de9"
   },
   "outputs": [
    {
     "data": {
      "text/html": [
       "<div>\n",
       "<style scoped>\n",
       "    .dataframe tbody tr th:only-of-type {\n",
       "        vertical-align: middle;\n",
       "    }\n",
       "\n",
       "    .dataframe tbody tr th {\n",
       "        vertical-align: top;\n",
       "    }\n",
       "\n",
       "    .dataframe thead th {\n",
       "        text-align: right;\n",
       "    }\n",
       "</style>\n",
       "<table border=\"1\" class=\"dataframe\">\n",
       "  <thead>\n",
       "    <tr style=\"text-align: right;\">\n",
       "      <th></th>\n",
       "      <th>province</th>\n",
       "      <th>year</th>\n",
       "      <th>population</th>\n",
       "      <th>source</th>\n",
       "      <th>population (K)</th>\n",
       "      <th>LN population</th>\n",
       "    </tr>\n",
       "  </thead>\n",
       "  <tbody>\n",
       "    <tr>\n",
       "      <th>0</th>\n",
       "      <td>Chiang Mai</td>\n",
       "      <td>2016</td>\n",
       "      <td>1630428</td>\n",
       "      <td>A</td>\n",
       "      <td>1630.428</td>\n",
       "      <td>14.304353</td>\n",
       "    </tr>\n",
       "    <tr>\n",
       "      <th>2</th>\n",
       "      <td>Chiang Mai</td>\n",
       "      <td>2018</td>\n",
       "      <td>1687971</td>\n",
       "      <td>A</td>\n",
       "      <td>1687.971</td>\n",
       "      <td>14.339038</td>\n",
       "    </tr>\n",
       "    <tr>\n",
       "      <th>4</th>\n",
       "      <td>Phrae</td>\n",
       "      <td>2017</td>\n",
       "      <td>410382</td>\n",
       "      <td>A</td>\n",
       "      <td>410.382</td>\n",
       "      <td>12.924844</td>\n",
       "    </tr>\n",
       "  </tbody>\n",
       "</table>\n",
       "</div>"
      ],
      "text/plain": [
       "     province  year  population source  population (K)  LN population\n",
       "0  Chiang Mai  2016     1630428      A        1630.428      14.304353\n",
       "2  Chiang Mai  2018     1687971      A        1687.971      14.339038\n",
       "4       Phrae  2017      410382      A         410.382      12.924844"
      ]
     },
     "execution_count": 51,
     "metadata": {},
     "output_type": "execute_result"
    }
   ],
   "source": [
    "condition_list = [True,False,True,False,True,False]\n",
    "df[condition_list]"
   ]
  },
  {
   "cell_type": "code",
   "execution_count": 52,
   "metadata": {
    "colab": {
     "base_uri": "https://localhost:8080/",
     "height": 265
    },
    "id": "TdOz2AACiHDg",
    "outputId": "567c467f-5662-4974-d15c-1b77e2e87259"
   },
   "outputs": [
    {
     "name": "stdout",
     "output_type": "stream",
     "text": [
      "0     True\n",
      "1     True\n",
      "2     True\n",
      "3    False\n",
      "4    False\n",
      "5    False\n",
      "Name: province, dtype: bool\n"
     ]
    },
    {
     "data": {
      "text/html": [
       "<div>\n",
       "<style scoped>\n",
       "    .dataframe tbody tr th:only-of-type {\n",
       "        vertical-align: middle;\n",
       "    }\n",
       "\n",
       "    .dataframe tbody tr th {\n",
       "        vertical-align: top;\n",
       "    }\n",
       "\n",
       "    .dataframe thead th {\n",
       "        text-align: right;\n",
       "    }\n",
       "</style>\n",
       "<table border=\"1\" class=\"dataframe\">\n",
       "  <thead>\n",
       "    <tr style=\"text-align: right;\">\n",
       "      <th></th>\n",
       "      <th>province</th>\n",
       "      <th>year</th>\n",
       "      <th>population</th>\n",
       "      <th>source</th>\n",
       "      <th>population (K)</th>\n",
       "      <th>LN population</th>\n",
       "    </tr>\n",
       "  </thead>\n",
       "  <tbody>\n",
       "    <tr>\n",
       "      <th>0</th>\n",
       "      <td>Chiang Mai</td>\n",
       "      <td>2016</td>\n",
       "      <td>1630428</td>\n",
       "      <td>A</td>\n",
       "      <td>1630.428</td>\n",
       "      <td>14.304353</td>\n",
       "    </tr>\n",
       "    <tr>\n",
       "      <th>1</th>\n",
       "      <td>Chiang Mai</td>\n",
       "      <td>2017</td>\n",
       "      <td>1664012</td>\n",
       "      <td>B</td>\n",
       "      <td>1664.012</td>\n",
       "      <td>14.324742</td>\n",
       "    </tr>\n",
       "    <tr>\n",
       "      <th>2</th>\n",
       "      <td>Chiang Mai</td>\n",
       "      <td>2018</td>\n",
       "      <td>1687971</td>\n",
       "      <td>A</td>\n",
       "      <td>1687.971</td>\n",
       "      <td>14.339038</td>\n",
       "    </tr>\n",
       "  </tbody>\n",
       "</table>\n",
       "</div>"
      ],
      "text/plain": [
       "     province  year  population source  population (K)  LN population\n",
       "0  Chiang Mai  2016     1630428      A        1630.428      14.304353\n",
       "1  Chiang Mai  2017     1664012      B        1664.012      14.324742\n",
       "2  Chiang Mai  2018     1687971      A        1687.971      14.339038"
      ]
     },
     "metadata": {},
     "output_type": "display_data"
    }
   ],
   "source": [
    "condition_list = df['province'] == 'Chiang Mai'\n",
    "print(condition_list)\n",
    "display(df[condition_list])"
   ]
  },
  {
   "cell_type": "code",
   "execution_count": 53,
   "metadata": {
    "colab": {
     "base_uri": "https://localhost:8080/",
     "height": 265
    },
    "id": "CrjjtfhQiHDl",
    "outputId": "e30bb815-4f54-4d08-c0fb-867c6ea0e0e8"
   },
   "outputs": [
    {
     "name": "stdout",
     "output_type": "stream",
     "text": [
      "0     True\n",
      "1     True\n",
      "2     True\n",
      "3    False\n",
      "4    False\n",
      "5    False\n",
      "Name: population, dtype: bool\n"
     ]
    },
    {
     "data": {
      "text/html": [
       "<div>\n",
       "<style scoped>\n",
       "    .dataframe tbody tr th:only-of-type {\n",
       "        vertical-align: middle;\n",
       "    }\n",
       "\n",
       "    .dataframe tbody tr th {\n",
       "        vertical-align: top;\n",
       "    }\n",
       "\n",
       "    .dataframe thead th {\n",
       "        text-align: right;\n",
       "    }\n",
       "</style>\n",
       "<table border=\"1\" class=\"dataframe\">\n",
       "  <thead>\n",
       "    <tr style=\"text-align: right;\">\n",
       "      <th></th>\n",
       "      <th>province</th>\n",
       "      <th>year</th>\n",
       "      <th>population</th>\n",
       "      <th>source</th>\n",
       "      <th>population (K)</th>\n",
       "      <th>LN population</th>\n",
       "    </tr>\n",
       "  </thead>\n",
       "  <tbody>\n",
       "    <tr>\n",
       "      <th>0</th>\n",
       "      <td>Chiang Mai</td>\n",
       "      <td>2016</td>\n",
       "      <td>1630428</td>\n",
       "      <td>A</td>\n",
       "      <td>1630.428</td>\n",
       "      <td>14.304353</td>\n",
       "    </tr>\n",
       "    <tr>\n",
       "      <th>1</th>\n",
       "      <td>Chiang Mai</td>\n",
       "      <td>2017</td>\n",
       "      <td>1664012</td>\n",
       "      <td>B</td>\n",
       "      <td>1664.012</td>\n",
       "      <td>14.324742</td>\n",
       "    </tr>\n",
       "    <tr>\n",
       "      <th>2</th>\n",
       "      <td>Chiang Mai</td>\n",
       "      <td>2018</td>\n",
       "      <td>1687971</td>\n",
       "      <td>A</td>\n",
       "      <td>1687.971</td>\n",
       "      <td>14.339038</td>\n",
       "    </tr>\n",
       "  </tbody>\n",
       "</table>\n",
       "</div>"
      ],
      "text/plain": [
       "     province  year  population source  population (K)  LN population\n",
       "0  Chiang Mai  2016     1630428      A        1630.428      14.304353\n",
       "1  Chiang Mai  2017     1664012      B        1664.012      14.324742\n",
       "2  Chiang Mai  2018     1687971      A        1687.971      14.339038"
      ]
     },
     "metadata": {},
     "output_type": "display_data"
    }
   ],
   "source": [
    "condition_list = df['population'] > 1000000\n",
    "print(condition_list)\n",
    "display(df[condition_list])"
   ]
  },
  {
   "cell_type": "code",
   "execution_count": 54,
   "metadata": {
    "colab": {
     "base_uri": "https://localhost:8080/",
     "height": 265
    },
    "id": "HyCz7DhAiHDq",
    "outputId": "4e330f89-d1f8-4e17-a93b-4bfea49b3a90"
   },
   "outputs": [
    {
     "name": "stdout",
     "output_type": "stream",
     "text": [
      "0     True\n",
      "1     True\n",
      "2     True\n",
      "3    False\n",
      "4    False\n",
      "5    False\n",
      "dtype: bool\n"
     ]
    },
    {
     "data": {
      "text/html": [
       "<div>\n",
       "<style scoped>\n",
       "    .dataframe tbody tr th:only-of-type {\n",
       "        vertical-align: middle;\n",
       "    }\n",
       "\n",
       "    .dataframe tbody tr th {\n",
       "        vertical-align: top;\n",
       "    }\n",
       "\n",
       "    .dataframe thead th {\n",
       "        text-align: right;\n",
       "    }\n",
       "</style>\n",
       "<table border=\"1\" class=\"dataframe\">\n",
       "  <thead>\n",
       "    <tr style=\"text-align: right;\">\n",
       "      <th></th>\n",
       "      <th>province</th>\n",
       "      <th>year</th>\n",
       "      <th>population</th>\n",
       "      <th>source</th>\n",
       "      <th>population (K)</th>\n",
       "      <th>LN population</th>\n",
       "    </tr>\n",
       "  </thead>\n",
       "  <tbody>\n",
       "    <tr>\n",
       "      <th>0</th>\n",
       "      <td>Chiang Mai</td>\n",
       "      <td>2016</td>\n",
       "      <td>1630428</td>\n",
       "      <td>A</td>\n",
       "      <td>1630.428</td>\n",
       "      <td>14.304353</td>\n",
       "    </tr>\n",
       "    <tr>\n",
       "      <th>1</th>\n",
       "      <td>Chiang Mai</td>\n",
       "      <td>2017</td>\n",
       "      <td>1664012</td>\n",
       "      <td>B</td>\n",
       "      <td>1664.012</td>\n",
       "      <td>14.324742</td>\n",
       "    </tr>\n",
       "    <tr>\n",
       "      <th>2</th>\n",
       "      <td>Chiang Mai</td>\n",
       "      <td>2018</td>\n",
       "      <td>1687971</td>\n",
       "      <td>A</td>\n",
       "      <td>1687.971</td>\n",
       "      <td>14.339038</td>\n",
       "    </tr>\n",
       "  </tbody>\n",
       "</table>\n",
       "</div>"
      ],
      "text/plain": [
       "     province  year  population source  population (K)  LN population\n",
       "0  Chiang Mai  2016     1630428      A        1630.428      14.304353\n",
       "1  Chiang Mai  2017     1664012      B        1664.012      14.324742\n",
       "2  Chiang Mai  2018     1687971      A        1687.971      14.339038"
      ]
     },
     "metadata": {},
     "output_type": "display_data"
    }
   ],
   "source": [
    "# Multiple condition (and)\n",
    "condition_list = (df['province'] == 'Chiang Mai') & (df['population'] > 1000000)\n",
    "print(condition_list)\n",
    "display(df[condition_list])"
   ]
  },
  {
   "cell_type": "code",
   "execution_count": 55,
   "metadata": {
    "colab": {
     "base_uri": "https://localhost:8080/",
     "height": 265
    },
    "id": "Qa0-v43FiHDv",
    "outputId": "8e8e54e5-b23c-4d83-de57-479d3400de72"
   },
   "outputs": [
    {
     "name": "stdout",
     "output_type": "stream",
     "text": [
      "0     True\n",
      "1     True\n",
      "2     True\n",
      "3    False\n",
      "4    False\n",
      "5    False\n",
      "dtype: bool\n"
     ]
    },
    {
     "data": {
      "text/html": [
       "<div>\n",
       "<style scoped>\n",
       "    .dataframe tbody tr th:only-of-type {\n",
       "        vertical-align: middle;\n",
       "    }\n",
       "\n",
       "    .dataframe tbody tr th {\n",
       "        vertical-align: top;\n",
       "    }\n",
       "\n",
       "    .dataframe thead th {\n",
       "        text-align: right;\n",
       "    }\n",
       "</style>\n",
       "<table border=\"1\" class=\"dataframe\">\n",
       "  <thead>\n",
       "    <tr style=\"text-align: right;\">\n",
       "      <th></th>\n",
       "      <th>province</th>\n",
       "      <th>year</th>\n",
       "      <th>population</th>\n",
       "      <th>source</th>\n",
       "      <th>population (K)</th>\n",
       "      <th>LN population</th>\n",
       "    </tr>\n",
       "  </thead>\n",
       "  <tbody>\n",
       "    <tr>\n",
       "      <th>0</th>\n",
       "      <td>Chiang Mai</td>\n",
       "      <td>2016</td>\n",
       "      <td>1630428</td>\n",
       "      <td>A</td>\n",
       "      <td>1630.428</td>\n",
       "      <td>14.304353</td>\n",
       "    </tr>\n",
       "    <tr>\n",
       "      <th>1</th>\n",
       "      <td>Chiang Mai</td>\n",
       "      <td>2017</td>\n",
       "      <td>1664012</td>\n",
       "      <td>B</td>\n",
       "      <td>1664.012</td>\n",
       "      <td>14.324742</td>\n",
       "    </tr>\n",
       "    <tr>\n",
       "      <th>2</th>\n",
       "      <td>Chiang Mai</td>\n",
       "      <td>2018</td>\n",
       "      <td>1687971</td>\n",
       "      <td>A</td>\n",
       "      <td>1687.971</td>\n",
       "      <td>14.339038</td>\n",
       "    </tr>\n",
       "  </tbody>\n",
       "</table>\n",
       "</div>"
      ],
      "text/plain": [
       "     province  year  population source  population (K)  LN population\n",
       "0  Chiang Mai  2016     1630428      A        1630.428      14.304353\n",
       "1  Chiang Mai  2017     1664012      B        1664.012      14.324742\n",
       "2  Chiang Mai  2018     1687971      A        1687.971      14.339038"
      ]
     },
     "metadata": {},
     "output_type": "display_data"
    }
   ],
   "source": [
    "# Multiple condition (or)\n",
    "condition_list = (df['province'] == 'Chiang Mai') | (df['population'] > 1000000)\n",
    "print(condition_list)\n",
    "display(df[condition_list])"
   ]
  },
  {
   "cell_type": "markdown",
   "metadata": {
    "id": "vTSvaA3tiHDx"
   },
   "source": [
    "### Sorting"
   ]
  },
  {
   "cell_type": "code",
   "execution_count": 56,
   "metadata": {
    "colab": {
     "base_uri": "https://localhost:8080/",
     "height": 237
    },
    "id": "GHiiO_ohiHDx",
    "outputId": "cb354d83-8070-4d27-a543-51351ba8223c"
   },
   "outputs": [
    {
     "data": {
      "text/html": [
       "<div>\n",
       "<style scoped>\n",
       "    .dataframe tbody tr th:only-of-type {\n",
       "        vertical-align: middle;\n",
       "    }\n",
       "\n",
       "    .dataframe tbody tr th {\n",
       "        vertical-align: top;\n",
       "    }\n",
       "\n",
       "    .dataframe thead th {\n",
       "        text-align: right;\n",
       "    }\n",
       "</style>\n",
       "<table border=\"1\" class=\"dataframe\">\n",
       "  <thead>\n",
       "    <tr style=\"text-align: right;\">\n",
       "      <th></th>\n",
       "      <th>province</th>\n",
       "      <th>year</th>\n",
       "      <th>population</th>\n",
       "      <th>source</th>\n",
       "      <th>population (K)</th>\n",
       "      <th>LN population</th>\n",
       "    </tr>\n",
       "  </thead>\n",
       "  <tbody>\n",
       "    <tr>\n",
       "      <th>3</th>\n",
       "      <td>Phrae</td>\n",
       "      <td>2016</td>\n",
       "      <td>398936</td>\n",
       "      <td>C</td>\n",
       "      <td>398.936</td>\n",
       "      <td>12.896556</td>\n",
       "    </tr>\n",
       "    <tr>\n",
       "      <th>4</th>\n",
       "      <td>Phrae</td>\n",
       "      <td>2017</td>\n",
       "      <td>410382</td>\n",
       "      <td>A</td>\n",
       "      <td>410.382</td>\n",
       "      <td>12.924844</td>\n",
       "    </tr>\n",
       "    <tr>\n",
       "      <th>5</th>\n",
       "      <td>Phrae</td>\n",
       "      <td>2018</td>\n",
       "      <td>421653</td>\n",
       "      <td>B</td>\n",
       "      <td>421.653</td>\n",
       "      <td>12.951938</td>\n",
       "    </tr>\n",
       "    <tr>\n",
       "      <th>0</th>\n",
       "      <td>Chiang Mai</td>\n",
       "      <td>2016</td>\n",
       "      <td>1630428</td>\n",
       "      <td>A</td>\n",
       "      <td>1630.428</td>\n",
       "      <td>14.304353</td>\n",
       "    </tr>\n",
       "    <tr>\n",
       "      <th>1</th>\n",
       "      <td>Chiang Mai</td>\n",
       "      <td>2017</td>\n",
       "      <td>1664012</td>\n",
       "      <td>B</td>\n",
       "      <td>1664.012</td>\n",
       "      <td>14.324742</td>\n",
       "    </tr>\n",
       "    <tr>\n",
       "      <th>2</th>\n",
       "      <td>Chiang Mai</td>\n",
       "      <td>2018</td>\n",
       "      <td>1687971</td>\n",
       "      <td>A</td>\n",
       "      <td>1687.971</td>\n",
       "      <td>14.339038</td>\n",
       "    </tr>\n",
       "  </tbody>\n",
       "</table>\n",
       "</div>"
      ],
      "text/plain": [
       "     province  year  population source  population (K)  LN population\n",
       "3       Phrae  2016      398936      C         398.936      12.896556\n",
       "4       Phrae  2017      410382      A         410.382      12.924844\n",
       "5       Phrae  2018      421653      B         421.653      12.951938\n",
       "0  Chiang Mai  2016     1630428      A        1630.428      14.304353\n",
       "1  Chiang Mai  2017     1664012      B        1664.012      14.324742\n",
       "2  Chiang Mai  2018     1687971      A        1687.971      14.339038"
      ]
     },
     "execution_count": 56,
     "metadata": {},
     "output_type": "execute_result"
    }
   ],
   "source": [
    "df.sort_values(by='population')"
   ]
  },
  {
   "cell_type": "code",
   "execution_count": 57,
   "metadata": {
    "colab": {
     "base_uri": "https://localhost:8080/",
     "height": 237
    },
    "id": "dgmElMTliHD0",
    "outputId": "d3aedf2b-5ae9-403b-cb75-e8c980a6afc0"
   },
   "outputs": [
    {
     "data": {
      "text/html": [
       "<div>\n",
       "<style scoped>\n",
       "    .dataframe tbody tr th:only-of-type {\n",
       "        vertical-align: middle;\n",
       "    }\n",
       "\n",
       "    .dataframe tbody tr th {\n",
       "        vertical-align: top;\n",
       "    }\n",
       "\n",
       "    .dataframe thead th {\n",
       "        text-align: right;\n",
       "    }\n",
       "</style>\n",
       "<table border=\"1\" class=\"dataframe\">\n",
       "  <thead>\n",
       "    <tr style=\"text-align: right;\">\n",
       "      <th></th>\n",
       "      <th>province</th>\n",
       "      <th>year</th>\n",
       "      <th>population</th>\n",
       "      <th>source</th>\n",
       "      <th>population (K)</th>\n",
       "      <th>LN population</th>\n",
       "    </tr>\n",
       "  </thead>\n",
       "  <tbody>\n",
       "    <tr>\n",
       "      <th>2</th>\n",
       "      <td>Chiang Mai</td>\n",
       "      <td>2018</td>\n",
       "      <td>1687971</td>\n",
       "      <td>A</td>\n",
       "      <td>1687.971</td>\n",
       "      <td>14.339038</td>\n",
       "    </tr>\n",
       "    <tr>\n",
       "      <th>1</th>\n",
       "      <td>Chiang Mai</td>\n",
       "      <td>2017</td>\n",
       "      <td>1664012</td>\n",
       "      <td>B</td>\n",
       "      <td>1664.012</td>\n",
       "      <td>14.324742</td>\n",
       "    </tr>\n",
       "    <tr>\n",
       "      <th>0</th>\n",
       "      <td>Chiang Mai</td>\n",
       "      <td>2016</td>\n",
       "      <td>1630428</td>\n",
       "      <td>A</td>\n",
       "      <td>1630.428</td>\n",
       "      <td>14.304353</td>\n",
       "    </tr>\n",
       "    <tr>\n",
       "      <th>5</th>\n",
       "      <td>Phrae</td>\n",
       "      <td>2018</td>\n",
       "      <td>421653</td>\n",
       "      <td>B</td>\n",
       "      <td>421.653</td>\n",
       "      <td>12.951938</td>\n",
       "    </tr>\n",
       "    <tr>\n",
       "      <th>4</th>\n",
       "      <td>Phrae</td>\n",
       "      <td>2017</td>\n",
       "      <td>410382</td>\n",
       "      <td>A</td>\n",
       "      <td>410.382</td>\n",
       "      <td>12.924844</td>\n",
       "    </tr>\n",
       "    <tr>\n",
       "      <th>3</th>\n",
       "      <td>Phrae</td>\n",
       "      <td>2016</td>\n",
       "      <td>398936</td>\n",
       "      <td>C</td>\n",
       "      <td>398.936</td>\n",
       "      <td>12.896556</td>\n",
       "    </tr>\n",
       "  </tbody>\n",
       "</table>\n",
       "</div>"
      ],
      "text/plain": [
       "     province  year  population source  population (K)  LN population\n",
       "2  Chiang Mai  2018     1687971      A        1687.971      14.339038\n",
       "1  Chiang Mai  2017     1664012      B        1664.012      14.324742\n",
       "0  Chiang Mai  2016     1630428      A        1630.428      14.304353\n",
       "5       Phrae  2018      421653      B         421.653      12.951938\n",
       "4       Phrae  2017      410382      A         410.382      12.924844\n",
       "3       Phrae  2016      398936      C         398.936      12.896556"
      ]
     },
     "execution_count": 57,
     "metadata": {},
     "output_type": "execute_result"
    }
   ],
   "source": [
    "df.sort_values(by='population', ascending=False)"
   ]
  },
  {
   "cell_type": "code",
   "execution_count": 58,
   "metadata": {
    "colab": {
     "base_uri": "https://localhost:8080/",
     "height": 237
    },
    "id": "f5XWNGRdiHD3",
    "outputId": "38a94b19-66cf-4ad1-ecca-b7fa5b3c088f"
   },
   "outputs": [
    {
     "data": {
      "text/html": [
       "<div>\n",
       "<style scoped>\n",
       "    .dataframe tbody tr th:only-of-type {\n",
       "        vertical-align: middle;\n",
       "    }\n",
       "\n",
       "    .dataframe tbody tr th {\n",
       "        vertical-align: top;\n",
       "    }\n",
       "\n",
       "    .dataframe thead th {\n",
       "        text-align: right;\n",
       "    }\n",
       "</style>\n",
       "<table border=\"1\" class=\"dataframe\">\n",
       "  <thead>\n",
       "    <tr style=\"text-align: right;\">\n",
       "      <th></th>\n",
       "      <th>province</th>\n",
       "      <th>year</th>\n",
       "      <th>population</th>\n",
       "      <th>source</th>\n",
       "      <th>population (K)</th>\n",
       "      <th>LN population</th>\n",
       "    </tr>\n",
       "  </thead>\n",
       "  <tbody>\n",
       "    <tr>\n",
       "      <th>0</th>\n",
       "      <td>Chiang Mai</td>\n",
       "      <td>2016</td>\n",
       "      <td>1630428</td>\n",
       "      <td>A</td>\n",
       "      <td>1630.428</td>\n",
       "      <td>14.304353</td>\n",
       "    </tr>\n",
       "    <tr>\n",
       "      <th>3</th>\n",
       "      <td>Phrae</td>\n",
       "      <td>2016</td>\n",
       "      <td>398936</td>\n",
       "      <td>C</td>\n",
       "      <td>398.936</td>\n",
       "      <td>12.896556</td>\n",
       "    </tr>\n",
       "    <tr>\n",
       "      <th>1</th>\n",
       "      <td>Chiang Mai</td>\n",
       "      <td>2017</td>\n",
       "      <td>1664012</td>\n",
       "      <td>B</td>\n",
       "      <td>1664.012</td>\n",
       "      <td>14.324742</td>\n",
       "    </tr>\n",
       "    <tr>\n",
       "      <th>4</th>\n",
       "      <td>Phrae</td>\n",
       "      <td>2017</td>\n",
       "      <td>410382</td>\n",
       "      <td>A</td>\n",
       "      <td>410.382</td>\n",
       "      <td>12.924844</td>\n",
       "    </tr>\n",
       "    <tr>\n",
       "      <th>2</th>\n",
       "      <td>Chiang Mai</td>\n",
       "      <td>2018</td>\n",
       "      <td>1687971</td>\n",
       "      <td>A</td>\n",
       "      <td>1687.971</td>\n",
       "      <td>14.339038</td>\n",
       "    </tr>\n",
       "    <tr>\n",
       "      <th>5</th>\n",
       "      <td>Phrae</td>\n",
       "      <td>2018</td>\n",
       "      <td>421653</td>\n",
       "      <td>B</td>\n",
       "      <td>421.653</td>\n",
       "      <td>12.951938</td>\n",
       "    </tr>\n",
       "  </tbody>\n",
       "</table>\n",
       "</div>"
      ],
      "text/plain": [
       "     province  year  population source  population (K)  LN population\n",
       "0  Chiang Mai  2016     1630428      A        1630.428      14.304353\n",
       "3       Phrae  2016      398936      C         398.936      12.896556\n",
       "1  Chiang Mai  2017     1664012      B        1664.012      14.324742\n",
       "4       Phrae  2017      410382      A         410.382      12.924844\n",
       "2  Chiang Mai  2018     1687971      A        1687.971      14.339038\n",
       "5       Phrae  2018      421653      B         421.653      12.951938"
      ]
     },
     "execution_count": 58,
     "metadata": {},
     "output_type": "execute_result"
    }
   ],
   "source": [
    "df.sort_values(by=['year','population'], ascending=[True,False])"
   ]
  },
  {
   "cell_type": "code",
   "execution_count": 59,
   "metadata": {
    "id": "MQKUolkmfp-b"
   },
   "outputs": [],
   "source": [
    "df3=df.sort_values(by=['year','population'], ascending=[True,False])"
   ]
  },
  {
   "cell_type": "code",
   "execution_count": 60,
   "metadata": {
    "colab": {
     "base_uri": "https://localhost:8080/",
     "height": 237
    },
    "id": "LyPcfzWNecLb",
    "outputId": "5d7997a3-2987-469f-ed4a-3edcfb6b9240"
   },
   "outputs": [
    {
     "data": {
      "text/html": [
       "<div>\n",
       "<style scoped>\n",
       "    .dataframe tbody tr th:only-of-type {\n",
       "        vertical-align: middle;\n",
       "    }\n",
       "\n",
       "    .dataframe tbody tr th {\n",
       "        vertical-align: top;\n",
       "    }\n",
       "\n",
       "    .dataframe thead th {\n",
       "        text-align: right;\n",
       "    }\n",
       "</style>\n",
       "<table border=\"1\" class=\"dataframe\">\n",
       "  <thead>\n",
       "    <tr style=\"text-align: right;\">\n",
       "      <th></th>\n",
       "      <th>province</th>\n",
       "      <th>year</th>\n",
       "      <th>population</th>\n",
       "      <th>source</th>\n",
       "      <th>population (K)</th>\n",
       "      <th>LN population</th>\n",
       "    </tr>\n",
       "  </thead>\n",
       "  <tbody>\n",
       "    <tr>\n",
       "      <th>0</th>\n",
       "      <td>Chiang Mai</td>\n",
       "      <td>2016</td>\n",
       "      <td>1630428</td>\n",
       "      <td>A</td>\n",
       "      <td>1630.428</td>\n",
       "      <td>14.304353</td>\n",
       "    </tr>\n",
       "    <tr>\n",
       "      <th>3</th>\n",
       "      <td>Phrae</td>\n",
       "      <td>2016</td>\n",
       "      <td>398936</td>\n",
       "      <td>C</td>\n",
       "      <td>398.936</td>\n",
       "      <td>12.896556</td>\n",
       "    </tr>\n",
       "    <tr>\n",
       "      <th>1</th>\n",
       "      <td>Chiang Mai</td>\n",
       "      <td>2017</td>\n",
       "      <td>1664012</td>\n",
       "      <td>B</td>\n",
       "      <td>1664.012</td>\n",
       "      <td>14.324742</td>\n",
       "    </tr>\n",
       "    <tr>\n",
       "      <th>4</th>\n",
       "      <td>Phrae</td>\n",
       "      <td>2017</td>\n",
       "      <td>410382</td>\n",
       "      <td>A</td>\n",
       "      <td>410.382</td>\n",
       "      <td>12.924844</td>\n",
       "    </tr>\n",
       "    <tr>\n",
       "      <th>2</th>\n",
       "      <td>Chiang Mai</td>\n",
       "      <td>2018</td>\n",
       "      <td>1687971</td>\n",
       "      <td>A</td>\n",
       "      <td>1687.971</td>\n",
       "      <td>14.339038</td>\n",
       "    </tr>\n",
       "    <tr>\n",
       "      <th>5</th>\n",
       "      <td>Phrae</td>\n",
       "      <td>2018</td>\n",
       "      <td>421653</td>\n",
       "      <td>B</td>\n",
       "      <td>421.653</td>\n",
       "      <td>12.951938</td>\n",
       "    </tr>\n",
       "  </tbody>\n",
       "</table>\n",
       "</div>"
      ],
      "text/plain": [
       "     province  year  population source  population (K)  LN population\n",
       "0  Chiang Mai  2016     1630428      A        1630.428      14.304353\n",
       "3       Phrae  2016      398936      C         398.936      12.896556\n",
       "1  Chiang Mai  2017     1664012      B        1664.012      14.324742\n",
       "4       Phrae  2017      410382      A         410.382      12.924844\n",
       "2  Chiang Mai  2018     1687971      A        1687.971      14.339038\n",
       "5       Phrae  2018      421653      B         421.653      12.951938"
      ]
     },
     "execution_count": 60,
     "metadata": {},
     "output_type": "execute_result"
    }
   ],
   "source": [
    " df3"
   ]
  },
  {
   "cell_type": "markdown",
   "metadata": {
    "id": "zSzelOopiHD8"
   },
   "source": [
    "## Basic Statistic"
   ]
  },
  {
   "cell_type": "markdown",
   "metadata": {
    "id": "knBNF0-3iHD9"
   },
   "source": [
    "**Descriptive and summary statistics methods**\n",
    "- **count** <br> Number of non-NA values\n",
    "- **describe** <br> Compute set of summary statistics for Series or each DataFrame column\n",
    "- **min, max** <br> Compute minimum and maximum values\n",
    "- **argmin, argmax** <br> Compute index locations (integers) at which minimum or maximum value obtained, respectively\n",
    "- **idxmin, idxmax** <br> Compute index labels at which minimum or maximum value obtained, respectively\n",
    "- **quantile** <br> Compute sample quantile ranging from 0 to 1\n",
    "- **sum** <br> Sum of values\n",
    "- **mean** <br> Mean of values\n",
    "- **median** <br> Arithmetic median (50% quantile) of values\n",
    "- **mad** <br> Mean absolute deviation from mean value\n",
    "- **prod** <br> Product of all values\n",
    "- **var** <br> Sample variance of values\n",
    "- **std** <br> Sample standard deviation of values\n",
    "- **skew** <br> Sample skewness (third moment) of values\n",
    "- **kurt** <br> Sample kurtosis (fourth moment) of values\n",
    "- **cumsum** <br> Cumulative sum of values\n",
    "- **cummin, cummax** <br> Cumulative minimum or maximum of values, respectively\n",
    "- **cumprod** <br> Cumulative product of values\n",
    "- **diff** <br> Compute first arithmetic difference (useful for time series)\n",
    "- **pct_change** <br> Compute percent changes"
   ]
  },
  {
   "cell_type": "markdown",
   "metadata": {
    "id": "zwhCDqaCiHD9"
   },
   "source": [
    "### Numeric"
   ]
  },
  {
   "cell_type": "code",
   "execution_count": 61,
   "metadata": {
    "colab": {
     "base_uri": "https://localhost:8080/"
    },
    "id": "kPv9DR_kiHD-",
    "outputId": "df99c611-4049-4e26-e1b3-1238a35ed8e4"
   },
   "outputs": [
    {
     "data": {
      "text/plain": [
       "year              2.017000e+03\n",
       "population        1.035564e+06\n",
       "population (K)    1.035564e+03\n",
       "LN population     1.362358e+01\n",
       "dtype: float64"
      ]
     },
     "execution_count": 61,
     "metadata": {},
     "output_type": "execute_result"
    }
   ],
   "source": [
    "# Find Mean in all numeric columns\n",
    "df.mean()"
   ]
  },
  {
   "cell_type": "code",
   "execution_count": 62,
   "metadata": {
    "colab": {
     "base_uri": "https://localhost:8080/"
    },
    "id": "LTqz-ZVBiHEB",
    "outputId": "dbe7b552-be41-419b-9260-7bd891e85f7c"
   },
   "outputs": [
    {
     "data": {
      "text/plain": [
       "1035563.6666666666"
      ]
     },
     "execution_count": 62,
     "metadata": {},
     "output_type": "execute_result"
    }
   ],
   "source": [
    "# Find Mean in some column\n",
    "df['population'].mean()"
   ]
  },
  {
   "cell_type": "code",
   "execution_count": 63,
   "metadata": {
    "colab": {
     "base_uri": "https://localhost:8080/"
    },
    "id": "L5XKvTQdiHED",
    "outputId": "cab245c4-f9f6-4cb7-bc6a-bb8494ba37c2"
   },
   "outputs": [
    {
     "data": {
      "text/plain": [
       "population        1.035564e+06\n",
       "population (K)    1.035564e+03\n",
       "dtype: float64"
      ]
     },
     "execution_count": 63,
     "metadata": {},
     "output_type": "execute_result"
    }
   ],
   "source": [
    "# Find Mean in some column\n",
    "column_list = ['population','population (K)']\n",
    "df[column_list].mean()"
   ]
  },
  {
   "cell_type": "code",
   "execution_count": 64,
   "metadata": {
    "colab": {
     "base_uri": "https://localhost:8080/"
    },
    "id": "w9CMcQ9XiHEF",
    "outputId": "a549ca28-804a-48a7-976c-7d9b54b6b57d",
    "scrolled": true
   },
   "outputs": [
    {
     "data": {
      "text/plain": [
       "population        6\n",
       "population (K)    6\n",
       "dtype: int64"
      ]
     },
     "execution_count": 64,
     "metadata": {},
     "output_type": "execute_result"
    }
   ],
   "source": [
    "df[column_list].count()"
   ]
  },
  {
   "cell_type": "code",
   "execution_count": 65,
   "metadata": {
    "colab": {
     "base_uri": "https://localhost:8080/"
    },
    "id": "OiXX1fzjiHEH",
    "outputId": "d11e57ce-fd9f-4263-f04d-2e87e0376f7c"
   },
   "outputs": [
    {
     "data": {
      "text/plain": [
       "population        398936.000\n",
       "population (K)       398.936\n",
       "dtype: float64"
      ]
     },
     "execution_count": 65,
     "metadata": {},
     "output_type": "execute_result"
    }
   ],
   "source": [
    "df[column_list].min()"
   ]
  },
  {
   "cell_type": "code",
   "execution_count": 66,
   "metadata": {
    "colab": {
     "base_uri": "https://localhost:8080/"
    },
    "id": "R7Tn_yk5iHEJ",
    "outputId": "a518cc81-500a-452d-a3d6-7cf0bf7241a8"
   },
   "outputs": [
    {
     "data": {
      "text/plain": [
       "population        1687971.000\n",
       "population (K)       1687.971\n",
       "dtype: float64"
      ]
     },
     "execution_count": 66,
     "metadata": {},
     "output_type": "execute_result"
    }
   ],
   "source": [
    "df[column_list].max()"
   ]
  },
  {
   "cell_type": "code",
   "execution_count": 67,
   "metadata": {
    "colab": {
     "base_uri": "https://localhost:8080/"
    },
    "id": "ArZlrWREiHEL",
    "outputId": "3c2fdeb3-302a-4525-8ff4-764d8ca9939a"
   },
   "outputs": [
    {
     "data": {
      "text/plain": [
       "population        1.026040e+06\n",
       "population (K)    1.026041e+03\n",
       "dtype: float64"
      ]
     },
     "execution_count": 67,
     "metadata": {},
     "output_type": "execute_result"
    }
   ],
   "source": [
    "df[column_list].median()"
   ]
  },
  {
   "cell_type": "code",
   "execution_count": 68,
   "metadata": {
    "colab": {
     "base_uri": "https://localhost:8080/"
    },
    "id": "kKpyRpEqiHEN",
    "outputId": "1e30aabd-9746-461d-aebf-e266ee0da985"
   },
   "outputs": [
    {
     "data": {
      "text/plain": [
       "population        685197.697059\n",
       "population (K)       685.197697\n",
       "dtype: float64"
      ]
     },
     "execution_count": 68,
     "metadata": {},
     "output_type": "execute_result"
    }
   ],
   "source": [
    "df[column_list].std()"
   ]
  },
  {
   "cell_type": "code",
   "execution_count": 69,
   "metadata": {
    "colab": {
     "base_uri": "https://localhost:8080/",
     "height": 112
    },
    "id": "77ve9W-ViHEP",
    "outputId": "67d5ca7b-aabd-4431-ee18-da63667e4bfc",
    "scrolled": true
   },
   "outputs": [
    {
     "data": {
      "text/html": [
       "<div>\n",
       "<style scoped>\n",
       "    .dataframe tbody tr th:only-of-type {\n",
       "        vertical-align: middle;\n",
       "    }\n",
       "\n",
       "    .dataframe tbody tr th {\n",
       "        vertical-align: top;\n",
       "    }\n",
       "\n",
       "    .dataframe thead th {\n",
       "        text-align: right;\n",
       "    }\n",
       "</style>\n",
       "<table border=\"1\" class=\"dataframe\">\n",
       "  <thead>\n",
       "    <tr style=\"text-align: right;\">\n",
       "      <th></th>\n",
       "      <th>population</th>\n",
       "      <th>population (K)</th>\n",
       "    </tr>\n",
       "  </thead>\n",
       "  <tbody>\n",
       "    <tr>\n",
       "      <th>population</th>\n",
       "      <td>1.0</td>\n",
       "      <td>1.0</td>\n",
       "    </tr>\n",
       "    <tr>\n",
       "      <th>population (K)</th>\n",
       "      <td>1.0</td>\n",
       "      <td>1.0</td>\n",
       "    </tr>\n",
       "  </tbody>\n",
       "</table>\n",
       "</div>"
      ],
      "text/plain": [
       "                population  population (K)\n",
       "population             1.0             1.0\n",
       "population (K)         1.0             1.0"
      ]
     },
     "execution_count": 69,
     "metadata": {},
     "output_type": "execute_result"
    }
   ],
   "source": [
    "df[column_list].corr()"
   ]
  },
  {
   "cell_type": "code",
   "execution_count": 70,
   "metadata": {
    "colab": {
     "base_uri": "https://localhost:8080/"
    },
    "id": "yqc6a_dPiHER",
    "outputId": "8d99f902-9282-48ac-8357-8d63b4a089c3"
   },
   "outputs": [
    {
     "data": {
      "text/plain": [
       "year              2.017750e+03\n",
       "population        1.655616e+06\n",
       "population (K)    1.655616e+03\n",
       "LN population     1.431964e+01\n",
       "Name: 0.75, dtype: float64"
      ]
     },
     "execution_count": 70,
     "metadata": {},
     "output_type": "execute_result"
    }
   ],
   "source": [
    "df.quantile(0.75)"
   ]
  },
  {
   "cell_type": "markdown",
   "metadata": {
    "id": "F40RKnBDiHET"
   },
   "source": [
    "### Object"
   ]
  },
  {
   "cell_type": "code",
   "execution_count": 71,
   "metadata": {
    "colab": {
     "base_uri": "https://localhost:8080/"
    },
    "id": "_tUoYUU0iHET",
    "outputId": "f1effa64-d78e-462d-db8b-908deea01e79"
   },
   "outputs": [
    {
     "data": {
      "text/plain": [
       "array(['Chiang Mai', 'Phrae'], dtype=object)"
      ]
     },
     "execution_count": 71,
     "metadata": {},
     "output_type": "execute_result"
    }
   ],
   "source": [
    "df['province'].unique()"
   ]
  },
  {
   "cell_type": "code",
   "execution_count": 72,
   "metadata": {
    "colab": {
     "base_uri": "https://localhost:8080/"
    },
    "id": "oWtCbSnWiHEZ",
    "outputId": "a5c64a97-4aa5-4b5e-eada-a61906bfb86a"
   },
   "outputs": [
    {
     "data": {
      "text/plain": [
       "2"
      ]
     },
     "execution_count": 72,
     "metadata": {},
     "output_type": "execute_result"
    }
   ],
   "source": [
    "df['province'].nunique()"
   ]
  },
  {
   "cell_type": "code",
   "execution_count": 73,
   "metadata": {
    "colab": {
     "base_uri": "https://localhost:8080/"
    },
    "id": "wqJBODsuiHEb",
    "outputId": "4f9abdb5-617c-4b0c-8980-f5bc94f57758"
   },
   "outputs": [
    {
     "data": {
      "text/plain": [
       "Phrae         3\n",
       "Chiang Mai    3\n",
       "Name: province, dtype: int64"
      ]
     },
     "execution_count": 73,
     "metadata": {},
     "output_type": "execute_result"
    }
   ],
   "source": [
    "df['province'].value_counts()"
   ]
  },
  {
   "cell_type": "markdown",
   "metadata": {
    "id": "Ya1bCt1EiHEd"
   },
   "source": [
    "### Describe"
   ]
  },
  {
   "cell_type": "code",
   "execution_count": 74,
   "metadata": {
    "colab": {
     "base_uri": "https://localhost:8080/",
     "height": 300
    },
    "id": "rS0QXtmPiHEd",
    "outputId": "c71157fe-d6b5-4ede-afde-ef362c15dd9a"
   },
   "outputs": [
    {
     "data": {
      "text/html": [
       "<div>\n",
       "<style scoped>\n",
       "    .dataframe tbody tr th:only-of-type {\n",
       "        vertical-align: middle;\n",
       "    }\n",
       "\n",
       "    .dataframe tbody tr th {\n",
       "        vertical-align: top;\n",
       "    }\n",
       "\n",
       "    .dataframe thead th {\n",
       "        text-align: right;\n",
       "    }\n",
       "</style>\n",
       "<table border=\"1\" class=\"dataframe\">\n",
       "  <thead>\n",
       "    <tr style=\"text-align: right;\">\n",
       "      <th></th>\n",
       "      <th>year</th>\n",
       "      <th>population</th>\n",
       "    </tr>\n",
       "  </thead>\n",
       "  <tbody>\n",
       "    <tr>\n",
       "      <th>count</th>\n",
       "      <td>6.000000</td>\n",
       "      <td>6.000000e+00</td>\n",
       "    </tr>\n",
       "    <tr>\n",
       "      <th>mean</th>\n",
       "      <td>2017.000000</td>\n",
       "      <td>1.035564e+06</td>\n",
       "    </tr>\n",
       "    <tr>\n",
       "      <th>std</th>\n",
       "      <td>0.894427</td>\n",
       "      <td>6.851977e+05</td>\n",
       "    </tr>\n",
       "    <tr>\n",
       "      <th>min</th>\n",
       "      <td>2016.000000</td>\n",
       "      <td>3.989360e+05</td>\n",
       "    </tr>\n",
       "    <tr>\n",
       "      <th>25%</th>\n",
       "      <td>2016.250000</td>\n",
       "      <td>4.131998e+05</td>\n",
       "    </tr>\n",
       "    <tr>\n",
       "      <th>50%</th>\n",
       "      <td>2017.000000</td>\n",
       "      <td>1.026040e+06</td>\n",
       "    </tr>\n",
       "    <tr>\n",
       "      <th>75%</th>\n",
       "      <td>2017.750000</td>\n",
       "      <td>1.655616e+06</td>\n",
       "    </tr>\n",
       "    <tr>\n",
       "      <th>max</th>\n",
       "      <td>2018.000000</td>\n",
       "      <td>1.687971e+06</td>\n",
       "    </tr>\n",
       "  </tbody>\n",
       "</table>\n",
       "</div>"
      ],
      "text/plain": [
       "              year    population\n",
       "count     6.000000  6.000000e+00\n",
       "mean   2017.000000  1.035564e+06\n",
       "std       0.894427  6.851977e+05\n",
       "min    2016.000000  3.989360e+05\n",
       "25%    2016.250000  4.131998e+05\n",
       "50%    2017.000000  1.026040e+06\n",
       "75%    2017.750000  1.655616e+06\n",
       "max    2018.000000  1.687971e+06"
      ]
     },
     "execution_count": 74,
     "metadata": {},
     "output_type": "execute_result"
    }
   ],
   "source": [
    "#Numeric\n",
    "df[columns_list].describe()"
   ]
  },
  {
   "cell_type": "code",
   "execution_count": 75,
   "metadata": {
    "colab": {
     "base_uri": "https://localhost:8080/",
     "height": 247
    },
    "id": "-J4NYD10iHEf",
    "outputId": "4c31b56b-7839-4023-9606-b220a96485af"
   },
   "outputs": [
    {
     "data": {
      "text/html": [
       "<div>\n",
       "<style scoped>\n",
       "    .dataframe tbody tr th:only-of-type {\n",
       "        vertical-align: middle;\n",
       "    }\n",
       "\n",
       "    .dataframe tbody tr th {\n",
       "        vertical-align: top;\n",
       "    }\n",
       "\n",
       "    .dataframe thead th {\n",
       "        text-align: right;\n",
       "    }\n",
       "</style>\n",
       "<table border=\"1\" class=\"dataframe\">\n",
       "  <thead>\n",
       "    <tr style=\"text-align: right;\">\n",
       "      <th></th>\n",
       "      <th>province</th>\n",
       "      <th>source</th>\n",
       "    </tr>\n",
       "  </thead>\n",
       "  <tbody>\n",
       "    <tr>\n",
       "      <th>count</th>\n",
       "      <td>6</td>\n",
       "      <td>6</td>\n",
       "    </tr>\n",
       "    <tr>\n",
       "      <th>unique</th>\n",
       "      <td>2</td>\n",
       "      <td>3</td>\n",
       "    </tr>\n",
       "    <tr>\n",
       "      <th>top</th>\n",
       "      <td>Phrae</td>\n",
       "      <td>A</td>\n",
       "    </tr>\n",
       "    <tr>\n",
       "      <th>freq</th>\n",
       "      <td>3</td>\n",
       "      <td>3</td>\n",
       "    </tr>\n",
       "  </tbody>\n",
       "</table>\n",
       "</div>"
      ],
      "text/plain": [
       "       province source\n",
       "count         6      6\n",
       "unique        2      3\n",
       "top       Phrae      A\n",
       "freq          3      3"
      ]
     },
     "execution_count": 75,
     "metadata": {},
     "output_type": "execute_result"
    }
   ],
   "source": [
    "#Category\n",
    "df.describe(include=np.object)"
   ]
  },
  {
   "cell_type": "code",
   "execution_count": 76,
   "metadata": {
    "colab": {
     "base_uri": "https://localhost:8080/",
     "height": 394
    },
    "id": "ig5o2ZuyiHEh",
    "outputId": "fd76b927-be10-4b13-e5a5-472951fe5913"
   },
   "outputs": [
    {
     "data": {
      "text/html": [
       "<div>\n",
       "<style scoped>\n",
       "    .dataframe tbody tr th:only-of-type {\n",
       "        vertical-align: middle;\n",
       "    }\n",
       "\n",
       "    .dataframe tbody tr th {\n",
       "        vertical-align: top;\n",
       "    }\n",
       "\n",
       "    .dataframe thead th {\n",
       "        text-align: right;\n",
       "    }\n",
       "</style>\n",
       "<table border=\"1\" class=\"dataframe\">\n",
       "  <thead>\n",
       "    <tr style=\"text-align: right;\">\n",
       "      <th></th>\n",
       "      <th>province</th>\n",
       "      <th>year</th>\n",
       "      <th>population</th>\n",
       "      <th>source</th>\n",
       "      <th>population (K)</th>\n",
       "      <th>LN population</th>\n",
       "    </tr>\n",
       "  </thead>\n",
       "  <tbody>\n",
       "    <tr>\n",
       "      <th>count</th>\n",
       "      <td>6</td>\n",
       "      <td>6.000000</td>\n",
       "      <td>6.000000e+00</td>\n",
       "      <td>6</td>\n",
       "      <td>6.000000</td>\n",
       "      <td>6.000000</td>\n",
       "    </tr>\n",
       "    <tr>\n",
       "      <th>unique</th>\n",
       "      <td>2</td>\n",
       "      <td>NaN</td>\n",
       "      <td>NaN</td>\n",
       "      <td>3</td>\n",
       "      <td>NaN</td>\n",
       "      <td>NaN</td>\n",
       "    </tr>\n",
       "    <tr>\n",
       "      <th>top</th>\n",
       "      <td>Phrae</td>\n",
       "      <td>NaN</td>\n",
       "      <td>NaN</td>\n",
       "      <td>A</td>\n",
       "      <td>NaN</td>\n",
       "      <td>NaN</td>\n",
       "    </tr>\n",
       "    <tr>\n",
       "      <th>freq</th>\n",
       "      <td>3</td>\n",
       "      <td>NaN</td>\n",
       "      <td>NaN</td>\n",
       "      <td>3</td>\n",
       "      <td>NaN</td>\n",
       "      <td>NaN</td>\n",
       "    </tr>\n",
       "    <tr>\n",
       "      <th>mean</th>\n",
       "      <td>NaN</td>\n",
       "      <td>2017.000000</td>\n",
       "      <td>1.035564e+06</td>\n",
       "      <td>NaN</td>\n",
       "      <td>1035.563667</td>\n",
       "      <td>13.623578</td>\n",
       "    </tr>\n",
       "    <tr>\n",
       "      <th>std</th>\n",
       "      <td>NaN</td>\n",
       "      <td>0.894427</td>\n",
       "      <td>6.851977e+05</td>\n",
       "      <td>NaN</td>\n",
       "      <td>685.197697</td>\n",
       "      <td>0.766141</td>\n",
       "    </tr>\n",
       "    <tr>\n",
       "      <th>min</th>\n",
       "      <td>NaN</td>\n",
       "      <td>2016.000000</td>\n",
       "      <td>3.989360e+05</td>\n",
       "      <td>NaN</td>\n",
       "      <td>398.936000</td>\n",
       "      <td>12.896556</td>\n",
       "    </tr>\n",
       "    <tr>\n",
       "      <th>25%</th>\n",
       "      <td>NaN</td>\n",
       "      <td>2016.250000</td>\n",
       "      <td>4.131998e+05</td>\n",
       "      <td>NaN</td>\n",
       "      <td>413.199750</td>\n",
       "      <td>12.931617</td>\n",
       "    </tr>\n",
       "    <tr>\n",
       "      <th>50%</th>\n",
       "      <td>NaN</td>\n",
       "      <td>2017.000000</td>\n",
       "      <td>1.026040e+06</td>\n",
       "      <td>NaN</td>\n",
       "      <td>1026.040500</td>\n",
       "      <td>13.628146</td>\n",
       "    </tr>\n",
       "    <tr>\n",
       "      <th>75%</th>\n",
       "      <td>NaN</td>\n",
       "      <td>2017.750000</td>\n",
       "      <td>1.655616e+06</td>\n",
       "      <td>NaN</td>\n",
       "      <td>1655.616000</td>\n",
       "      <td>14.319645</td>\n",
       "    </tr>\n",
       "    <tr>\n",
       "      <th>max</th>\n",
       "      <td>NaN</td>\n",
       "      <td>2018.000000</td>\n",
       "      <td>1.687971e+06</td>\n",
       "      <td>NaN</td>\n",
       "      <td>1687.971000</td>\n",
       "      <td>14.339038</td>\n",
       "    </tr>\n",
       "  </tbody>\n",
       "</table>\n",
       "</div>"
      ],
      "text/plain": [
       "       province         year    population source  population (K)  \\\n",
       "count         6     6.000000  6.000000e+00      6        6.000000   \n",
       "unique        2          NaN           NaN      3             NaN   \n",
       "top       Phrae          NaN           NaN      A             NaN   \n",
       "freq          3          NaN           NaN      3             NaN   \n",
       "mean        NaN  2017.000000  1.035564e+06    NaN     1035.563667   \n",
       "std         NaN     0.894427  6.851977e+05    NaN      685.197697   \n",
       "min         NaN  2016.000000  3.989360e+05    NaN      398.936000   \n",
       "25%         NaN  2016.250000  4.131998e+05    NaN      413.199750   \n",
       "50%         NaN  2017.000000  1.026040e+06    NaN     1026.040500   \n",
       "75%         NaN  2017.750000  1.655616e+06    NaN     1655.616000   \n",
       "max         NaN  2018.000000  1.687971e+06    NaN     1687.971000   \n",
       "\n",
       "        LN population  \n",
       "count        6.000000  \n",
       "unique            NaN  \n",
       "top               NaN  \n",
       "freq              NaN  \n",
       "mean        13.623578  \n",
       "std          0.766141  \n",
       "min         12.896556  \n",
       "25%         12.931617  \n",
       "50%         13.628146  \n",
       "75%         14.319645  \n",
       "max         14.339038  "
      ]
     },
     "execution_count": 76,
     "metadata": {},
     "output_type": "execute_result"
    }
   ],
   "source": [
    "df.describe(include='all')"
   ]
  },
  {
   "cell_type": "markdown",
   "metadata": {
    "id": "XBidf1LaiHEj"
   },
   "source": [
    "## Grouping"
   ]
  },
  {
   "cell_type": "markdown",
   "metadata": {
    "id": "l8Vc_DmZiHEk"
   },
   "source": [
    "### Group by"
   ]
  },
  {
   "cell_type": "markdown",
   "metadata": {
    "id": "gfhBzYOFiHEl"
   },
   "source": [
    "**Optimized groupby methods**\n",
    "- **count** <BR> Number of non-NA values in the group\n",
    "- **sum** <BR> Sum of non-NA values\n",
    "- **mean** <BR> Mean of non-NA values\n",
    "- **median** <BR> Arithmetic median of non-NA values\n",
    "- **std, var** <BR> Unbiased (n – 1 denominator) standard deviation and variance\n",
    "- **min, max** <BR> Minimum and maximum of non-NA values\n",
    "- **prod** <BR> Product of non-NA values\n",
    "- **first, last** <BR> First and last non-NA values"
   ]
  },
  {
   "cell_type": "code",
   "execution_count": 77,
   "metadata": {
    "colab": {
     "base_uri": "https://localhost:8080/"
    },
    "id": "L1SsV3dCiHEl",
    "outputId": "1eb627e4-a832-4932-b301-0e1d50b1afe5"
   },
   "outputs": [
    {
     "data": {
      "text/plain": [
       "province\n",
       "Chiang Mai    1.660804e+06\n",
       "Phrae         4.103237e+05\n",
       "Name: population, dtype: float64"
      ]
     },
     "execution_count": 77,
     "metadata": {},
     "output_type": "execute_result"
    }
   ],
   "source": [
    "# select avg(population) from df group by province\n",
    "df.groupby('province')['population'].mean()"
   ]
  },
  {
   "cell_type": "code",
   "execution_count": 78,
   "metadata": {
    "colab": {
     "base_uri": "https://localhost:8080/",
     "height": 112
    },
    "id": "gA9T8q2YiHEo",
    "outputId": "599cdd2c-696c-4af4-f78a-bb4629704fa5"
   },
   "outputs": [
    {
     "data": {
      "text/html": [
       "<div>\n",
       "<style scoped>\n",
       "    .dataframe tbody tr th:only-of-type {\n",
       "        vertical-align: middle;\n",
       "    }\n",
       "\n",
       "    .dataframe tbody tr th {\n",
       "        vertical-align: top;\n",
       "    }\n",
       "\n",
       "    .dataframe thead th {\n",
       "        text-align: right;\n",
       "    }\n",
       "</style>\n",
       "<table border=\"1\" class=\"dataframe\">\n",
       "  <thead>\n",
       "    <tr style=\"text-align: right;\">\n",
       "      <th></th>\n",
       "      <th>province</th>\n",
       "      <th>avg_pop</th>\n",
       "    </tr>\n",
       "  </thead>\n",
       "  <tbody>\n",
       "    <tr>\n",
       "      <th>0</th>\n",
       "      <td>Chiang Mai</td>\n",
       "      <td>1.660804e+06</td>\n",
       "    </tr>\n",
       "    <tr>\n",
       "      <th>1</th>\n",
       "      <td>Phrae</td>\n",
       "      <td>4.103237e+05</td>\n",
       "    </tr>\n",
       "  </tbody>\n",
       "</table>\n",
       "</div>"
      ],
      "text/plain": [
       "     province       avg_pop\n",
       "0  Chiang Mai  1.660804e+06\n",
       "1       Phrae  4.103237e+05"
      ]
     },
     "execution_count": 78,
     "metadata": {},
     "output_type": "execute_result"
    }
   ],
   "source": [
    "# Convert to DataFrame\n",
    "df.groupby('province')['population'].mean().reset_index(name='avg_pop')"
   ]
  },
  {
   "cell_type": "markdown",
   "metadata": {
    "id": "W2OVp62iiHEp"
   },
   "source": [
    "#### Multiple group by"
   ]
  },
  {
   "cell_type": "code",
   "execution_count": 79,
   "metadata": {
    "colab": {
     "base_uri": "https://localhost:8080/",
     "height": 143
    },
    "id": "VS5hNA2NiHEq",
    "outputId": "0fafb12a-1103-4f04-f9fc-680e4fd4f742",
    "scrolled": true
   },
   "outputs": [
    {
     "data": {
      "text/html": [
       "<div>\n",
       "<style scoped>\n",
       "    .dataframe tbody tr th:only-of-type {\n",
       "        vertical-align: middle;\n",
       "    }\n",
       "\n",
       "    .dataframe tbody tr th {\n",
       "        vertical-align: top;\n",
       "    }\n",
       "\n",
       "    .dataframe thead th {\n",
       "        text-align: right;\n",
       "    }\n",
       "</style>\n",
       "<table border=\"1\" class=\"dataframe\">\n",
       "  <thead>\n",
       "    <tr style=\"text-align: right;\">\n",
       "      <th></th>\n",
       "      <th>population</th>\n",
       "    </tr>\n",
       "    <tr>\n",
       "      <th>province</th>\n",
       "      <th></th>\n",
       "    </tr>\n",
       "  </thead>\n",
       "  <tbody>\n",
       "    <tr>\n",
       "      <th>Chiang Mai</th>\n",
       "      <td>1.660804e+06</td>\n",
       "    </tr>\n",
       "    <tr>\n",
       "      <th>Phrae</th>\n",
       "      <td>4.103237e+05</td>\n",
       "    </tr>\n",
       "  </tbody>\n",
       "</table>\n",
       "</div>"
      ],
      "text/plain": [
       "              population\n",
       "province                \n",
       "Chiang Mai  1.660804e+06\n",
       "Phrae       4.103237e+05"
      ]
     },
     "execution_count": 79,
     "metadata": {},
     "output_type": "execute_result"
    }
   ],
   "source": [
    "mapper = {\n",
    "    'population' : 'mean'\n",
    "}\n",
    "\n",
    "df.groupby('province').agg(mapper)"
   ]
  },
  {
   "cell_type": "code",
   "execution_count": 80,
   "metadata": {
    "colab": {
     "base_uri": "https://localhost:8080/",
     "height": 174
    },
    "id": "W70JIaSOiHEs",
    "outputId": "18f9e1b5-6aae-4ed1-fe98-980f72bf2185"
   },
   "outputs": [
    {
     "data": {
      "text/html": [
       "<div>\n",
       "<style scoped>\n",
       "    .dataframe tbody tr th:only-of-type {\n",
       "        vertical-align: middle;\n",
       "    }\n",
       "\n",
       "    .dataframe tbody tr th {\n",
       "        vertical-align: top;\n",
       "    }\n",
       "\n",
       "    .dataframe thead tr th {\n",
       "        text-align: left;\n",
       "    }\n",
       "\n",
       "    .dataframe thead tr:last-of-type th {\n",
       "        text-align: right;\n",
       "    }\n",
       "</style>\n",
       "<table border=\"1\" class=\"dataframe\">\n",
       "  <thead>\n",
       "    <tr>\n",
       "      <th></th>\n",
       "      <th colspan=\"3\" halign=\"left\">population</th>\n",
       "    </tr>\n",
       "    <tr>\n",
       "      <th></th>\n",
       "      <th>min</th>\n",
       "      <th>max</th>\n",
       "      <th>mean</th>\n",
       "    </tr>\n",
       "    <tr>\n",
       "      <th>province</th>\n",
       "      <th></th>\n",
       "      <th></th>\n",
       "      <th></th>\n",
       "    </tr>\n",
       "  </thead>\n",
       "  <tbody>\n",
       "    <tr>\n",
       "      <th>Chiang Mai</th>\n",
       "      <td>1630428</td>\n",
       "      <td>1687971</td>\n",
       "      <td>1.660804e+06</td>\n",
       "    </tr>\n",
       "    <tr>\n",
       "      <th>Phrae</th>\n",
       "      <td>398936</td>\n",
       "      <td>421653</td>\n",
       "      <td>4.103237e+05</td>\n",
       "    </tr>\n",
       "  </tbody>\n",
       "</table>\n",
       "</div>"
      ],
      "text/plain": [
       "           population                       \n",
       "                  min      max          mean\n",
       "province                                    \n",
       "Chiang Mai    1630428  1687971  1.660804e+06\n",
       "Phrae          398936   421653  4.103237e+05"
      ]
     },
     "execution_count": 80,
     "metadata": {},
     "output_type": "execute_result"
    }
   ],
   "source": [
    "mapper = {\n",
    "    'population' : ['min','max','mean']\n",
    "}\n",
    "\n",
    "df.groupby('province').agg(mapper)"
   ]
  },
  {
   "cell_type": "code",
   "execution_count": 81,
   "metadata": {
    "colab": {
     "base_uri": "https://localhost:8080/",
     "height": 174
    },
    "id": "1rsyVY7xiHEu",
    "outputId": "469d7c11-a75a-4139-e16d-892ce0d91f8b"
   },
   "outputs": [
    {
     "data": {
      "text/html": [
       "<div>\n",
       "<style scoped>\n",
       "    .dataframe tbody tr th:only-of-type {\n",
       "        vertical-align: middle;\n",
       "    }\n",
       "\n",
       "    .dataframe tbody tr th {\n",
       "        vertical-align: top;\n",
       "    }\n",
       "\n",
       "    .dataframe thead tr th {\n",
       "        text-align: left;\n",
       "    }\n",
       "\n",
       "    .dataframe thead tr:last-of-type th {\n",
       "        text-align: right;\n",
       "    }\n",
       "</style>\n",
       "<table border=\"1\" class=\"dataframe\">\n",
       "  <thead>\n",
       "    <tr>\n",
       "      <th></th>\n",
       "      <th colspan=\"3\" halign=\"left\">population</th>\n",
       "      <th>source</th>\n",
       "    </tr>\n",
       "    <tr>\n",
       "      <th></th>\n",
       "      <th>min</th>\n",
       "      <th>max</th>\n",
       "      <th>mean</th>\n",
       "      <th>nunique</th>\n",
       "    </tr>\n",
       "    <tr>\n",
       "      <th>province</th>\n",
       "      <th></th>\n",
       "      <th></th>\n",
       "      <th></th>\n",
       "      <th></th>\n",
       "    </tr>\n",
       "  </thead>\n",
       "  <tbody>\n",
       "    <tr>\n",
       "      <th>Chiang Mai</th>\n",
       "      <td>1630428</td>\n",
       "      <td>1687971</td>\n",
       "      <td>1.660804e+06</td>\n",
       "      <td>2</td>\n",
       "    </tr>\n",
       "    <tr>\n",
       "      <th>Phrae</th>\n",
       "      <td>398936</td>\n",
       "      <td>421653</td>\n",
       "      <td>4.103237e+05</td>\n",
       "      <td>3</td>\n",
       "    </tr>\n",
       "  </tbody>\n",
       "</table>\n",
       "</div>"
      ],
      "text/plain": [
       "           population                         source\n",
       "                  min      max          mean nunique\n",
       "province                                            \n",
       "Chiang Mai    1630428  1687971  1.660804e+06       2\n",
       "Phrae          398936   421653  4.103237e+05       3"
      ]
     },
     "execution_count": 81,
     "metadata": {},
     "output_type": "execute_result"
    }
   ],
   "source": [
    "mapper = {\n",
    "    'population' : ['min','max','mean'],\n",
    "    'source' : 'nunique'\n",
    "}\n",
    "\n",
    "df.groupby('province').agg(mapper)"
   ]
  },
  {
   "cell_type": "markdown",
   "metadata": {
    "id": "sEyLe4L6iHEz"
   },
   "source": [
    "### Group by window"
   ]
  },
  {
   "cell_type": "code",
   "execution_count": 82,
   "metadata": {
    "colab": {
     "base_uri": "https://localhost:8080/"
    },
    "id": "s752yhQ8iHEz",
    "outputId": "1b5c342d-b727-475c-b5f6-a01ebfa3ab67"
   },
   "outputs": [
    {
     "data": {
      "text/plain": [
       "0          NaN\n",
       "1    3294440.0\n",
       "2    3351983.0\n",
       "3    2086907.0\n",
       "4     809318.0\n",
       "5     832035.0\n",
       "Name: population, dtype: float64"
      ]
     },
     "execution_count": 82,
     "metadata": {},
     "output_type": "execute_result"
    }
   ],
   "source": [
    "df['population'].rolling(2).sum()"
   ]
  },
  {
   "cell_type": "code",
   "execution_count": 83,
   "metadata": {
    "colab": {
     "base_uri": "https://localhost:8080/"
    },
    "id": "UOP-8TnkiHE1",
    "outputId": "12e30abb-0d85-4daf-bbdb-6c86e13446bf"
   },
   "outputs": [
    {
     "data": {
      "text/plain": [
       "0    1630428.0\n",
       "1    3294440.0\n",
       "2    3351983.0\n",
       "3    2086907.0\n",
       "4     809318.0\n",
       "5     832035.0\n",
       "Name: population, dtype: float64"
      ]
     },
     "execution_count": 83,
     "metadata": {},
     "output_type": "execute_result"
    }
   ],
   "source": [
    "df['population'].rolling(2, min_periods=1).sum()"
   ]
  },
  {
   "cell_type": "code",
   "execution_count": 84,
   "metadata": {
    "colab": {
     "base_uri": "https://localhost:8080/",
     "height": 237
    },
    "id": "JJpUKgBoiHE2",
    "outputId": "4b195eb3-c8b5-453b-8941-8533f9d14e27"
   },
   "outputs": [
    {
     "data": {
      "text/html": [
       "<div>\n",
       "<style scoped>\n",
       "    .dataframe tbody tr th:only-of-type {\n",
       "        vertical-align: middle;\n",
       "    }\n",
       "\n",
       "    .dataframe tbody tr th {\n",
       "        vertical-align: top;\n",
       "    }\n",
       "\n",
       "    .dataframe thead th {\n",
       "        text-align: right;\n",
       "    }\n",
       "</style>\n",
       "<table border=\"1\" class=\"dataframe\">\n",
       "  <thead>\n",
       "    <tr style=\"text-align: right;\">\n",
       "      <th></th>\n",
       "      <th>province</th>\n",
       "      <th>level_1</th>\n",
       "      <th>avg_pop_last2year</th>\n",
       "    </tr>\n",
       "  </thead>\n",
       "  <tbody>\n",
       "    <tr>\n",
       "      <th>0</th>\n",
       "      <td>Chiang Mai</td>\n",
       "      <td>0</td>\n",
       "      <td>1630428.0</td>\n",
       "    </tr>\n",
       "    <tr>\n",
       "      <th>1</th>\n",
       "      <td>Chiang Mai</td>\n",
       "      <td>1</td>\n",
       "      <td>3294440.0</td>\n",
       "    </tr>\n",
       "    <tr>\n",
       "      <th>2</th>\n",
       "      <td>Chiang Mai</td>\n",
       "      <td>2</td>\n",
       "      <td>3351983.0</td>\n",
       "    </tr>\n",
       "    <tr>\n",
       "      <th>3</th>\n",
       "      <td>Phrae</td>\n",
       "      <td>3</td>\n",
       "      <td>398936.0</td>\n",
       "    </tr>\n",
       "    <tr>\n",
       "      <th>4</th>\n",
       "      <td>Phrae</td>\n",
       "      <td>4</td>\n",
       "      <td>809318.0</td>\n",
       "    </tr>\n",
       "    <tr>\n",
       "      <th>5</th>\n",
       "      <td>Phrae</td>\n",
       "      <td>5</td>\n",
       "      <td>832035.0</td>\n",
       "    </tr>\n",
       "  </tbody>\n",
       "</table>\n",
       "</div>"
      ],
      "text/plain": [
       "     province  level_1  avg_pop_last2year\n",
       "0  Chiang Mai        0          1630428.0\n",
       "1  Chiang Mai        1          3294440.0\n",
       "2  Chiang Mai        2          3351983.0\n",
       "3       Phrae        3           398936.0\n",
       "4       Phrae        4           809318.0\n",
       "5       Phrae        5           832035.0"
      ]
     },
     "execution_count": 84,
     "metadata": {},
     "output_type": "execute_result"
    }
   ],
   "source": [
    "df.groupby('province')['population'].rolling(2, min_periods=1).sum().reset_index(name='avg_pop_last2year')"
   ]
  },
  {
   "cell_type": "markdown",
   "metadata": {
    "id": "sBYVDkldiHE4"
   },
   "source": [
    "## Pivot"
   ]
  },
  {
   "cell_type": "markdown",
   "metadata": {
    "id": "HxF17UPiiHE4"
   },
   "source": [
    "### Pivot"
   ]
  },
  {
   "cell_type": "code",
   "execution_count": 85,
   "metadata": {
    "colab": {
     "base_uri": "https://localhost:8080/",
     "height": 237
    },
    "id": "zdIoYouhiHE5",
    "outputId": "db239438-696d-4508-d059-14a06954794d"
   },
   "outputs": [
    {
     "data": {
      "text/html": [
       "<div>\n",
       "<style scoped>\n",
       "    .dataframe tbody tr th:only-of-type {\n",
       "        vertical-align: middle;\n",
       "    }\n",
       "\n",
       "    .dataframe tbody tr th {\n",
       "        vertical-align: top;\n",
       "    }\n",
       "\n",
       "    .dataframe thead th {\n",
       "        text-align: right;\n",
       "    }\n",
       "</style>\n",
       "<table border=\"1\" class=\"dataframe\">\n",
       "  <thead>\n",
       "    <tr style=\"text-align: right;\">\n",
       "      <th></th>\n",
       "      <th>province</th>\n",
       "      <th>year</th>\n",
       "      <th>population</th>\n",
       "      <th>source</th>\n",
       "      <th>population (K)</th>\n",
       "      <th>LN population</th>\n",
       "    </tr>\n",
       "  </thead>\n",
       "  <tbody>\n",
       "    <tr>\n",
       "      <th>0</th>\n",
       "      <td>Chiang Mai</td>\n",
       "      <td>2016</td>\n",
       "      <td>1630428</td>\n",
       "      <td>A</td>\n",
       "      <td>1630.428</td>\n",
       "      <td>14.304353</td>\n",
       "    </tr>\n",
       "    <tr>\n",
       "      <th>1</th>\n",
       "      <td>Chiang Mai</td>\n",
       "      <td>2017</td>\n",
       "      <td>1664012</td>\n",
       "      <td>B</td>\n",
       "      <td>1664.012</td>\n",
       "      <td>14.324742</td>\n",
       "    </tr>\n",
       "    <tr>\n",
       "      <th>2</th>\n",
       "      <td>Chiang Mai</td>\n",
       "      <td>2018</td>\n",
       "      <td>1687971</td>\n",
       "      <td>A</td>\n",
       "      <td>1687.971</td>\n",
       "      <td>14.339038</td>\n",
       "    </tr>\n",
       "    <tr>\n",
       "      <th>3</th>\n",
       "      <td>Phrae</td>\n",
       "      <td>2016</td>\n",
       "      <td>398936</td>\n",
       "      <td>C</td>\n",
       "      <td>398.936</td>\n",
       "      <td>12.896556</td>\n",
       "    </tr>\n",
       "    <tr>\n",
       "      <th>4</th>\n",
       "      <td>Phrae</td>\n",
       "      <td>2017</td>\n",
       "      <td>410382</td>\n",
       "      <td>A</td>\n",
       "      <td>410.382</td>\n",
       "      <td>12.924844</td>\n",
       "    </tr>\n",
       "    <tr>\n",
       "      <th>5</th>\n",
       "      <td>Phrae</td>\n",
       "      <td>2018</td>\n",
       "      <td>421653</td>\n",
       "      <td>B</td>\n",
       "      <td>421.653</td>\n",
       "      <td>12.951938</td>\n",
       "    </tr>\n",
       "  </tbody>\n",
       "</table>\n",
       "</div>"
      ],
      "text/plain": [
       "     province  year  population source  population (K)  LN population\n",
       "0  Chiang Mai  2016     1630428      A        1630.428      14.304353\n",
       "1  Chiang Mai  2017     1664012      B        1664.012      14.324742\n",
       "2  Chiang Mai  2018     1687971      A        1687.971      14.339038\n",
       "3       Phrae  2016      398936      C         398.936      12.896556\n",
       "4       Phrae  2017      410382      A         410.382      12.924844\n",
       "5       Phrae  2018      421653      B         421.653      12.951938"
      ]
     },
     "execution_count": 85,
     "metadata": {},
     "output_type": "execute_result"
    }
   ],
   "source": [
    "df"
   ]
  },
  {
   "cell_type": "code",
   "execution_count": 86,
   "metadata": {
    "colab": {
     "base_uri": "https://localhost:8080/",
     "height": 174
    },
    "id": "zbupH-uviHE7",
    "outputId": "8e39a210-13bb-4c25-de92-cf760df00af2",
    "scrolled": true
   },
   "outputs": [
    {
     "data": {
      "text/html": [
       "<div>\n",
       "<style scoped>\n",
       "    .dataframe tbody tr th:only-of-type {\n",
       "        vertical-align: middle;\n",
       "    }\n",
       "\n",
       "    .dataframe tbody tr th {\n",
       "        vertical-align: top;\n",
       "    }\n",
       "\n",
       "    .dataframe thead tr th {\n",
       "        text-align: left;\n",
       "    }\n",
       "\n",
       "    .dataframe thead tr:last-of-type th {\n",
       "        text-align: right;\n",
       "    }\n",
       "</style>\n",
       "<table border=\"1\" class=\"dataframe\">\n",
       "  <thead>\n",
       "    <tr>\n",
       "      <th></th>\n",
       "      <th colspan=\"3\" halign=\"left\">population</th>\n",
       "    </tr>\n",
       "    <tr>\n",
       "      <th>year</th>\n",
       "      <th>2016</th>\n",
       "      <th>2017</th>\n",
       "      <th>2018</th>\n",
       "    </tr>\n",
       "    <tr>\n",
       "      <th>province</th>\n",
       "      <th></th>\n",
       "      <th></th>\n",
       "      <th></th>\n",
       "    </tr>\n",
       "  </thead>\n",
       "  <tbody>\n",
       "    <tr>\n",
       "      <th>Chiang Mai</th>\n",
       "      <td>1630428</td>\n",
       "      <td>1664012</td>\n",
       "      <td>1687971</td>\n",
       "    </tr>\n",
       "    <tr>\n",
       "      <th>Phrae</th>\n",
       "      <td>398936</td>\n",
       "      <td>410382</td>\n",
       "      <td>421653</td>\n",
       "    </tr>\n",
       "  </tbody>\n",
       "</table>\n",
       "</div>"
      ],
      "text/plain": [
       "           population                  \n",
       "year             2016     2017     2018\n",
       "province                               \n",
       "Chiang Mai    1630428  1664012  1687971\n",
       "Phrae          398936   410382   421653"
      ]
     },
     "execution_count": 86,
     "metadata": {},
     "output_type": "execute_result"
    }
   ],
   "source": [
    "pivot = df.pivot_table(index=['province'], columns=['year'], values=['population'])\n",
    "pivot"
   ]
  },
  {
   "cell_type": "code",
   "execution_count": 87,
   "metadata": {
    "colab": {
     "base_uri": "https://localhost:8080/",
     "height": 112
    },
    "id": "Kcp4YZi2iHE9",
    "outputId": "f5262a5f-1278-4419-c1e0-3207d16de918"
   },
   "outputs": [
    {
     "data": {
      "text/html": [
       "<div>\n",
       "<style scoped>\n",
       "    .dataframe tbody tr th:only-of-type {\n",
       "        vertical-align: middle;\n",
       "    }\n",
       "\n",
       "    .dataframe tbody tr th {\n",
       "        vertical-align: top;\n",
       "    }\n",
       "\n",
       "    .dataframe thead th {\n",
       "        text-align: right;\n",
       "    }\n",
       "</style>\n",
       "<table border=\"1\" class=\"dataframe\">\n",
       "  <thead>\n",
       "    <tr style=\"text-align: right;\">\n",
       "      <th></th>\n",
       "      <th>province</th>\n",
       "      <th>2016</th>\n",
       "      <th>2017</th>\n",
       "      <th>2018</th>\n",
       "    </tr>\n",
       "  </thead>\n",
       "  <tbody>\n",
       "    <tr>\n",
       "      <th>0</th>\n",
       "      <td>Chiang Mai</td>\n",
       "      <td>1630428</td>\n",
       "      <td>1664012</td>\n",
       "      <td>1687971</td>\n",
       "    </tr>\n",
       "    <tr>\n",
       "      <th>1</th>\n",
       "      <td>Phrae</td>\n",
       "      <td>398936</td>\n",
       "      <td>410382</td>\n",
       "      <td>421653</td>\n",
       "    </tr>\n",
       "  </tbody>\n",
       "</table>\n",
       "</div>"
      ],
      "text/plain": [
       "     province     2016     2017     2018\n",
       "0  Chiang Mai  1630428  1664012  1687971\n",
       "1       Phrae   398936   410382   421653"
      ]
     },
     "execution_count": 87,
     "metadata": {},
     "output_type": "execute_result"
    }
   ],
   "source": [
    "pivot.columns = ['{1}'.format(col[0],col[1]) for col in pivot.columns.values]\n",
    "pivot = pivot.reset_index()\n",
    "pivot"
   ]
  },
  {
   "cell_type": "markdown",
   "metadata": {
    "id": "W2w8zP9jiHE_"
   },
   "source": [
    "### Melt"
   ]
  },
  {
   "cell_type": "code",
   "execution_count": 88,
   "metadata": {
    "colab": {
     "base_uri": "https://localhost:8080/",
     "height": 237
    },
    "id": "Rw0BDDfeiHE_",
    "outputId": "50c96df1-4758-4841-a8e7-635d1e949fbb"
   },
   "outputs": [
    {
     "data": {
      "text/html": [
       "<div>\n",
       "<style scoped>\n",
       "    .dataframe tbody tr th:only-of-type {\n",
       "        vertical-align: middle;\n",
       "    }\n",
       "\n",
       "    .dataframe tbody tr th {\n",
       "        vertical-align: top;\n",
       "    }\n",
       "\n",
       "    .dataframe thead th {\n",
       "        text-align: right;\n",
       "    }\n",
       "</style>\n",
       "<table border=\"1\" class=\"dataframe\">\n",
       "  <thead>\n",
       "    <tr style=\"text-align: right;\">\n",
       "      <th></th>\n",
       "      <th>province</th>\n",
       "      <th>variable</th>\n",
       "      <th>value</th>\n",
       "    </tr>\n",
       "  </thead>\n",
       "  <tbody>\n",
       "    <tr>\n",
       "      <th>0</th>\n",
       "      <td>Chiang Mai</td>\n",
       "      <td>2016</td>\n",
       "      <td>1630428</td>\n",
       "    </tr>\n",
       "    <tr>\n",
       "      <th>1</th>\n",
       "      <td>Phrae</td>\n",
       "      <td>2016</td>\n",
       "      <td>398936</td>\n",
       "    </tr>\n",
       "    <tr>\n",
       "      <th>2</th>\n",
       "      <td>Chiang Mai</td>\n",
       "      <td>2017</td>\n",
       "      <td>1664012</td>\n",
       "    </tr>\n",
       "    <tr>\n",
       "      <th>3</th>\n",
       "      <td>Phrae</td>\n",
       "      <td>2017</td>\n",
       "      <td>410382</td>\n",
       "    </tr>\n",
       "    <tr>\n",
       "      <th>4</th>\n",
       "      <td>Chiang Mai</td>\n",
       "      <td>2018</td>\n",
       "      <td>1687971</td>\n",
       "    </tr>\n",
       "    <tr>\n",
       "      <th>5</th>\n",
       "      <td>Phrae</td>\n",
       "      <td>2018</td>\n",
       "      <td>421653</td>\n",
       "    </tr>\n",
       "  </tbody>\n",
       "</table>\n",
       "</div>"
      ],
      "text/plain": [
       "     province variable    value\n",
       "0  Chiang Mai     2016  1630428\n",
       "1       Phrae     2016   398936\n",
       "2  Chiang Mai     2017  1664012\n",
       "3       Phrae     2017   410382\n",
       "4  Chiang Mai     2018  1687971\n",
       "5       Phrae     2018   421653"
      ]
     },
     "execution_count": 88,
     "metadata": {},
     "output_type": "execute_result"
    }
   ],
   "source": [
    "melt = pd.melt(pivot, id_vars=['province'], value_vars=['2016','2017','2018'])\n",
    "melt"
   ]
  },
  {
   "cell_type": "code",
   "execution_count": 89,
   "metadata": {
    "colab": {
     "base_uri": "https://localhost:8080/",
     "height": 237
    },
    "id": "BZAVr1fiiHFB",
    "outputId": "488e1d68-850b-4692-ac1b-106872e9d541"
   },
   "outputs": [
    {
     "data": {
      "text/html": [
       "<div>\n",
       "<style scoped>\n",
       "    .dataframe tbody tr th:only-of-type {\n",
       "        vertical-align: middle;\n",
       "    }\n",
       "\n",
       "    .dataframe tbody tr th {\n",
       "        vertical-align: top;\n",
       "    }\n",
       "\n",
       "    .dataframe thead th {\n",
       "        text-align: right;\n",
       "    }\n",
       "</style>\n",
       "<table border=\"1\" class=\"dataframe\">\n",
       "  <thead>\n",
       "    <tr style=\"text-align: right;\">\n",
       "      <th></th>\n",
       "      <th>province</th>\n",
       "      <th>year</th>\n",
       "      <th>population</th>\n",
       "    </tr>\n",
       "  </thead>\n",
       "  <tbody>\n",
       "    <tr>\n",
       "      <th>0</th>\n",
       "      <td>Chiang Mai</td>\n",
       "      <td>2016</td>\n",
       "      <td>1630428</td>\n",
       "    </tr>\n",
       "    <tr>\n",
       "      <th>1</th>\n",
       "      <td>Phrae</td>\n",
       "      <td>2016</td>\n",
       "      <td>398936</td>\n",
       "    </tr>\n",
       "    <tr>\n",
       "      <th>2</th>\n",
       "      <td>Chiang Mai</td>\n",
       "      <td>2017</td>\n",
       "      <td>1664012</td>\n",
       "    </tr>\n",
       "    <tr>\n",
       "      <th>3</th>\n",
       "      <td>Phrae</td>\n",
       "      <td>2017</td>\n",
       "      <td>410382</td>\n",
       "    </tr>\n",
       "    <tr>\n",
       "      <th>4</th>\n",
       "      <td>Chiang Mai</td>\n",
       "      <td>2018</td>\n",
       "      <td>1687971</td>\n",
       "    </tr>\n",
       "    <tr>\n",
       "      <th>5</th>\n",
       "      <td>Phrae</td>\n",
       "      <td>2018</td>\n",
       "      <td>421653</td>\n",
       "    </tr>\n",
       "  </tbody>\n",
       "</table>\n",
       "</div>"
      ],
      "text/plain": [
       "     province  year  population\n",
       "0  Chiang Mai  2016     1630428\n",
       "1       Phrae  2016      398936\n",
       "2  Chiang Mai  2017     1664012\n",
       "3       Phrae  2017      410382\n",
       "4  Chiang Mai  2018     1687971\n",
       "5       Phrae  2018      421653"
      ]
     },
     "execution_count": 89,
     "metadata": {},
     "output_type": "execute_result"
    }
   ],
   "source": [
    "mapper = {\n",
    "    'variable':'year',\n",
    "    'value':'population'\n",
    "}\n",
    "melt = melt.rename(columns=mapper)\n",
    "melt"
   ]
  },
  {
   "cell_type": "markdown",
   "metadata": {
    "id": "OI_j4rbYiHFC"
   },
   "source": [
    "## Data Cleansing"
   ]
  },
  {
   "cell_type": "code",
   "execution_count": 90,
   "metadata": {
    "colab": {
     "base_uri": "https://localhost:8080/",
     "height": 237
    },
    "id": "UQnFf-2piHFD",
    "outputId": "65c1e2de-59e6-479f-cce7-ab8b7b91eea1"
   },
   "outputs": [
    {
     "data": {
      "text/html": [
       "<div>\n",
       "<style scoped>\n",
       "    .dataframe tbody tr th:only-of-type {\n",
       "        vertical-align: middle;\n",
       "    }\n",
       "\n",
       "    .dataframe tbody tr th {\n",
       "        vertical-align: top;\n",
       "    }\n",
       "\n",
       "    .dataframe thead th {\n",
       "        text-align: right;\n",
       "    }\n",
       "</style>\n",
       "<table border=\"1\" class=\"dataframe\">\n",
       "  <thead>\n",
       "    <tr style=\"text-align: right;\">\n",
       "      <th></th>\n",
       "      <th>province</th>\n",
       "      <th>year</th>\n",
       "      <th>population</th>\n",
       "    </tr>\n",
       "  </thead>\n",
       "  <tbody>\n",
       "    <tr>\n",
       "      <th>0</th>\n",
       "      <td>Chiang Mai</td>\n",
       "      <td>2016</td>\n",
       "      <td>1630428.0</td>\n",
       "    </tr>\n",
       "    <tr>\n",
       "      <th>1</th>\n",
       "      <td>Chiang Mai</td>\n",
       "      <td>2017</td>\n",
       "      <td>1664012.0</td>\n",
       "    </tr>\n",
       "    <tr>\n",
       "      <th>2</th>\n",
       "      <td>Chiang Mai</td>\n",
       "      <td>2018</td>\n",
       "      <td>1687971.0</td>\n",
       "    </tr>\n",
       "    <tr>\n",
       "      <th>3</th>\n",
       "      <td>Phrae</td>\n",
       "      <td>2016</td>\n",
       "      <td>NaN</td>\n",
       "    </tr>\n",
       "    <tr>\n",
       "      <th>4</th>\n",
       "      <td>Phrae</td>\n",
       "      <td>2017</td>\n",
       "      <td>410382.0</td>\n",
       "    </tr>\n",
       "    <tr>\n",
       "      <th>5</th>\n",
       "      <td>None</td>\n",
       "      <td>2018</td>\n",
       "      <td>421653.0</td>\n",
       "    </tr>\n",
       "  </tbody>\n",
       "</table>\n",
       "</div>"
      ],
      "text/plain": [
       "     province  year  population\n",
       "0  Chiang Mai  2016   1630428.0\n",
       "1  Chiang Mai  2017   1664012.0\n",
       "2  Chiang Mai  2018   1687971.0\n",
       "3       Phrae  2016         NaN\n",
       "4       Phrae  2017    410382.0\n",
       "5        None  2018    421653.0"
      ]
     },
     "execution_count": 90,
     "metadata": {},
     "output_type": "execute_result"
    }
   ],
   "source": [
    "# Create From a List\n",
    "data = [\n",
    "    ['Chiang Mai', 2016, 1630428],\n",
    "    ['Chiang Mai', 2017, 1664012],\n",
    "    ['Chiang Mai', 2018, 1687971],\n",
    "    ['Phrae', 2016, None],\n",
    "    ['Phrae', 2017, 410382],\n",
    "    [None, 2018, 421653]\n",
    "]\n",
    "df = pd.DataFrame(\n",
    "    data=data,\n",
    "    columns=['province','year','population']\n",
    ")\n",
    "df"
   ]
  },
  {
   "cell_type": "markdown",
   "metadata": {
    "id": "mmns1TzwiHFF"
   },
   "source": [
    "### Find Null"
   ]
  },
  {
   "cell_type": "code",
   "execution_count": 91,
   "metadata": {
    "colab": {
     "base_uri": "https://localhost:8080/",
     "height": 237
    },
    "id": "hFeVuS4miHFF",
    "outputId": "facdd53f-fa39-4441-bd60-24bf1b058c8b"
   },
   "outputs": [
    {
     "data": {
      "text/html": [
       "<div>\n",
       "<style scoped>\n",
       "    .dataframe tbody tr th:only-of-type {\n",
       "        vertical-align: middle;\n",
       "    }\n",
       "\n",
       "    .dataframe tbody tr th {\n",
       "        vertical-align: top;\n",
       "    }\n",
       "\n",
       "    .dataframe thead th {\n",
       "        text-align: right;\n",
       "    }\n",
       "</style>\n",
       "<table border=\"1\" class=\"dataframe\">\n",
       "  <thead>\n",
       "    <tr style=\"text-align: right;\">\n",
       "      <th></th>\n",
       "      <th>province</th>\n",
       "      <th>year</th>\n",
       "      <th>population</th>\n",
       "    </tr>\n",
       "  </thead>\n",
       "  <tbody>\n",
       "    <tr>\n",
       "      <th>0</th>\n",
       "      <td>False</td>\n",
       "      <td>False</td>\n",
       "      <td>False</td>\n",
       "    </tr>\n",
       "    <tr>\n",
       "      <th>1</th>\n",
       "      <td>False</td>\n",
       "      <td>False</td>\n",
       "      <td>False</td>\n",
       "    </tr>\n",
       "    <tr>\n",
       "      <th>2</th>\n",
       "      <td>False</td>\n",
       "      <td>False</td>\n",
       "      <td>False</td>\n",
       "    </tr>\n",
       "    <tr>\n",
       "      <th>3</th>\n",
       "      <td>False</td>\n",
       "      <td>False</td>\n",
       "      <td>True</td>\n",
       "    </tr>\n",
       "    <tr>\n",
       "      <th>4</th>\n",
       "      <td>False</td>\n",
       "      <td>False</td>\n",
       "      <td>False</td>\n",
       "    </tr>\n",
       "    <tr>\n",
       "      <th>5</th>\n",
       "      <td>True</td>\n",
       "      <td>False</td>\n",
       "      <td>False</td>\n",
       "    </tr>\n",
       "  </tbody>\n",
       "</table>\n",
       "</div>"
      ],
      "text/plain": [
       "   province   year  population\n",
       "0     False  False       False\n",
       "1     False  False       False\n",
       "2     False  False       False\n",
       "3     False  False        True\n",
       "4     False  False       False\n",
       "5      True  False       False"
      ]
     },
     "execution_count": 91,
     "metadata": {},
     "output_type": "execute_result"
    }
   ],
   "source": [
    "df.isnull()"
   ]
  },
  {
   "cell_type": "code",
   "execution_count": 92,
   "metadata": {
    "colab": {
     "base_uri": "https://localhost:8080/",
     "height": 237
    },
    "id": "v3NIZjAniHFG",
    "outputId": "d9319d3e-a178-4993-e524-e1c00c386b61"
   },
   "outputs": [
    {
     "data": {
      "text/html": [
       "<div>\n",
       "<style scoped>\n",
       "    .dataframe tbody tr th:only-of-type {\n",
       "        vertical-align: middle;\n",
       "    }\n",
       "\n",
       "    .dataframe tbody tr th {\n",
       "        vertical-align: top;\n",
       "    }\n",
       "\n",
       "    .dataframe thead th {\n",
       "        text-align: right;\n",
       "    }\n",
       "</style>\n",
       "<table border=\"1\" class=\"dataframe\">\n",
       "  <thead>\n",
       "    <tr style=\"text-align: right;\">\n",
       "      <th></th>\n",
       "      <th>province</th>\n",
       "      <th>year</th>\n",
       "      <th>population</th>\n",
       "    </tr>\n",
       "  </thead>\n",
       "  <tbody>\n",
       "    <tr>\n",
       "      <th>0</th>\n",
       "      <td>False</td>\n",
       "      <td>False</td>\n",
       "      <td>False</td>\n",
       "    </tr>\n",
       "    <tr>\n",
       "      <th>1</th>\n",
       "      <td>False</td>\n",
       "      <td>False</td>\n",
       "      <td>False</td>\n",
       "    </tr>\n",
       "    <tr>\n",
       "      <th>2</th>\n",
       "      <td>False</td>\n",
       "      <td>False</td>\n",
       "      <td>False</td>\n",
       "    </tr>\n",
       "    <tr>\n",
       "      <th>3</th>\n",
       "      <td>False</td>\n",
       "      <td>False</td>\n",
       "      <td>True</td>\n",
       "    </tr>\n",
       "    <tr>\n",
       "      <th>4</th>\n",
       "      <td>False</td>\n",
       "      <td>False</td>\n",
       "      <td>False</td>\n",
       "    </tr>\n",
       "    <tr>\n",
       "      <th>5</th>\n",
       "      <td>True</td>\n",
       "      <td>False</td>\n",
       "      <td>False</td>\n",
       "    </tr>\n",
       "  </tbody>\n",
       "</table>\n",
       "</div>"
      ],
      "text/plain": [
       "   province   year  population\n",
       "0     False  False       False\n",
       "1     False  False       False\n",
       "2     False  False       False\n",
       "3     False  False        True\n",
       "4     False  False       False\n",
       "5      True  False       False"
      ]
     },
     "execution_count": 92,
     "metadata": {},
     "output_type": "execute_result"
    }
   ],
   "source": [
    "df.isna()"
   ]
  },
  {
   "cell_type": "code",
   "execution_count": 93,
   "metadata": {
    "colab": {
     "base_uri": "https://localhost:8080/"
    },
    "id": "16iNsoMjiHFI",
    "outputId": "8b8a5c33-b817-4809-d996-a5ff702c4295"
   },
   "outputs": [
    {
     "data": {
      "text/plain": [
       "province      1\n",
       "year          0\n",
       "population    1\n",
       "dtype: int64"
      ]
     },
     "execution_count": 93,
     "metadata": {},
     "output_type": "execute_result"
    }
   ],
   "source": [
    "df.isnull().sum()"
   ]
  },
  {
   "cell_type": "markdown",
   "metadata": {
    "id": "9XwHQdN9iHFJ"
   },
   "source": [
    "### Drop NA"
   ]
  },
  {
   "cell_type": "code",
   "execution_count": 94,
   "metadata": {
    "colab": {
     "base_uri": "https://localhost:8080/",
     "height": 174
    },
    "id": "VJpxI2zbiHFK",
    "outputId": "899fc902-c7d6-475a-8026-cdf136dc32c5"
   },
   "outputs": [
    {
     "data": {
      "text/html": [
       "<div>\n",
       "<style scoped>\n",
       "    .dataframe tbody tr th:only-of-type {\n",
       "        vertical-align: middle;\n",
       "    }\n",
       "\n",
       "    .dataframe tbody tr th {\n",
       "        vertical-align: top;\n",
       "    }\n",
       "\n",
       "    .dataframe thead th {\n",
       "        text-align: right;\n",
       "    }\n",
       "</style>\n",
       "<table border=\"1\" class=\"dataframe\">\n",
       "  <thead>\n",
       "    <tr style=\"text-align: right;\">\n",
       "      <th></th>\n",
       "      <th>province</th>\n",
       "      <th>year</th>\n",
       "      <th>population</th>\n",
       "    </tr>\n",
       "  </thead>\n",
       "  <tbody>\n",
       "    <tr>\n",
       "      <th>0</th>\n",
       "      <td>Chiang Mai</td>\n",
       "      <td>2016</td>\n",
       "      <td>1630428.0</td>\n",
       "    </tr>\n",
       "    <tr>\n",
       "      <th>1</th>\n",
       "      <td>Chiang Mai</td>\n",
       "      <td>2017</td>\n",
       "      <td>1664012.0</td>\n",
       "    </tr>\n",
       "    <tr>\n",
       "      <th>2</th>\n",
       "      <td>Chiang Mai</td>\n",
       "      <td>2018</td>\n",
       "      <td>1687971.0</td>\n",
       "    </tr>\n",
       "    <tr>\n",
       "      <th>4</th>\n",
       "      <td>Phrae</td>\n",
       "      <td>2017</td>\n",
       "      <td>410382.0</td>\n",
       "    </tr>\n",
       "  </tbody>\n",
       "</table>\n",
       "</div>"
      ],
      "text/plain": [
       "     province  year  population\n",
       "0  Chiang Mai  2016   1630428.0\n",
       "1  Chiang Mai  2017   1664012.0\n",
       "2  Chiang Mai  2018   1687971.0\n",
       "4       Phrae  2017    410382.0"
      ]
     },
     "execution_count": 94,
     "metadata": {},
     "output_type": "execute_result"
    }
   ],
   "source": [
    "df.dropna()"
   ]
  },
  {
   "cell_type": "code",
   "execution_count": 95,
   "metadata": {
    "colab": {
     "base_uri": "https://localhost:8080/",
     "height": 206
    },
    "id": "P6spiG7ciHFL",
    "outputId": "9bd10c5a-d780-4146-bde5-c64453baad68"
   },
   "outputs": [
    {
     "data": {
      "text/html": [
       "<div>\n",
       "<style scoped>\n",
       "    .dataframe tbody tr th:only-of-type {\n",
       "        vertical-align: middle;\n",
       "    }\n",
       "\n",
       "    .dataframe tbody tr th {\n",
       "        vertical-align: top;\n",
       "    }\n",
       "\n",
       "    .dataframe thead th {\n",
       "        text-align: right;\n",
       "    }\n",
       "</style>\n",
       "<table border=\"1\" class=\"dataframe\">\n",
       "  <thead>\n",
       "    <tr style=\"text-align: right;\">\n",
       "      <th></th>\n",
       "      <th>province</th>\n",
       "      <th>year</th>\n",
       "      <th>population</th>\n",
       "    </tr>\n",
       "  </thead>\n",
       "  <tbody>\n",
       "    <tr>\n",
       "      <th>0</th>\n",
       "      <td>Chiang Mai</td>\n",
       "      <td>2016</td>\n",
       "      <td>1630428.0</td>\n",
       "    </tr>\n",
       "    <tr>\n",
       "      <th>1</th>\n",
       "      <td>Chiang Mai</td>\n",
       "      <td>2017</td>\n",
       "      <td>1664012.0</td>\n",
       "    </tr>\n",
       "    <tr>\n",
       "      <th>2</th>\n",
       "      <td>Chiang Mai</td>\n",
       "      <td>2018</td>\n",
       "      <td>1687971.0</td>\n",
       "    </tr>\n",
       "    <tr>\n",
       "      <th>3</th>\n",
       "      <td>Phrae</td>\n",
       "      <td>2016</td>\n",
       "      <td>NaN</td>\n",
       "    </tr>\n",
       "    <tr>\n",
       "      <th>4</th>\n",
       "      <td>Phrae</td>\n",
       "      <td>2017</td>\n",
       "      <td>410382.0</td>\n",
       "    </tr>\n",
       "  </tbody>\n",
       "</table>\n",
       "</div>"
      ],
      "text/plain": [
       "     province  year  population\n",
       "0  Chiang Mai  2016   1630428.0\n",
       "1  Chiang Mai  2017   1664012.0\n",
       "2  Chiang Mai  2018   1687971.0\n",
       "3       Phrae  2016         NaN\n",
       "4       Phrae  2017    410382.0"
      ]
     },
     "execution_count": 95,
     "metadata": {},
     "output_type": "execute_result"
    }
   ],
   "source": [
    "df.dropna(subset = ['province'])"
   ]
  },
  {
   "cell_type": "code",
   "execution_count": 96,
   "metadata": {
    "colab": {
     "base_uri": "https://localhost:8080/",
     "height": 237
    },
    "id": "N3KhLSnpiHFT",
    "outputId": "50dea00f-bf09-40f8-9ba0-68387fe262ad"
   },
   "outputs": [
    {
     "data": {
      "text/html": [
       "<div>\n",
       "<style scoped>\n",
       "    .dataframe tbody tr th:only-of-type {\n",
       "        vertical-align: middle;\n",
       "    }\n",
       "\n",
       "    .dataframe tbody tr th {\n",
       "        vertical-align: top;\n",
       "    }\n",
       "\n",
       "    .dataframe thead th {\n",
       "        text-align: right;\n",
       "    }\n",
       "</style>\n",
       "<table border=\"1\" class=\"dataframe\">\n",
       "  <thead>\n",
       "    <tr style=\"text-align: right;\">\n",
       "      <th></th>\n",
       "      <th>province</th>\n",
       "      <th>year</th>\n",
       "      <th>population</th>\n",
       "    </tr>\n",
       "  </thead>\n",
       "  <tbody>\n",
       "    <tr>\n",
       "      <th>0</th>\n",
       "      <td>Chiang Mai</td>\n",
       "      <td>2016</td>\n",
       "      <td>1630428.0</td>\n",
       "    </tr>\n",
       "    <tr>\n",
       "      <th>1</th>\n",
       "      <td>Chiang Mai</td>\n",
       "      <td>2017</td>\n",
       "      <td>1664012.0</td>\n",
       "    </tr>\n",
       "    <tr>\n",
       "      <th>2</th>\n",
       "      <td>Chiang Mai</td>\n",
       "      <td>2018</td>\n",
       "      <td>1687971.0</td>\n",
       "    </tr>\n",
       "    <tr>\n",
       "      <th>3</th>\n",
       "      <td>Phrae</td>\n",
       "      <td>2016</td>\n",
       "      <td>NaN</td>\n",
       "    </tr>\n",
       "    <tr>\n",
       "      <th>4</th>\n",
       "      <td>Phrae</td>\n",
       "      <td>2017</td>\n",
       "      <td>410382.0</td>\n",
       "    </tr>\n",
       "    <tr>\n",
       "      <th>5</th>\n",
       "      <td>None</td>\n",
       "      <td>2018</td>\n",
       "      <td>421653.0</td>\n",
       "    </tr>\n",
       "  </tbody>\n",
       "</table>\n",
       "</div>"
      ],
      "text/plain": [
       "     province  year  population\n",
       "0  Chiang Mai  2016   1630428.0\n",
       "1  Chiang Mai  2017   1664012.0\n",
       "2  Chiang Mai  2018   1687971.0\n",
       "3       Phrae  2016         NaN\n",
       "4       Phrae  2017    410382.0\n",
       "5        None  2018    421653.0"
      ]
     },
     "execution_count": 96,
     "metadata": {},
     "output_type": "execute_result"
    }
   ],
   "source": [
    "df # to show that all commands don't replace (remind)"
   ]
  },
  {
   "cell_type": "markdown",
   "metadata": {
    "id": "MKrp84J7iHFV"
   },
   "source": [
    "### Fill NA"
   ]
  },
  {
   "cell_type": "code",
   "execution_count": 97,
   "metadata": {
    "colab": {
     "base_uri": "https://localhost:8080/",
     "height": 237
    },
    "id": "eUzFE-jFiHFV",
    "outputId": "487fd66a-3b77-4ce4-fa33-ba9efa92f0f2"
   },
   "outputs": [
    {
     "data": {
      "text/html": [
       "<div>\n",
       "<style scoped>\n",
       "    .dataframe tbody tr th:only-of-type {\n",
       "        vertical-align: middle;\n",
       "    }\n",
       "\n",
       "    .dataframe tbody tr th {\n",
       "        vertical-align: top;\n",
       "    }\n",
       "\n",
       "    .dataframe thead th {\n",
       "        text-align: right;\n",
       "    }\n",
       "</style>\n",
       "<table border=\"1\" class=\"dataframe\">\n",
       "  <thead>\n",
       "    <tr style=\"text-align: right;\">\n",
       "      <th></th>\n",
       "      <th>province</th>\n",
       "      <th>year</th>\n",
       "      <th>population</th>\n",
       "    </tr>\n",
       "  </thead>\n",
       "  <tbody>\n",
       "    <tr>\n",
       "      <th>0</th>\n",
       "      <td>Chiang Mai</td>\n",
       "      <td>2016</td>\n",
       "      <td>1630428.0</td>\n",
       "    </tr>\n",
       "    <tr>\n",
       "      <th>1</th>\n",
       "      <td>Chiang Mai</td>\n",
       "      <td>2017</td>\n",
       "      <td>1664012.0</td>\n",
       "    </tr>\n",
       "    <tr>\n",
       "      <th>2</th>\n",
       "      <td>Chiang Mai</td>\n",
       "      <td>2018</td>\n",
       "      <td>1687971.0</td>\n",
       "    </tr>\n",
       "    <tr>\n",
       "      <th>3</th>\n",
       "      <td>Phrae</td>\n",
       "      <td>2016</td>\n",
       "      <td>Missing</td>\n",
       "    </tr>\n",
       "    <tr>\n",
       "      <th>4</th>\n",
       "      <td>Phrae</td>\n",
       "      <td>2017</td>\n",
       "      <td>410382.0</td>\n",
       "    </tr>\n",
       "    <tr>\n",
       "      <th>5</th>\n",
       "      <td>Missing</td>\n",
       "      <td>2018</td>\n",
       "      <td>421653.0</td>\n",
       "    </tr>\n",
       "  </tbody>\n",
       "</table>\n",
       "</div>"
      ],
      "text/plain": [
       "     province  year population\n",
       "0  Chiang Mai  2016  1630428.0\n",
       "1  Chiang Mai  2017  1664012.0\n",
       "2  Chiang Mai  2018  1687971.0\n",
       "3       Phrae  2016    Missing\n",
       "4       Phrae  2017   410382.0\n",
       "5     Missing  2018   421653.0"
      ]
     },
     "execution_count": 97,
     "metadata": {},
     "output_type": "execute_result"
    }
   ],
   "source": [
    "df.fillna('Missing')"
   ]
  },
  {
   "cell_type": "code",
   "execution_count": 98,
   "metadata": {
    "colab": {
     "base_uri": "https://localhost:8080/",
     "height": 255
    },
    "id": "ualQGoiRiHFX",
    "outputId": "40db28e4-5ed7-4275-c7cd-0c548242b1e4"
   },
   "outputs": [
    {
     "name": "stdout",
     "output_type": "stream",
     "text": [
      "{'province': 'Unknown', 'population': 1162889.2}\n"
     ]
    },
    {
     "data": {
      "text/html": [
       "<div>\n",
       "<style scoped>\n",
       "    .dataframe tbody tr th:only-of-type {\n",
       "        vertical-align: middle;\n",
       "    }\n",
       "\n",
       "    .dataframe tbody tr th {\n",
       "        vertical-align: top;\n",
       "    }\n",
       "\n",
       "    .dataframe thead th {\n",
       "        text-align: right;\n",
       "    }\n",
       "</style>\n",
       "<table border=\"1\" class=\"dataframe\">\n",
       "  <thead>\n",
       "    <tr style=\"text-align: right;\">\n",
       "      <th></th>\n",
       "      <th>province</th>\n",
       "      <th>year</th>\n",
       "      <th>population</th>\n",
       "    </tr>\n",
       "  </thead>\n",
       "  <tbody>\n",
       "    <tr>\n",
       "      <th>0</th>\n",
       "      <td>Chiang Mai</td>\n",
       "      <td>2016</td>\n",
       "      <td>1630428.0</td>\n",
       "    </tr>\n",
       "    <tr>\n",
       "      <th>1</th>\n",
       "      <td>Chiang Mai</td>\n",
       "      <td>2017</td>\n",
       "      <td>1664012.0</td>\n",
       "    </tr>\n",
       "    <tr>\n",
       "      <th>2</th>\n",
       "      <td>Chiang Mai</td>\n",
       "      <td>2018</td>\n",
       "      <td>1687971.0</td>\n",
       "    </tr>\n",
       "    <tr>\n",
       "      <th>3</th>\n",
       "      <td>Phrae</td>\n",
       "      <td>2016</td>\n",
       "      <td>1162889.2</td>\n",
       "    </tr>\n",
       "    <tr>\n",
       "      <th>4</th>\n",
       "      <td>Phrae</td>\n",
       "      <td>2017</td>\n",
       "      <td>410382.0</td>\n",
       "    </tr>\n",
       "    <tr>\n",
       "      <th>5</th>\n",
       "      <td>Unknown</td>\n",
       "      <td>2018</td>\n",
       "      <td>421653.0</td>\n",
       "    </tr>\n",
       "  </tbody>\n",
       "</table>\n",
       "</div>"
      ],
      "text/plain": [
       "     province  year  population\n",
       "0  Chiang Mai  2016   1630428.0\n",
       "1  Chiang Mai  2017   1664012.0\n",
       "2  Chiang Mai  2018   1687971.0\n",
       "3       Phrae  2016   1162889.2\n",
       "4       Phrae  2017    410382.0\n",
       "5     Unknown  2018    421653.0"
      ]
     },
     "metadata": {},
     "output_type": "display_data"
    }
   ],
   "source": [
    "mapper = {\n",
    "    'province' : 'Unknown',\n",
    "    'population' : df['population'].mean()\n",
    "}\n",
    "print(mapper)\n",
    "display(df.fillna(mapper))"
   ]
  },
  {
   "cell_type": "markdown",
   "metadata": {
    "id": "oQr5IoCQiHFY"
   },
   "source": [
    "## Append and Join"
   ]
  },
  {
   "cell_type": "markdown",
   "metadata": {
    "id": "irb7mjhEiHFY"
   },
   "source": [
    "### Append"
   ]
  },
  {
   "cell_type": "code",
   "execution_count": 99,
   "metadata": {
    "colab": {
     "base_uri": "https://localhost:8080/",
     "height": 143
    },
    "id": "sp-EuVeMiHFZ",
    "outputId": "667fb9ff-94ac-4637-b18f-f00bbfcb903c"
   },
   "outputs": [
    {
     "data": {
      "text/html": [
       "<div>\n",
       "<style scoped>\n",
       "    .dataframe tbody tr th:only-of-type {\n",
       "        vertical-align: middle;\n",
       "    }\n",
       "\n",
       "    .dataframe tbody tr th {\n",
       "        vertical-align: top;\n",
       "    }\n",
       "\n",
       "    .dataframe thead th {\n",
       "        text-align: right;\n",
       "    }\n",
       "</style>\n",
       "<table border=\"1\" class=\"dataframe\">\n",
       "  <thead>\n",
       "    <tr style=\"text-align: right;\">\n",
       "      <th></th>\n",
       "      <th>province</th>\n",
       "      <th>year</th>\n",
       "      <th>population</th>\n",
       "    </tr>\n",
       "  </thead>\n",
       "  <tbody>\n",
       "    <tr>\n",
       "      <th>0</th>\n",
       "      <td>Chiang Mai</td>\n",
       "      <td>2016</td>\n",
       "      <td>1630428</td>\n",
       "    </tr>\n",
       "    <tr>\n",
       "      <th>1</th>\n",
       "      <td>Chiang Mai</td>\n",
       "      <td>2017</td>\n",
       "      <td>1664012</td>\n",
       "    </tr>\n",
       "    <tr>\n",
       "      <th>2</th>\n",
       "      <td>Chiang Mai</td>\n",
       "      <td>2018</td>\n",
       "      <td>1687971</td>\n",
       "    </tr>\n",
       "  </tbody>\n",
       "</table>\n",
       "</div>"
      ],
      "text/plain": [
       "     province  year  population\n",
       "0  Chiang Mai  2016     1630428\n",
       "1  Chiang Mai  2017     1664012\n",
       "2  Chiang Mai  2018     1687971"
      ]
     },
     "execution_count": 99,
     "metadata": {},
     "output_type": "execute_result"
    }
   ],
   "source": [
    "# Create From a List\n",
    "data = [\n",
    "    ['Chiang Mai', 2016, 1630428],\n",
    "    ['Chiang Mai', 2017, 1664012],\n",
    "    ['Chiang Mai', 2018, 1687971],\n",
    "]\n",
    "df1 = pd.DataFrame(\n",
    "    data=data,\n",
    "    columns=['province','year','population']\n",
    ")\n",
    "df1"
   ]
  },
  {
   "cell_type": "code",
   "execution_count": 100,
   "metadata": {
    "colab": {
     "base_uri": "https://localhost:8080/",
     "height": 143
    },
    "id": "vltUGddxiHFb",
    "outputId": "9dbac200-58b0-48eb-dab2-347832beb931"
   },
   "outputs": [
    {
     "data": {
      "text/html": [
       "<div>\n",
       "<style scoped>\n",
       "    .dataframe tbody tr th:only-of-type {\n",
       "        vertical-align: middle;\n",
       "    }\n",
       "\n",
       "    .dataframe tbody tr th {\n",
       "        vertical-align: top;\n",
       "    }\n",
       "\n",
       "    .dataframe thead th {\n",
       "        text-align: right;\n",
       "    }\n",
       "</style>\n",
       "<table border=\"1\" class=\"dataframe\">\n",
       "  <thead>\n",
       "    <tr style=\"text-align: right;\">\n",
       "      <th></th>\n",
       "      <th>province</th>\n",
       "      <th>year</th>\n",
       "      <th>population</th>\n",
       "    </tr>\n",
       "  </thead>\n",
       "  <tbody>\n",
       "    <tr>\n",
       "      <th>0</th>\n",
       "      <td>Phrae</td>\n",
       "      <td>2016</td>\n",
       "      <td>398936</td>\n",
       "    </tr>\n",
       "    <tr>\n",
       "      <th>1</th>\n",
       "      <td>Phrae</td>\n",
       "      <td>2017</td>\n",
       "      <td>410382</td>\n",
       "    </tr>\n",
       "    <tr>\n",
       "      <th>2</th>\n",
       "      <td>Phrae</td>\n",
       "      <td>2018</td>\n",
       "      <td>421653</td>\n",
       "    </tr>\n",
       "  </tbody>\n",
       "</table>\n",
       "</div>"
      ],
      "text/plain": [
       "  province  year  population\n",
       "0    Phrae  2016      398936\n",
       "1    Phrae  2017      410382\n",
       "2    Phrae  2018      421653"
      ]
     },
     "execution_count": 100,
     "metadata": {},
     "output_type": "execute_result"
    }
   ],
   "source": [
    "# Create From a List\n",
    "data = [\n",
    "    ['Phrae', 2016, 398936],\n",
    "    ['Phrae', 2017, 410382],\n",
    "    ['Phrae', 2018, 421653]\n",
    "]\n",
    "df2 = pd.DataFrame(\n",
    "    data=data,\n",
    "    columns=['province','year','population']\n",
    ")\n",
    "df2"
   ]
  },
  {
   "cell_type": "code",
   "execution_count": 101,
   "metadata": {
    "colab": {
     "base_uri": "https://localhost:8080/",
     "height": 237
    },
    "id": "l9pDFF-5iHFd",
    "outputId": "c52cafa1-bdaf-4331-bf8c-cfb5f1fe2e30"
   },
   "outputs": [
    {
     "data": {
      "text/html": [
       "<div>\n",
       "<style scoped>\n",
       "    .dataframe tbody tr th:only-of-type {\n",
       "        vertical-align: middle;\n",
       "    }\n",
       "\n",
       "    .dataframe tbody tr th {\n",
       "        vertical-align: top;\n",
       "    }\n",
       "\n",
       "    .dataframe thead th {\n",
       "        text-align: right;\n",
       "    }\n",
       "</style>\n",
       "<table border=\"1\" class=\"dataframe\">\n",
       "  <thead>\n",
       "    <tr style=\"text-align: right;\">\n",
       "      <th></th>\n",
       "      <th>province</th>\n",
       "      <th>year</th>\n",
       "      <th>population</th>\n",
       "    </tr>\n",
       "  </thead>\n",
       "  <tbody>\n",
       "    <tr>\n",
       "      <th>0</th>\n",
       "      <td>Chiang Mai</td>\n",
       "      <td>2016</td>\n",
       "      <td>1630428</td>\n",
       "    </tr>\n",
       "    <tr>\n",
       "      <th>1</th>\n",
       "      <td>Chiang Mai</td>\n",
       "      <td>2017</td>\n",
       "      <td>1664012</td>\n",
       "    </tr>\n",
       "    <tr>\n",
       "      <th>2</th>\n",
       "      <td>Chiang Mai</td>\n",
       "      <td>2018</td>\n",
       "      <td>1687971</td>\n",
       "    </tr>\n",
       "    <tr>\n",
       "      <th>0</th>\n",
       "      <td>Phrae</td>\n",
       "      <td>2016</td>\n",
       "      <td>398936</td>\n",
       "    </tr>\n",
       "    <tr>\n",
       "      <th>1</th>\n",
       "      <td>Phrae</td>\n",
       "      <td>2017</td>\n",
       "      <td>410382</td>\n",
       "    </tr>\n",
       "    <tr>\n",
       "      <th>2</th>\n",
       "      <td>Phrae</td>\n",
       "      <td>2018</td>\n",
       "      <td>421653</td>\n",
       "    </tr>\n",
       "  </tbody>\n",
       "</table>\n",
       "</div>"
      ],
      "text/plain": [
       "     province  year  population\n",
       "0  Chiang Mai  2016     1630428\n",
       "1  Chiang Mai  2017     1664012\n",
       "2  Chiang Mai  2018     1687971\n",
       "0       Phrae  2016      398936\n",
       "1       Phrae  2017      410382\n",
       "2       Phrae  2018      421653"
      ]
     },
     "execution_count": 101,
     "metadata": {},
     "output_type": "execute_result"
    }
   ],
   "source": [
    "df = df1.append(df2)\n",
    "df"
   ]
  },
  {
   "cell_type": "code",
   "execution_count": 102,
   "metadata": {
    "colab": {
     "base_uri": "https://localhost:8080/",
     "height": 237
    },
    "id": "ZFADFs0siHFe",
    "outputId": "26f549ea-b0c3-4c59-ff63-b48b9aec7bdd"
   },
   "outputs": [
    {
     "data": {
      "text/html": [
       "<div>\n",
       "<style scoped>\n",
       "    .dataframe tbody tr th:only-of-type {\n",
       "        vertical-align: middle;\n",
       "    }\n",
       "\n",
       "    .dataframe tbody tr th {\n",
       "        vertical-align: top;\n",
       "    }\n",
       "\n",
       "    .dataframe thead th {\n",
       "        text-align: right;\n",
       "    }\n",
       "</style>\n",
       "<table border=\"1\" class=\"dataframe\">\n",
       "  <thead>\n",
       "    <tr style=\"text-align: right;\">\n",
       "      <th></th>\n",
       "      <th>province</th>\n",
       "      <th>year</th>\n",
       "      <th>population</th>\n",
       "    </tr>\n",
       "  </thead>\n",
       "  <tbody>\n",
       "    <tr>\n",
       "      <th>0</th>\n",
       "      <td>Chiang Mai</td>\n",
       "      <td>2016</td>\n",
       "      <td>1630428</td>\n",
       "    </tr>\n",
       "    <tr>\n",
       "      <th>1</th>\n",
       "      <td>Chiang Mai</td>\n",
       "      <td>2017</td>\n",
       "      <td>1664012</td>\n",
       "    </tr>\n",
       "    <tr>\n",
       "      <th>2</th>\n",
       "      <td>Chiang Mai</td>\n",
       "      <td>2018</td>\n",
       "      <td>1687971</td>\n",
       "    </tr>\n",
       "    <tr>\n",
       "      <th>0</th>\n",
       "      <td>Phrae</td>\n",
       "      <td>2016</td>\n",
       "      <td>398936</td>\n",
       "    </tr>\n",
       "    <tr>\n",
       "      <th>1</th>\n",
       "      <td>Phrae</td>\n",
       "      <td>2017</td>\n",
       "      <td>410382</td>\n",
       "    </tr>\n",
       "    <tr>\n",
       "      <th>2</th>\n",
       "      <td>Phrae</td>\n",
       "      <td>2018</td>\n",
       "      <td>421653</td>\n",
       "    </tr>\n",
       "  </tbody>\n",
       "</table>\n",
       "</div>"
      ],
      "text/plain": [
       "     province  year  population\n",
       "0  Chiang Mai  2016     1630428\n",
       "1  Chiang Mai  2017     1664012\n",
       "2  Chiang Mai  2018     1687971\n",
       "0       Phrae  2016      398936\n",
       "1       Phrae  2017      410382\n",
       "2       Phrae  2018      421653"
      ]
     },
     "execution_count": 102,
     "metadata": {},
     "output_type": "execute_result"
    }
   ],
   "source": [
    "df = pd.concat([df1, df2])\n",
    "df"
   ]
  },
  {
   "cell_type": "code",
   "execution_count": 103,
   "metadata": {
    "colab": {
     "base_uri": "https://localhost:8080/",
     "height": 143
    },
    "id": "n8bekMPEiHFf",
    "outputId": "b8b790d5-b477-4218-c981-f5efe68111b5"
   },
   "outputs": [
    {
     "data": {
      "text/html": [
       "<div>\n",
       "<style scoped>\n",
       "    .dataframe tbody tr th:only-of-type {\n",
       "        vertical-align: middle;\n",
       "    }\n",
       "\n",
       "    .dataframe tbody tr th {\n",
       "        vertical-align: top;\n",
       "    }\n",
       "\n",
       "    .dataframe thead th {\n",
       "        text-align: right;\n",
       "    }\n",
       "</style>\n",
       "<table border=\"1\" class=\"dataframe\">\n",
       "  <thead>\n",
       "    <tr style=\"text-align: right;\">\n",
       "      <th></th>\n",
       "      <th>province</th>\n",
       "      <th>year</th>\n",
       "      <th>population</th>\n",
       "      <th>province</th>\n",
       "      <th>year</th>\n",
       "      <th>population</th>\n",
       "    </tr>\n",
       "  </thead>\n",
       "  <tbody>\n",
       "    <tr>\n",
       "      <th>0</th>\n",
       "      <td>Chiang Mai</td>\n",
       "      <td>2016</td>\n",
       "      <td>1630428</td>\n",
       "      <td>Phrae</td>\n",
       "      <td>2016</td>\n",
       "      <td>398936</td>\n",
       "    </tr>\n",
       "    <tr>\n",
       "      <th>1</th>\n",
       "      <td>Chiang Mai</td>\n",
       "      <td>2017</td>\n",
       "      <td>1664012</td>\n",
       "      <td>Phrae</td>\n",
       "      <td>2017</td>\n",
       "      <td>410382</td>\n",
       "    </tr>\n",
       "    <tr>\n",
       "      <th>2</th>\n",
       "      <td>Chiang Mai</td>\n",
       "      <td>2018</td>\n",
       "      <td>1687971</td>\n",
       "      <td>Phrae</td>\n",
       "      <td>2018</td>\n",
       "      <td>421653</td>\n",
       "    </tr>\n",
       "  </tbody>\n",
       "</table>\n",
       "</div>"
      ],
      "text/plain": [
       "     province  year  population province  year  population\n",
       "0  Chiang Mai  2016     1630428    Phrae  2016      398936\n",
       "1  Chiang Mai  2017     1664012    Phrae  2017      410382\n",
       "2  Chiang Mai  2018     1687971    Phrae  2018      421653"
      ]
     },
     "execution_count": 103,
     "metadata": {},
     "output_type": "execute_result"
    }
   ],
   "source": [
    "df2 = pd.concat([df1, df2], axis=1)\n",
    "df2"
   ]
  },
  {
   "cell_type": "markdown",
   "metadata": {
    "id": "qxdP858DiHFh"
   },
   "source": [
    "### Join"
   ]
  },
  {
   "cell_type": "code",
   "execution_count": 104,
   "metadata": {
    "colab": {
     "base_uri": "https://localhost:8080/",
     "height": 237
    },
    "id": "ezoEs7UliHFh",
    "outputId": "5c5ebc37-c8de-40f9-bf72-4171db6effff"
   },
   "outputs": [
    {
     "data": {
      "text/html": [
       "<div>\n",
       "<style scoped>\n",
       "    .dataframe tbody tr th:only-of-type {\n",
       "        vertical-align: middle;\n",
       "    }\n",
       "\n",
       "    .dataframe tbody tr th {\n",
       "        vertical-align: top;\n",
       "    }\n",
       "\n",
       "    .dataframe thead th {\n",
       "        text-align: right;\n",
       "    }\n",
       "</style>\n",
       "<table border=\"1\" class=\"dataframe\">\n",
       "  <thead>\n",
       "    <tr style=\"text-align: right;\">\n",
       "      <th></th>\n",
       "      <th>province</th>\n",
       "      <th>year</th>\n",
       "      <th>population</th>\n",
       "    </tr>\n",
       "  </thead>\n",
       "  <tbody>\n",
       "    <tr>\n",
       "      <th>0</th>\n",
       "      <td>Chiang Mai</td>\n",
       "      <td>2016</td>\n",
       "      <td>1630428</td>\n",
       "    </tr>\n",
       "    <tr>\n",
       "      <th>1</th>\n",
       "      <td>Chiang Mai</td>\n",
       "      <td>2017</td>\n",
       "      <td>1664012</td>\n",
       "    </tr>\n",
       "    <tr>\n",
       "      <th>2</th>\n",
       "      <td>Chiang Mai</td>\n",
       "      <td>2018</td>\n",
       "      <td>1687971</td>\n",
       "    </tr>\n",
       "    <tr>\n",
       "      <th>0</th>\n",
       "      <td>Phrae</td>\n",
       "      <td>2016</td>\n",
       "      <td>398936</td>\n",
       "    </tr>\n",
       "    <tr>\n",
       "      <th>1</th>\n",
       "      <td>Phrae</td>\n",
       "      <td>2017</td>\n",
       "      <td>410382</td>\n",
       "    </tr>\n",
       "    <tr>\n",
       "      <th>2</th>\n",
       "      <td>Phrae</td>\n",
       "      <td>2018</td>\n",
       "      <td>421653</td>\n",
       "    </tr>\n",
       "  </tbody>\n",
       "</table>\n",
       "</div>"
      ],
      "text/plain": [
       "     province  year  population\n",
       "0  Chiang Mai  2016     1630428\n",
       "1  Chiang Mai  2017     1664012\n",
       "2  Chiang Mai  2018     1687971\n",
       "0       Phrae  2016      398936\n",
       "1       Phrae  2017      410382\n",
       "2       Phrae  2018      421653"
      ]
     },
     "execution_count": 104,
     "metadata": {},
     "output_type": "execute_result"
    }
   ],
   "source": [
    "df"
   ]
  },
  {
   "cell_type": "code",
   "execution_count": 105,
   "metadata": {
    "colab": {
     "base_uri": "https://localhost:8080/",
     "height": 112
    },
    "id": "_xDt2PL3iHFi",
    "outputId": "f7893891-c8f4-4e1e-97cc-8f247feab8b4"
   },
   "outputs": [
    {
     "data": {
      "text/html": [
       "<div>\n",
       "<style scoped>\n",
       "    .dataframe tbody tr th:only-of-type {\n",
       "        vertical-align: middle;\n",
       "    }\n",
       "\n",
       "    .dataframe tbody tr th {\n",
       "        vertical-align: top;\n",
       "    }\n",
       "\n",
       "    .dataframe thead th {\n",
       "        text-align: right;\n",
       "    }\n",
       "</style>\n",
       "<table border=\"1\" class=\"dataframe\">\n",
       "  <thead>\n",
       "    <tr style=\"text-align: right;\">\n",
       "      <th></th>\n",
       "      <th>province</th>\n",
       "      <th>avg_pop</th>\n",
       "    </tr>\n",
       "  </thead>\n",
       "  <tbody>\n",
       "    <tr>\n",
       "      <th>0</th>\n",
       "      <td>Chiang Mai</td>\n",
       "      <td>1.660804e+06</td>\n",
       "    </tr>\n",
       "    <tr>\n",
       "      <th>1</th>\n",
       "      <td>Phrae</td>\n",
       "      <td>4.103237e+05</td>\n",
       "    </tr>\n",
       "  </tbody>\n",
       "</table>\n",
       "</div>"
      ],
      "text/plain": [
       "     province       avg_pop\n",
       "0  Chiang Mai  1.660804e+06\n",
       "1       Phrae  4.103237e+05"
      ]
     },
     "execution_count": 105,
     "metadata": {},
     "output_type": "execute_result"
    }
   ],
   "source": [
    "avg_df = df.groupby('province')['population'].mean().reset_index(name='avg_pop')\n",
    "avg_df"
   ]
  },
  {
   "cell_type": "code",
   "execution_count": 106,
   "metadata": {
    "colab": {
     "base_uri": "https://localhost:8080/"
    },
    "id": "Dd_b2p9HiHFk",
    "outputId": "0a17d6f5-5382-408f-b88e-be9fcd29a9ac"
   },
   "outputs": [
    {
     "data": {
      "text/plain": [
       "province      object\n",
       "year           int64\n",
       "population     int64\n",
       "dtype: object"
      ]
     },
     "execution_count": 106,
     "metadata": {},
     "output_type": "execute_result"
    }
   ],
   "source": [
    "df.dtypes"
   ]
  },
  {
   "cell_type": "code",
   "execution_count": 107,
   "metadata": {
    "colab": {
     "base_uri": "https://localhost:8080/"
    },
    "id": "OC9B6YgPiHFl",
    "outputId": "b2e7b7c8-78fe-4b1c-8dbf-18a346221e4d"
   },
   "outputs": [
    {
     "data": {
      "text/plain": [
       "province     object\n",
       "avg_pop     float64\n",
       "dtype: object"
      ]
     },
     "execution_count": 107,
     "metadata": {},
     "output_type": "execute_result"
    }
   ],
   "source": [
    "avg_df.dtypes"
   ]
  },
  {
   "cell_type": "code",
   "execution_count": 108,
   "metadata": {
    "colab": {
     "base_uri": "https://localhost:8080/",
     "height": 237
    },
    "id": "1Yp_npbciHFp",
    "outputId": "54231ff4-6b62-4fd5-8289-abb157473ba0",
    "scrolled": true
   },
   "outputs": [
    {
     "data": {
      "text/html": [
       "<div>\n",
       "<style scoped>\n",
       "    .dataframe tbody tr th:only-of-type {\n",
       "        vertical-align: middle;\n",
       "    }\n",
       "\n",
       "    .dataframe tbody tr th {\n",
       "        vertical-align: top;\n",
       "    }\n",
       "\n",
       "    .dataframe thead th {\n",
       "        text-align: right;\n",
       "    }\n",
       "</style>\n",
       "<table border=\"1\" class=\"dataframe\">\n",
       "  <thead>\n",
       "    <tr style=\"text-align: right;\">\n",
       "      <th></th>\n",
       "      <th>province</th>\n",
       "      <th>year</th>\n",
       "      <th>population</th>\n",
       "      <th>avg_pop</th>\n",
       "    </tr>\n",
       "  </thead>\n",
       "  <tbody>\n",
       "    <tr>\n",
       "      <th>0</th>\n",
       "      <td>Chiang Mai</td>\n",
       "      <td>2016</td>\n",
       "      <td>1630428</td>\n",
       "      <td>1.660804e+06</td>\n",
       "    </tr>\n",
       "    <tr>\n",
       "      <th>1</th>\n",
       "      <td>Chiang Mai</td>\n",
       "      <td>2017</td>\n",
       "      <td>1664012</td>\n",
       "      <td>1.660804e+06</td>\n",
       "    </tr>\n",
       "    <tr>\n",
       "      <th>2</th>\n",
       "      <td>Chiang Mai</td>\n",
       "      <td>2018</td>\n",
       "      <td>1687971</td>\n",
       "      <td>1.660804e+06</td>\n",
       "    </tr>\n",
       "    <tr>\n",
       "      <th>3</th>\n",
       "      <td>Phrae</td>\n",
       "      <td>2016</td>\n",
       "      <td>398936</td>\n",
       "      <td>4.103237e+05</td>\n",
       "    </tr>\n",
       "    <tr>\n",
       "      <th>4</th>\n",
       "      <td>Phrae</td>\n",
       "      <td>2017</td>\n",
       "      <td>410382</td>\n",
       "      <td>4.103237e+05</td>\n",
       "    </tr>\n",
       "    <tr>\n",
       "      <th>5</th>\n",
       "      <td>Phrae</td>\n",
       "      <td>2018</td>\n",
       "      <td>421653</td>\n",
       "      <td>4.103237e+05</td>\n",
       "    </tr>\n",
       "  </tbody>\n",
       "</table>\n",
       "</div>"
      ],
      "text/plain": [
       "     province  year  population       avg_pop\n",
       "0  Chiang Mai  2016     1630428  1.660804e+06\n",
       "1  Chiang Mai  2017     1664012  1.660804e+06\n",
       "2  Chiang Mai  2018     1687971  1.660804e+06\n",
       "3       Phrae  2016      398936  4.103237e+05\n",
       "4       Phrae  2017      410382  4.103237e+05\n",
       "5       Phrae  2018      421653  4.103237e+05"
      ]
     },
     "execution_count": 108,
     "metadata": {},
     "output_type": "execute_result"
    }
   ],
   "source": [
    "df.merge(avg_df, on = 'province', how = 'inner')"
   ]
  },
  {
   "cell_type": "markdown",
   "metadata": {
    "id": "Cqfv_mFviHFs"
   },
   "source": [
    "## SQL"
   ]
  },
  {
   "cell_type": "code",
   "execution_count": 109,
   "metadata": {
    "colab": {
     "base_uri": "https://localhost:8080/"
    },
    "id": "bo_dSLraiHFs",
    "outputId": "07f120ca-1095-4825-84e0-2b1d53f16ca4"
   },
   "outputs": [
    {
     "name": "stdout",
     "output_type": "stream",
     "text": [
      "Collecting pandasql\n",
      "  Downloading pandasql-0.7.3.tar.gz (26 kB)\n",
      "  Preparing metadata (setup.py) ... \u001b[?25ldone\n",
      "\u001b[?25hRequirement already satisfied: numpy in /Users/kao/opt/anaconda3/envs/py3/lib/python3.8/site-packages (from pandasql) (1.19.5)\n",
      "Requirement already satisfied: pandas in /Users/kao/opt/anaconda3/envs/py3/lib/python3.8/site-packages (from pandasql) (1.2.5)\n",
      "Requirement already satisfied: sqlalchemy in /Users/kao/opt/anaconda3/envs/py3/lib/python3.8/site-packages (from pandasql) (1.3.18)\n",
      "Requirement already satisfied: python-dateutil>=2.7.3 in /Users/kao/opt/anaconda3/envs/py3/lib/python3.8/site-packages (from pandas->pandasql) (2.8.1)\n",
      "Requirement already satisfied: pytz>=2017.3 in /Users/kao/opt/anaconda3/envs/py3/lib/python3.8/site-packages (from pandas->pandasql) (2021.1)\n",
      "Requirement already satisfied: six>=1.5 in /Users/kao/opt/anaconda3/envs/py3/lib/python3.8/site-packages (from python-dateutil>=2.7.3->pandas->pandasql) (1.15.0)\n",
      "Building wheels for collected packages: pandasql\n",
      "  Building wheel for pandasql (setup.py) ... \u001b[?25ldone\n",
      "\u001b[?25h  Created wheel for pandasql: filename=pandasql-0.7.3-py3-none-any.whl size=26781 sha256=ebc656a3febbc209e34238378e51e330b3b46c6bda66938335e10c7f027f2a06\n",
      "  Stored in directory: /Users/kao/Library/Caches/pip/wheels/54/15/89/7b7907c2466bc80261e590ada3494e1720bcc59625b075c666\n",
      "Successfully built pandasql\n",
      "Installing collected packages: pandasql\n",
      "Successfully installed pandasql-0.7.3\n",
      "\n",
      "\u001b[1m[\u001b[0m\u001b[34;49mnotice\u001b[0m\u001b[1;39;49m]\u001b[0m\u001b[39;49m A new release of pip available: \u001b[0m\u001b[31;49m22.3\u001b[0m\u001b[39;49m -> \u001b[0m\u001b[32;49m22.3.1\u001b[0m\n",
      "\u001b[1m[\u001b[0m\u001b[34;49mnotice\u001b[0m\u001b[1;39;49m]\u001b[0m\u001b[39;49m To update, run: \u001b[0m\u001b[32;49mpip install --upgrade pip\u001b[0m\n"
     ]
    }
   ],
   "source": [
    "!pip install pandasql"
   ]
  },
  {
   "cell_type": "code",
   "execution_count": 110,
   "metadata": {
    "id": "dcJuR9ixiHFx"
   },
   "outputs": [],
   "source": [
    "import pandasql"
   ]
  },
  {
   "cell_type": "code",
   "execution_count": 111,
   "metadata": {
    "colab": {
     "base_uri": "https://localhost:8080/",
     "height": 237
    },
    "id": "OoDSKiKuiHF1",
    "outputId": "5ae7428f-53c3-4254-9511-3fded732a459"
   },
   "outputs": [
    {
     "data": {
      "text/html": [
       "<div>\n",
       "<style scoped>\n",
       "    .dataframe tbody tr th:only-of-type {\n",
       "        vertical-align: middle;\n",
       "    }\n",
       "\n",
       "    .dataframe tbody tr th {\n",
       "        vertical-align: top;\n",
       "    }\n",
       "\n",
       "    .dataframe thead th {\n",
       "        text-align: right;\n",
       "    }\n",
       "</style>\n",
       "<table border=\"1\" class=\"dataframe\">\n",
       "  <thead>\n",
       "    <tr style=\"text-align: right;\">\n",
       "      <th></th>\n",
       "      <th>province</th>\n",
       "      <th>year</th>\n",
       "      <th>population</th>\n",
       "    </tr>\n",
       "  </thead>\n",
       "  <tbody>\n",
       "    <tr>\n",
       "      <th>0</th>\n",
       "      <td>Chiang Mai</td>\n",
       "      <td>2016</td>\n",
       "      <td>1630428</td>\n",
       "    </tr>\n",
       "    <tr>\n",
       "      <th>1</th>\n",
       "      <td>Chiang Mai</td>\n",
       "      <td>2017</td>\n",
       "      <td>1664012</td>\n",
       "    </tr>\n",
       "    <tr>\n",
       "      <th>2</th>\n",
       "      <td>Chiang Mai</td>\n",
       "      <td>2018</td>\n",
       "      <td>1687971</td>\n",
       "    </tr>\n",
       "    <tr>\n",
       "      <th>3</th>\n",
       "      <td>Phrae</td>\n",
       "      <td>2016</td>\n",
       "      <td>398936</td>\n",
       "    </tr>\n",
       "    <tr>\n",
       "      <th>4</th>\n",
       "      <td>Phrae</td>\n",
       "      <td>2017</td>\n",
       "      <td>410382</td>\n",
       "    </tr>\n",
       "    <tr>\n",
       "      <th>5</th>\n",
       "      <td>Phrae</td>\n",
       "      <td>2018</td>\n",
       "      <td>421653</td>\n",
       "    </tr>\n",
       "  </tbody>\n",
       "</table>\n",
       "</div>"
      ],
      "text/plain": [
       "     province  year  population\n",
       "0  Chiang Mai  2016     1630428\n",
       "1  Chiang Mai  2017     1664012\n",
       "2  Chiang Mai  2018     1687971\n",
       "3       Phrae  2016      398936\n",
       "4       Phrae  2017      410382\n",
       "5       Phrae  2018      421653"
      ]
     },
     "execution_count": 111,
     "metadata": {},
     "output_type": "execute_result"
    }
   ],
   "source": [
    "sql_df = pandasql.sqldf(\"SELECT * FROM df;\")\n",
    "sql_df"
   ]
  },
  {
   "cell_type": "code",
   "execution_count": 112,
   "metadata": {
    "colab": {
     "base_uri": "https://localhost:8080/",
     "height": 112
    },
    "id": "3vrg_IZOiHF2",
    "outputId": "d332887e-23d2-48ea-ff83-e1b74c95d18a"
   },
   "outputs": [
    {
     "data": {
      "text/html": [
       "<div>\n",
       "<style scoped>\n",
       "    .dataframe tbody tr th:only-of-type {\n",
       "        vertical-align: middle;\n",
       "    }\n",
       "\n",
       "    .dataframe tbody tr th {\n",
       "        vertical-align: top;\n",
       "    }\n",
       "\n",
       "    .dataframe thead th {\n",
       "        text-align: right;\n",
       "    }\n",
       "</style>\n",
       "<table border=\"1\" class=\"dataframe\">\n",
       "  <thead>\n",
       "    <tr style=\"text-align: right;\">\n",
       "      <th></th>\n",
       "      <th>province</th>\n",
       "      <th>avg(population)</th>\n",
       "    </tr>\n",
       "  </thead>\n",
       "  <tbody>\n",
       "    <tr>\n",
       "      <th>0</th>\n",
       "      <td>Chiang Mai</td>\n",
       "      <td>1.660804e+06</td>\n",
       "    </tr>\n",
       "    <tr>\n",
       "      <th>1</th>\n",
       "      <td>Phrae</td>\n",
       "      <td>4.103237e+05</td>\n",
       "    </tr>\n",
       "  </tbody>\n",
       "</table>\n",
       "</div>"
      ],
      "text/plain": [
       "     province  avg(population)\n",
       "0  Chiang Mai     1.660804e+06\n",
       "1       Phrae     4.103237e+05"
      ]
     },
     "execution_count": 112,
     "metadata": {},
     "output_type": "execute_result"
    }
   ],
   "source": [
    "sql_df = pandasql.sqldf(\"select province, avg(population) from df group by province;\")\n",
    "sql_df"
   ]
  },
  {
   "cell_type": "code",
   "execution_count": null,
   "metadata": {
    "id": "bTjQUZadeaVu"
   },
   "outputs": [],
   "source": []
  }
 ],
 "metadata": {
  "colab": {
   "name": "Pandas.ipynb",
   "provenance": [],
   "toc_visible": true
  },
  "kernelspec": {
   "display_name": "Python 3",
   "language": "python",
   "name": "python3"
  },
  "language_info": {
   "codemirror_mode": {
    "name": "ipython",
    "version": 3
   },
   "file_extension": ".py",
   "mimetype": "text/x-python",
   "name": "python",
   "nbconvert_exporter": "python",
   "pygments_lexer": "ipython3",
   "version": "3.8.3"
  },
  "toc": {
   "base_numbering": 1,
   "nav_menu": {},
   "number_sections": true,
   "sideBar": true,
   "skip_h1_title": false,
   "title_cell": "Table of Contents",
   "title_sidebar": "Contents",
   "toc_cell": false,
   "toc_position": {
    "height": "calc(100% - 180px)",
    "left": "10px",
    "top": "150px",
    "width": "297.594px"
   },
   "toc_section_display": true,
   "toc_window_display": true
  },
  "varInspector": {
   "cols": {
    "lenName": 16,
    "lenType": 16,
    "lenVar": 40
   },
   "kernels_config": {
    "python": {
     "delete_cmd_postfix": "",
     "delete_cmd_prefix": "del ",
     "library": "var_list.py",
     "varRefreshCmd": "print(var_dic_list())"
    },
    "r": {
     "delete_cmd_postfix": ") ",
     "delete_cmd_prefix": "rm(",
     "library": "var_list.r",
     "varRefreshCmd": "cat(var_dic_list()) "
    }
   },
   "types_to_exclude": [
    "module",
    "function",
    "builtin_function_or_method",
    "instance",
    "_Feature"
   ],
   "window_display": false
  }
 },
 "nbformat": 4,
 "nbformat_minor": 1
}
