{
 "cells": [
  {
   "cell_type": "markdown",
   "metadata": {
    "id": "hyoMCWi8Bgz9"
   },
   "source": [
    "# TOPIC 3 - SARIMAX\n",
    "\n",
    "[![Support-Ukraine](https://raw.githubusercontent.com/kaopanboonyuen/2110446_DataScience_2021s2/main/img/Support-Ukraine-FFD500.svg)](https://supportukrainenow.org/)\n",
    "\n",
    "![](https://github.com/kaopanboonyuen/GISTDA_TRAINING_2023/raw/main/logo_trainer.png)\n",
    "\n",
    "Credit: https://www.kaggle.com/code"
   ]
  },
  {
   "cell_type": "code",
   "execution_count": 1,
   "metadata": {
    "id": "twvzyAW7bg77"
   },
   "outputs": [],
   "source": [
    "import pandas as pd\n",
    "import numpy as np\n",
    "import matplotlib.pyplot as plt\n",
    "import numpy as np\n",
    "import warnings\n",
    "import math\n",
    "import itertools\n",
    "warnings.filterwarnings(\"ignore\")"
   ]
  },
  {
   "cell_type": "markdown",
   "metadata": {
    "id": "XtJ4wCRrZzjP"
   },
   "source": [
    "#Prepare Data"
   ]
  },
  {
   "cell_type": "code",
   "execution_count": 2,
   "metadata": {
    "colab": {
     "base_uri": "https://localhost:8080/"
    },
    "id": "NZwGs-NwcTzJ",
    "outputId": "5355ef54-3256-4c80-a850-e01d364147eb"
   },
   "outputs": [
    {
     "name": "stdout",
     "output_type": "stream",
     "text": [
      "--2023-01-29 12:15:54--  https://github.com/kaopanboonyuen/2110446_DataScience_2021s2/raw/main/datasets/PM25dataset/Bangkok.txt\n",
      "Resolving github.com (github.com)... 20.205.243.166\n",
      "Connecting to github.com (github.com)|20.205.243.166|:443... connected.\n",
      "HTTP request sent, awaiting response... 302 Found\n",
      "Location: https://raw.githubusercontent.com/kaopanboonyuen/2110446_DataScience_2021s2/main/datasets/PM25dataset/Bangkok.txt [following]\n",
      "--2023-01-29 12:15:55--  https://raw.githubusercontent.com/kaopanboonyuen/2110446_DataScience_2021s2/main/datasets/PM25dataset/Bangkok.txt\n",
      "Resolving raw.githubusercontent.com (raw.githubusercontent.com)... 185.199.111.133, 185.199.108.133, 185.199.109.133, ...\n",
      "Connecting to raw.githubusercontent.com (raw.githubusercontent.com)|185.199.111.133|:443... connected.\n",
      "HTTP request sent, awaiting response... 200 OK\n",
      "Length: 763228 (745K) [text/plain]\n",
      "Saving to: ‘Bangkok.txt.1’\n",
      "\n",
      "Bangkok.txt.1       100%[===================>] 745.34K  1.27MB/s    in 0.6s    \n",
      "\n",
      "2023-01-29 12:15:56 (1.27 MB/s) - ‘Bangkok.txt.1’ saved [763228/763228]\n",
      "\n"
     ]
    }
   ],
   "source": [
    "!wget 'https://github.com/kaopanboonyuen/2110446_DataScience_2021s2/raw/main/datasets/PM25dataset/Bangkok.txt'"
   ]
  },
  {
   "cell_type": "code",
   "execution_count": 3,
   "metadata": {
    "colab": {
     "base_uri": "https://localhost:8080/"
    },
    "id": "iOp42WHa_RSD",
    "outputId": "6c3e4232-1697-4167-f162-a902e24a56f4"
   },
   "outputs": [
    {
     "name": "stdout",
     "output_type": "stream",
     "text": [
      "% Country: Thailand\n",
      "\n",
      "% City: Bangkok\n",
      "\n",
      "% City (ASCII): Bangkok\n",
      "\n",
      "% Region: Bangkok\n",
      "\n",
      "% Region (ASCII): Bangkok\n",
      "\n",
      "% Population: 5104476\n",
      "\n",
      "% Latitude: 13.754\n",
      "\n",
      "% Longitude: 100.5014\n",
      "\n",
      "% Time Zone: Asia/Bangkok\n",
      "\n",
      "% Year, Month, Day, UTC Hour, PM2.5, PM10_mask, Retrospective\n",
      "\n",
      "2016\t3\t3\t8\t62.9\t1.00\t0\n",
      "\n",
      "2016\t3\t3\t9\t62.9\t1.00\t0\n",
      "\n"
     ]
    }
   ],
   "source": [
    "with open('Bangkok.txt','r') as f:\n",
    "    for i in range(12):\n",
    "        print(f.readline())"
   ]
  },
  {
   "cell_type": "code",
   "execution_count": 4,
   "metadata": {
    "colab": {
     "base_uri": "https://localhost:8080/",
     "height": 423
    },
    "id": "vdl_ZWTsbz51",
    "outputId": "148c43fd-5bd9-4335-ff58-b3ab291f4f8e"
   },
   "outputs": [
    {
     "data": {
      "text/html": [
       "<div>\n",
       "<style scoped>\n",
       "    .dataframe tbody tr th:only-of-type {\n",
       "        vertical-align: middle;\n",
       "    }\n",
       "\n",
       "    .dataframe tbody tr th {\n",
       "        vertical-align: top;\n",
       "    }\n",
       "\n",
       "    .dataframe thead th {\n",
       "        text-align: right;\n",
       "    }\n",
       "</style>\n",
       "<table border=\"1\" class=\"dataframe\">\n",
       "  <thead>\n",
       "    <tr style=\"text-align: right;\">\n",
       "      <th></th>\n",
       "      <th>0</th>\n",
       "      <th>1</th>\n",
       "      <th>2</th>\n",
       "      <th>3</th>\n",
       "      <th>4</th>\n",
       "      <th>5</th>\n",
       "      <th>6</th>\n",
       "    </tr>\n",
       "  </thead>\n",
       "  <tbody>\n",
       "    <tr>\n",
       "      <th>0</th>\n",
       "      <td>2016</td>\n",
       "      <td>3</td>\n",
       "      <td>3</td>\n",
       "      <td>8</td>\n",
       "      <td>62.9</td>\n",
       "      <td>1.0</td>\n",
       "      <td>0</td>\n",
       "    </tr>\n",
       "    <tr>\n",
       "      <th>1</th>\n",
       "      <td>2016</td>\n",
       "      <td>3</td>\n",
       "      <td>3</td>\n",
       "      <td>9</td>\n",
       "      <td>62.9</td>\n",
       "      <td>1.0</td>\n",
       "      <td>0</td>\n",
       "    </tr>\n",
       "    <tr>\n",
       "      <th>2</th>\n",
       "      <td>2016</td>\n",
       "      <td>3</td>\n",
       "      <td>3</td>\n",
       "      <td>10</td>\n",
       "      <td>55.5</td>\n",
       "      <td>1.0</td>\n",
       "      <td>0</td>\n",
       "    </tr>\n",
       "    <tr>\n",
       "      <th>3</th>\n",
       "      <td>2016</td>\n",
       "      <td>3</td>\n",
       "      <td>3</td>\n",
       "      <td>11</td>\n",
       "      <td>55.5</td>\n",
       "      <td>1.0</td>\n",
       "      <td>0</td>\n",
       "    </tr>\n",
       "    <tr>\n",
       "      <th>4</th>\n",
       "      <td>2016</td>\n",
       "      <td>3</td>\n",
       "      <td>3</td>\n",
       "      <td>12</td>\n",
       "      <td>47.9</td>\n",
       "      <td>1.0</td>\n",
       "      <td>0</td>\n",
       "    </tr>\n",
       "    <tr>\n",
       "      <th>...</th>\n",
       "      <td>...</td>\n",
       "      <td>...</td>\n",
       "      <td>...</td>\n",
       "      <td>...</td>\n",
       "      <td>...</td>\n",
       "      <td>...</td>\n",
       "      <td>...</td>\n",
       "    </tr>\n",
       "    <tr>\n",
       "      <th>31141</th>\n",
       "      <td>2020</td>\n",
       "      <td>3</td>\n",
       "      <td>18</td>\n",
       "      <td>9</td>\n",
       "      <td>23.9</td>\n",
       "      <td>0.0</td>\n",
       "      <td>0</td>\n",
       "    </tr>\n",
       "    <tr>\n",
       "      <th>31142</th>\n",
       "      <td>2020</td>\n",
       "      <td>3</td>\n",
       "      <td>18</td>\n",
       "      <td>10</td>\n",
       "      <td>24.4</td>\n",
       "      <td>0.0</td>\n",
       "      <td>0</td>\n",
       "    </tr>\n",
       "    <tr>\n",
       "      <th>31143</th>\n",
       "      <td>2020</td>\n",
       "      <td>3</td>\n",
       "      <td>18</td>\n",
       "      <td>11</td>\n",
       "      <td>24.9</td>\n",
       "      <td>0.0</td>\n",
       "      <td>0</td>\n",
       "    </tr>\n",
       "    <tr>\n",
       "      <th>31144</th>\n",
       "      <td>2020</td>\n",
       "      <td>3</td>\n",
       "      <td>18</td>\n",
       "      <td>12</td>\n",
       "      <td>27.0</td>\n",
       "      <td>0.0</td>\n",
       "      <td>0</td>\n",
       "    </tr>\n",
       "    <tr>\n",
       "      <th>31145</th>\n",
       "      <td>2020</td>\n",
       "      <td>3</td>\n",
       "      <td>18</td>\n",
       "      <td>13</td>\n",
       "      <td>26.1</td>\n",
       "      <td>0.0</td>\n",
       "      <td>0</td>\n",
       "    </tr>\n",
       "  </tbody>\n",
       "</table>\n",
       "<p>31146 rows × 7 columns</p>\n",
       "</div>"
      ],
      "text/plain": [
       "          0  1   2   3     4    5  6\n",
       "0      2016  3   3   8  62.9  1.0  0\n",
       "1      2016  3   3   9  62.9  1.0  0\n",
       "2      2016  3   3  10  55.5  1.0  0\n",
       "3      2016  3   3  11  55.5  1.0  0\n",
       "4      2016  3   3  12  47.9  1.0  0\n",
       "...     ... ..  ..  ..   ...  ... ..\n",
       "31141  2020  3  18   9  23.9  0.0  0\n",
       "31142  2020  3  18  10  24.4  0.0  0\n",
       "31143  2020  3  18  11  24.9  0.0  0\n",
       "31144  2020  3  18  12  27.0  0.0  0\n",
       "31145  2020  3  18  13  26.1  0.0  0\n",
       "\n",
       "[31146 rows x 7 columns]"
      ]
     },
     "execution_count": 4,
     "metadata": {},
     "output_type": "execute_result"
    }
   ],
   "source": [
    "bkk_pm25 = pd.read_csv('Bangkok.txt', sep='\\t', header=None, skiprows=10)\n",
    "bkk_pm25"
   ]
  },
  {
   "cell_type": "code",
   "execution_count": 5,
   "metadata": {
    "colab": {
     "base_uri": "https://localhost:8080/",
     "height": 455
    },
    "id": "-1BEqou8b34k",
    "outputId": "d0db5c39-0be0-4649-f93d-eb5fb979f76e"
   },
   "outputs": [
    {
     "data": {
      "text/html": [
       "<div>\n",
       "<style scoped>\n",
       "    .dataframe tbody tr th:only-of-type {\n",
       "        vertical-align: middle;\n",
       "    }\n",
       "\n",
       "    .dataframe tbody tr th {\n",
       "        vertical-align: top;\n",
       "    }\n",
       "\n",
       "    .dataframe thead th {\n",
       "        text-align: right;\n",
       "    }\n",
       "</style>\n",
       "<table border=\"1\" class=\"dataframe\">\n",
       "  <thead>\n",
       "    <tr style=\"text-align: right;\">\n",
       "      <th></th>\n",
       "      <th>PM2.5(µg/m3)</th>\n",
       "    </tr>\n",
       "    <tr>\n",
       "      <th>Time</th>\n",
       "      <th></th>\n",
       "    </tr>\n",
       "  </thead>\n",
       "  <tbody>\n",
       "    <tr>\n",
       "      <th>2016-03-03 15:00:00</th>\n",
       "      <td>62.9</td>\n",
       "    </tr>\n",
       "    <tr>\n",
       "      <th>2016-03-03 16:00:00</th>\n",
       "      <td>62.9</td>\n",
       "    </tr>\n",
       "    <tr>\n",
       "      <th>2016-03-03 17:00:00</th>\n",
       "      <td>55.5</td>\n",
       "    </tr>\n",
       "    <tr>\n",
       "      <th>2016-03-03 18:00:00</th>\n",
       "      <td>55.5</td>\n",
       "    </tr>\n",
       "    <tr>\n",
       "      <th>2016-03-03 19:00:00</th>\n",
       "      <td>47.9</td>\n",
       "    </tr>\n",
       "    <tr>\n",
       "      <th>...</th>\n",
       "      <td>...</td>\n",
       "    </tr>\n",
       "    <tr>\n",
       "      <th>2020-03-18 16:00:00</th>\n",
       "      <td>23.9</td>\n",
       "    </tr>\n",
       "    <tr>\n",
       "      <th>2020-03-18 17:00:00</th>\n",
       "      <td>24.4</td>\n",
       "    </tr>\n",
       "    <tr>\n",
       "      <th>2020-03-18 18:00:00</th>\n",
       "      <td>24.9</td>\n",
       "    </tr>\n",
       "    <tr>\n",
       "      <th>2020-03-18 19:00:00</th>\n",
       "      <td>27.0</td>\n",
       "    </tr>\n",
       "    <tr>\n",
       "      <th>2020-03-18 20:00:00</th>\n",
       "      <td>26.1</td>\n",
       "    </tr>\n",
       "  </tbody>\n",
       "</table>\n",
       "<p>31146 rows × 1 columns</p>\n",
       "</div>"
      ],
      "text/plain": [
       "                     PM2.5(µg/m3)\n",
       "Time                             \n",
       "2016-03-03 15:00:00          62.9\n",
       "2016-03-03 16:00:00          62.9\n",
       "2016-03-03 17:00:00          55.5\n",
       "2016-03-03 18:00:00          55.5\n",
       "2016-03-03 19:00:00          47.9\n",
       "...                           ...\n",
       "2020-03-18 16:00:00          23.9\n",
       "2020-03-18 17:00:00          24.4\n",
       "2020-03-18 18:00:00          24.9\n",
       "2020-03-18 19:00:00          27.0\n",
       "2020-03-18 20:00:00          26.1\n",
       "\n",
       "[31146 rows x 1 columns]"
      ]
     },
     "execution_count": 5,
     "metadata": {},
     "output_type": "execute_result"
    }
   ],
   "source": [
    "bkk_pm25['Time'] = pd.to_datetime({'year': bkk_pm25[0], 'month': bkk_pm25[1], 'day':bkk_pm25[2],'hour': bkk_pm25[3]})\n",
    "\n",
    "bkk_pm25['Time'] = bkk_pm25['Time'].dt.tz_localize('UTC').dt.tz_convert('Asia/Bangkok')\n",
    "bkk_pm25['Time'] = bkk_pm25['Time'].dt.tz_localize(None)\n",
    "\n",
    "bkk_pm25=bkk_pm25.drop([0,1,2,3,5,6],axis=1)\n",
    "bkk_pm25.columns = ['PM2.5(µg/m3)', 'Time']\n",
    "bkk_pm25 = bkk_pm25.set_index('Time')\n",
    "\n",
    "bkk_pm25"
   ]
  },
  {
   "cell_type": "code",
   "execution_count": 6,
   "metadata": {
    "colab": {
     "base_uri": "https://localhost:8080/",
     "height": 392
    },
    "id": "2p5Kaa0hb60F",
    "outputId": "801de545-3263-4098-c512-6ee35f77126f"
   },
   "outputs": [
    {
     "data": {
      "text/plain": [
       "[<matplotlib.lines.Line2D at 0x7f7bafbce100>]"
      ]
     },
     "execution_count": 6,
     "metadata": {},
     "output_type": "execute_result"
    },
    {
     "data": {
      "image/png": "[encoded data removed]",
      "text/plain": [
       "<Figure size 864x432 with 1 Axes>"
      ]
     },
     "metadata": {
      "needs_background": "light"
     },
     "output_type": "display_data"
    }
   ],
   "source": [
    "bkk_pm25 = bkk_pm25[~bkk_pm25.index.duplicated(keep='first')]\n",
    "bkk_pm25.index = pd.DatetimeIndex(bkk_pm25.index)\n",
    "bkk_pm25 = bkk_pm25.reindex(pd.date_range(\"2016-03-03 15:00:00\", \"2020-03-18 20:00:00\",freq='h'), fill_value=np.nan)\n",
    "bkk_pm25 = bkk_pm25.interpolate()\n",
    "\n",
    "plt.figure(figsize=(12,6))\n",
    "plt.plot(bkk_pm25,'r')"
   ]
  },
  {
   "cell_type": "code",
   "execution_count": 7,
   "metadata": {
    "id": "JZG6YUMkFEaU"
   },
   "outputs": [],
   "source": [
    "temp_df = pd.read_csv('https://github.com/kaopanboonyuen/2110446_DataScience_2021s2/raw/main/datasets/PM25dataset/3H_temperature_Bangkok.csv')\n",
    "temp_df['datetime'] = pd.to_datetime(temp_df['datetime'])\n",
    "temp_df.set_index(temp_df['datetime'],inplace=True)\n",
    "temp_df.drop(columns={'datetime'},inplace=True)\n",
    "temp_df = temp_df.resample('h').ffill()"
   ]
  },
  {
   "cell_type": "code",
   "execution_count": 8,
   "metadata": {
    "colab": {
     "base_uri": "https://localhost:8080/",
     "height": 455
    },
    "id": "VZY83pbpTrVb",
    "outputId": "e96954f7-145c-4df1-f156-ee42fd4f61f1"
   },
   "outputs": [
    {
     "data": {
      "text/html": [
       "<div>\n",
       "<style scoped>\n",
       "    .dataframe tbody tr th:only-of-type {\n",
       "        vertical-align: middle;\n",
       "    }\n",
       "\n",
       "    .dataframe tbody tr th {\n",
       "        vertical-align: top;\n",
       "    }\n",
       "\n",
       "    .dataframe thead th {\n",
       "        text-align: right;\n",
       "    }\n",
       "</style>\n",
       "<table border=\"1\" class=\"dataframe\">\n",
       "  <thead>\n",
       "    <tr style=\"text-align: right;\">\n",
       "      <th></th>\n",
       "      <th>Temp(C)</th>\n",
       "      <th>lat</th>\n",
       "      <th>long</th>\n",
       "    </tr>\n",
       "    <tr>\n",
       "      <th>datetime</th>\n",
       "      <th></th>\n",
       "      <th></th>\n",
       "      <th></th>\n",
       "    </tr>\n",
       "  </thead>\n",
       "  <tbody>\n",
       "    <tr>\n",
       "      <th>2016-01-01 01:00:00</th>\n",
       "      <td>24.8</td>\n",
       "      <td>13.754</td>\n",
       "      <td>100.5014</td>\n",
       "    </tr>\n",
       "    <tr>\n",
       "      <th>2016-01-01 02:00:00</th>\n",
       "      <td>24.8</td>\n",
       "      <td>13.754</td>\n",
       "      <td>100.5014</td>\n",
       "    </tr>\n",
       "    <tr>\n",
       "      <th>2016-01-01 03:00:00</th>\n",
       "      <td>24.8</td>\n",
       "      <td>13.754</td>\n",
       "      <td>100.5014</td>\n",
       "    </tr>\n",
       "    <tr>\n",
       "      <th>2016-01-01 04:00:00</th>\n",
       "      <td>23.8</td>\n",
       "      <td>13.754</td>\n",
       "      <td>100.5014</td>\n",
       "    </tr>\n",
       "    <tr>\n",
       "      <th>2016-01-01 05:00:00</th>\n",
       "      <td>23.8</td>\n",
       "      <td>13.754</td>\n",
       "      <td>100.5014</td>\n",
       "    </tr>\n",
       "    <tr>\n",
       "      <th>...</th>\n",
       "      <td>...</td>\n",
       "      <td>...</td>\n",
       "      <td>...</td>\n",
       "    </tr>\n",
       "    <tr>\n",
       "      <th>2020-12-31 18:00:00</th>\n",
       "      <td>29.6</td>\n",
       "      <td>13.754</td>\n",
       "      <td>100.5014</td>\n",
       "    </tr>\n",
       "    <tr>\n",
       "      <th>2020-12-31 19:00:00</th>\n",
       "      <td>26.4</td>\n",
       "      <td>13.754</td>\n",
       "      <td>100.5014</td>\n",
       "    </tr>\n",
       "    <tr>\n",
       "      <th>2020-12-31 20:00:00</th>\n",
       "      <td>26.4</td>\n",
       "      <td>13.754</td>\n",
       "      <td>100.5014</td>\n",
       "    </tr>\n",
       "    <tr>\n",
       "      <th>2020-12-31 21:00:00</th>\n",
       "      <td>26.4</td>\n",
       "      <td>13.754</td>\n",
       "      <td>100.5014</td>\n",
       "    </tr>\n",
       "    <tr>\n",
       "      <th>2020-12-31 22:00:00</th>\n",
       "      <td>24.7</td>\n",
       "      <td>13.754</td>\n",
       "      <td>100.5014</td>\n",
       "    </tr>\n",
       "  </tbody>\n",
       "</table>\n",
       "<p>43846 rows × 3 columns</p>\n",
       "</div>"
      ],
      "text/plain": [
       "                     Temp(C)     lat      long\n",
       "datetime                                      \n",
       "2016-01-01 01:00:00     24.8  13.754  100.5014\n",
       "2016-01-01 02:00:00     24.8  13.754  100.5014\n",
       "2016-01-01 03:00:00     24.8  13.754  100.5014\n",
       "2016-01-01 04:00:00     23.8  13.754  100.5014\n",
       "2016-01-01 05:00:00     23.8  13.754  100.5014\n",
       "...                      ...     ...       ...\n",
       "2020-12-31 18:00:00     29.6  13.754  100.5014\n",
       "2020-12-31 19:00:00     26.4  13.754  100.5014\n",
       "2020-12-31 20:00:00     26.4  13.754  100.5014\n",
       "2020-12-31 21:00:00     26.4  13.754  100.5014\n",
       "2020-12-31 22:00:00     24.7  13.754  100.5014\n",
       "\n",
       "[43846 rows x 3 columns]"
      ]
     },
     "execution_count": 8,
     "metadata": {},
     "output_type": "execute_result"
    }
   ],
   "source": [
    "temp_df"
   ]
  },
  {
   "cell_type": "code",
   "execution_count": 9,
   "metadata": {
    "id": "fQ6POfF9FKHJ"
   },
   "outputs": [],
   "source": [
    "data = bkk_pm25.merge(temp_df,left_index=True,right_index=True)"
   ]
  },
  {
   "cell_type": "code",
   "execution_count": 10,
   "metadata": {
    "colab": {
     "base_uri": "https://localhost:8080/",
     "height": 423
    },
    "id": "szabxvzzU1O2",
    "outputId": "b0b2780a-1802-415f-d0cd-b97f184e2525"
   },
   "outputs": [
    {
     "data": {
      "text/html": [
       "<div>\n",
       "<style scoped>\n",
       "    .dataframe tbody tr th:only-of-type {\n",
       "        vertical-align: middle;\n",
       "    }\n",
       "\n",
       "    .dataframe tbody tr th {\n",
       "        vertical-align: top;\n",
       "    }\n",
       "\n",
       "    .dataframe thead th {\n",
       "        text-align: right;\n",
       "    }\n",
       "</style>\n",
       "<table border=\"1\" class=\"dataframe\">\n",
       "  <thead>\n",
       "    <tr style=\"text-align: right;\">\n",
       "      <th></th>\n",
       "      <th>PM2.5(µg/m3)</th>\n",
       "      <th>Temp(C)</th>\n",
       "    </tr>\n",
       "  </thead>\n",
       "  <tbody>\n",
       "    <tr>\n",
       "      <th>2016-03-03 15:00:00</th>\n",
       "      <td>62.9</td>\n",
       "      <td>34.1</td>\n",
       "    </tr>\n",
       "    <tr>\n",
       "      <th>2016-03-03 16:00:00</th>\n",
       "      <td>62.9</td>\n",
       "      <td>34.6</td>\n",
       "    </tr>\n",
       "    <tr>\n",
       "      <th>2016-03-03 17:00:00</th>\n",
       "      <td>55.5</td>\n",
       "      <td>34.6</td>\n",
       "    </tr>\n",
       "    <tr>\n",
       "      <th>2016-03-03 18:00:00</th>\n",
       "      <td>55.5</td>\n",
       "      <td>34.6</td>\n",
       "    </tr>\n",
       "    <tr>\n",
       "      <th>2016-03-03 19:00:00</th>\n",
       "      <td>47.9</td>\n",
       "      <td>29.1</td>\n",
       "    </tr>\n",
       "    <tr>\n",
       "      <th>...</th>\n",
       "      <td>...</td>\n",
       "      <td>...</td>\n",
       "    </tr>\n",
       "    <tr>\n",
       "      <th>2020-03-18 16:00:00</th>\n",
       "      <td>23.9</td>\n",
       "      <td>33.0</td>\n",
       "    </tr>\n",
       "    <tr>\n",
       "      <th>2020-03-18 17:00:00</th>\n",
       "      <td>24.4</td>\n",
       "      <td>33.0</td>\n",
       "    </tr>\n",
       "    <tr>\n",
       "      <th>2020-03-18 18:00:00</th>\n",
       "      <td>24.9</td>\n",
       "      <td>33.0</td>\n",
       "    </tr>\n",
       "    <tr>\n",
       "      <th>2020-03-18 19:00:00</th>\n",
       "      <td>27.0</td>\n",
       "      <td>30.4</td>\n",
       "    </tr>\n",
       "    <tr>\n",
       "      <th>2020-03-18 20:00:00</th>\n",
       "      <td>26.1</td>\n",
       "      <td>30.4</td>\n",
       "    </tr>\n",
       "  </tbody>\n",
       "</table>\n",
       "<p>35430 rows × 2 columns</p>\n",
       "</div>"
      ],
      "text/plain": [
       "                     PM2.5(µg/m3)  Temp(C)\n",
       "2016-03-03 15:00:00          62.9     34.1\n",
       "2016-03-03 16:00:00          62.9     34.6\n",
       "2016-03-03 17:00:00          55.5     34.6\n",
       "2016-03-03 18:00:00          55.5     34.6\n",
       "2016-03-03 19:00:00          47.9     29.1\n",
       "...                           ...      ...\n",
       "2020-03-18 16:00:00          23.9     33.0\n",
       "2020-03-18 17:00:00          24.4     33.0\n",
       "2020-03-18 18:00:00          24.9     33.0\n",
       "2020-03-18 19:00:00          27.0     30.4\n",
       "2020-03-18 20:00:00          26.1     30.4\n",
       "\n",
       "[35430 rows x 2 columns]"
      ]
     },
     "execution_count": 10,
     "metadata": {},
     "output_type": "execute_result"
    }
   ],
   "source": [
    "data[['PM2.5(µg/m3)','Temp(C)']]"
   ]
  },
  {
   "cell_type": "code",
   "execution_count": 11,
   "metadata": {
    "colab": {
     "base_uri": "https://localhost:8080/",
     "height": 391
    },
    "id": "5G-HVpR3GoS8",
    "outputId": "03abaa03-f893-4953-c40a-82b03ad0b0e9"
   },
   "outputs": [
    {
     "data": {
      "text/plain": [
       "[<matplotlib.lines.Line2D at 0x7f7bb0d19e50>]"
      ]
     },
     "execution_count": 11,
     "metadata": {},
     "output_type": "execute_result"
    },
    {
     "data": {
      "image/png": "[encoded data removed]",
      "text/plain": [
       "<Figure size 864x432 with 1 Axes>"
      ]
     },
     "metadata": {
      "needs_background": "light"
     },
     "output_type": "display_data"
    }
   ],
   "source": [
    "data = data.resample('M').mean()\n",
    "plt.figure(figsize=(12,6))\n",
    "plt.plot(data['PM2.5(µg/m3)'],'r')"
   ]
  },
  {
   "cell_type": "markdown",
   "metadata": {
    "id": "Hv8CeP-oD3Ed"
   },
   "source": [
    "#Split data"
   ]
  },
  {
   "cell_type": "code",
   "execution_count": 12,
   "metadata": {
    "colab": {
     "base_uri": "https://localhost:8080/",
     "height": 206
    },
    "id": "_406L2XwFyp6",
    "outputId": "6b57156b-503c-4501-fe62-27bc89451d81"
   },
   "outputs": [
    {
     "data": {
      "text/html": [
       "<div>\n",
       "<style scoped>\n",
       "    .dataframe tbody tr th:only-of-type {\n",
       "        vertical-align: middle;\n",
       "    }\n",
       "\n",
       "    .dataframe tbody tr th {\n",
       "        vertical-align: top;\n",
       "    }\n",
       "\n",
       "    .dataframe thead th {\n",
       "        text-align: right;\n",
       "    }\n",
       "</style>\n",
       "<table border=\"1\" class=\"dataframe\">\n",
       "  <thead>\n",
       "    <tr style=\"text-align: right;\">\n",
       "      <th></th>\n",
       "      <th>PM2.5(µg/m3)</th>\n",
       "      <th>Temp(C)</th>\n",
       "      <th>lat</th>\n",
       "      <th>long</th>\n",
       "    </tr>\n",
       "  </thead>\n",
       "  <tbody>\n",
       "    <tr>\n",
       "      <th>2016-03-31</th>\n",
       "      <td>35.814905</td>\n",
       "      <td>30.238620</td>\n",
       "      <td>13.754</td>\n",
       "      <td>100.5014</td>\n",
       "    </tr>\n",
       "    <tr>\n",
       "      <th>2016-04-30</th>\n",
       "      <td>31.561806</td>\n",
       "      <td>32.025000</td>\n",
       "      <td>13.754</td>\n",
       "      <td>100.5014</td>\n",
       "    </tr>\n",
       "    <tr>\n",
       "      <th>2016-05-31</th>\n",
       "      <td>16.634745</td>\n",
       "      <td>31.756855</td>\n",
       "      <td>13.754</td>\n",
       "      <td>100.5014</td>\n",
       "    </tr>\n",
       "    <tr>\n",
       "      <th>2016-06-30</th>\n",
       "      <td>16.803264</td>\n",
       "      <td>30.157778</td>\n",
       "      <td>13.754</td>\n",
       "      <td>100.5014</td>\n",
       "    </tr>\n",
       "    <tr>\n",
       "      <th>2016-07-31</th>\n",
       "      <td>16.533401</td>\n",
       "      <td>29.157258</td>\n",
       "      <td>13.754</td>\n",
       "      <td>100.5014</td>\n",
       "    </tr>\n",
       "  </tbody>\n",
       "</table>\n",
       "</div>"
      ],
      "text/plain": [
       "            PM2.5(µg/m3)    Temp(C)     lat      long\n",
       "2016-03-31     35.814905  30.238620  13.754  100.5014\n",
       "2016-04-30     31.561806  32.025000  13.754  100.5014\n",
       "2016-05-31     16.634745  31.756855  13.754  100.5014\n",
       "2016-06-30     16.803264  30.157778  13.754  100.5014\n",
       "2016-07-31     16.533401  29.157258  13.754  100.5014"
      ]
     },
     "execution_count": 12,
     "metadata": {},
     "output_type": "execute_result"
    }
   ],
   "source": [
    "data.head()"
   ]
  },
  {
   "cell_type": "code",
   "execution_count": 13,
   "metadata": {
    "id": "J3DLzo2-3OXv"
   },
   "outputs": [],
   "source": [
    "train_size, valid_size, test_size = map(lambda r: int(r*data.shape[0]), (0.6, 0.2, 0.2))\n",
    "\n",
    "train, valid, test = data.iloc[:train_size], data.iloc[train_size: train_size + valid_size], data.iloc[train_size + valid_size:]"
   ]
  },
  {
   "cell_type": "code",
   "execution_count": 14,
   "metadata": {
    "id": "JeZdwtpG4dgp"
   },
   "outputs": [],
   "source": [
    "exog_columns = ['Temp(C)']"
   ]
  },
  {
   "cell_type": "markdown",
   "metadata": {
    "id": "XGcDkrYOD6OD"
   },
   "source": [
    "#Fit model with exogenous data\n",
    "We use the best parameter from the previous lab"
   ]
  },
  {
   "cell_type": "code",
   "execution_count": 15,
   "metadata": {
    "id": "P81ayaOvBy3o"
   },
   "outputs": [],
   "source": [
    "from sklearn.metrics import mean_squared_error\n",
    "from statsmodels.tsa.statespace.sarimax import SARIMAX"
   ]
  },
  {
   "cell_type": "code",
   "execution_count": 16,
   "metadata": {
    "id": "SLqi7mAqEKJe"
   },
   "outputs": [],
   "source": [
    "best_order = (0, 1, 1)\n",
    "best_seasonal_order = (1, 1, 0, 12)"
   ]
  },
  {
   "cell_type": "code",
   "execution_count": 17,
   "metadata": {
    "colab": {
     "base_uri": "https://localhost:8080/"
    },
    "id": "Hbve25Ncjgxs",
    "outputId": "fab91ecd-e5da-4453-d689-74694bc66b6b"
   },
   "outputs": [
    {
     "name": "stdout",
     "output_type": "stream",
     "text": [
      "==============================================================================\n",
      "                 coef    std err          z      P>|z|      [0.025      0.975]\n",
      "------------------------------------------------------------------------------\n",
      "Temp(C)        3.4120      1.302      2.621      0.009       0.861       5.963\n",
      "ma.L1          1.0000   1.94e+05   5.15e-06      1.000   -3.81e+05    3.81e+05\n",
      "ar.S.L12      -0.5528      0.139     -3.971      0.000      -0.826      -0.280\n",
      "sigma2         1.1090   2.15e+05   5.15e-06      1.000   -4.22e+05    4.22e+05\n",
      "==============================================================================\n"
     ]
    }
   ],
   "source": [
    "mod = SARIMAX(train['PM2.5(µg/m3)'],\n",
    "              exog=train[exog_columns],\n",
    "              order=best_order,\n",
    "              seasonal_order=best_seasonal_order,\n",
    "              enforce_stationarity=False,\n",
    "              enforce_invertibility=False)\n",
    "\n",
    "results = mod.fit()\n",
    "\n",
    "print(results.summary().tables[1])"
   ]
  },
  {
   "cell_type": "markdown",
   "metadata": {
    "id": "oveGRxMnEl5j"
   },
   "source": [
    "#Predict on test\n",
    "Even if it only predicts on the test set, it needs exogenous data in both validation set and test set to continuously make predictions in sequence from training set to validation set and, finally, to test set.<br>\n",
    "So, here, we concatenate exogenous data in validation set and test set together."
   ]
  },
  {
   "cell_type": "code",
   "execution_count": 18,
   "metadata": {
    "id": "ybcO_nFQC_nq"
   },
   "outputs": [],
   "source": [
    "test_exog = pd.concat((valid[exog_columns], test[exog_columns]), axis=0)"
   ]
  },
  {
   "cell_type": "code",
   "execution_count": 19,
   "metadata": {
    "id": "1glndqACCPbQ"
   },
   "outputs": [],
   "source": [
    "pred = results.get_prediction(start=test.index[0], end=test.index[-1], exog=test_exog, dynamic=False)\n",
    "pred_ci = pred.conf_int()"
   ]
  },
  {
   "cell_type": "code",
   "execution_count": 20,
   "metadata": {
    "colab": {
     "base_uri": "https://localhost:8080/",
     "height": 399
    },
    "id": "4CWGlHStJMzE",
    "outputId": "b7b0177f-ef7c-4c5d-c3bc-61e9dfb20863"
   },
   "outputs": [
    {
     "data": {
      "image/png": "[encoded data removed]",
      "text/plain": [
       "<Figure size 1440x480 with 1 Axes>"
      ]
     },
     "metadata": {},
     "output_type": "display_data"
    }
   ],
   "source": [
    "from matplotlib.pyplot import figure\n",
    "figure(num=None, figsize=(18, 6), dpi=80, facecolor='w', edgecolor='k')\n",
    "plt.plot(data['PM2.5(µg/m3)'], color='g',label='ground truth')\n",
    "pred.predicted_mean.plot(alpha=.7, color='r',label='predict')\n",
    "plt.legend(loc=\"upper right\")\n",
    "\n",
    "plt.show()"
   ]
  },
  {
   "cell_type": "code",
   "execution_count": 21,
   "metadata": {
    "colab": {
     "base_uri": "https://localhost:8080/"
    },
    "id": "ubNE7ZtW1bBf",
    "outputId": "7664b458-eee3-4642-d0c7-45d8793c7223"
   },
   "outputs": [
    {
     "name": "stdout",
     "output_type": "stream",
     "text": [
      "Test on SARIMAX with RMSE: 7.439601\n"
     ]
    }
   ],
   "source": [
    "mse = mean_squared_error(test['PM2.5(µg/m3)'], pred.predicted_mean)\n",
    "rmse = math.sqrt(mse)\n",
    "print('Test on SARIMAX with RMSE: %f' % (rmse, ))"
   ]
  },
  {
   "cell_type": "markdown",
   "metadata": {},
   "source": [
    "# Exercise with GISTDA DATA SET (Ocean Current)\n",
    "\n",
    "In these exercises, you'll build a SARIMAX with several parameters and then explore some results. Run this next cell to set everything up!\n",
    "\n",
    "HINT: CREAT ONLY U MODEL FOR THIS EXERCISE !!"
   ]
  },
  {
   "cell_type": "code",
   "execution_count": 22,
   "metadata": {},
   "outputs": [
    {
     "name": "stdout",
     "output_type": "stream",
     "text": [
      "--2023-01-29 12:16:02--  https://github.com/kaopanboonyuen/GISTDA_TRAINING_2023/raw/main/dataset/GUL3_combined_2020_small.csv\n",
      "Resolving github.com (github.com)... 20.205.243.166\n",
      "Connecting to github.com (github.com)|20.205.243.166|:443... connected.\n",
      "HTTP request sent, awaiting response... 302 Found\n",
      "Location: https://raw.githubusercontent.com/kaopanboonyuen/GISTDA_TRAINING_2023/main/dataset/GUL3_combined_2020_small.csv [following]\n",
      "--2023-01-29 12:16:02--  https://raw.githubusercontent.com/kaopanboonyuen/GISTDA_TRAINING_2023/main/dataset/GUL3_combined_2020_small.csv\n",
      "Resolving raw.githubusercontent.com (raw.githubusercontent.com)... 185.199.111.133, 185.199.108.133, 185.199.109.133, ...\n",
      "Connecting to raw.githubusercontent.com (raw.githubusercontent.com)|185.199.111.133|:443... connected.\n",
      "HTTP request sent, awaiting response... ^C\n"
     ]
    }
   ],
   "source": [
    "!wget 'https://github.com/kaopanboonyuen/GISTDA_TRAINING_2023/raw/main/dataset/GUL3_combined_2020_small.csv' -O 'GUL3_combined_2020_small.csv'"
   ]
  },
  {
   "cell_type": "code",
   "execution_count": 24,
   "metadata": {},
   "outputs": [],
   "source": [
    "# data = pd.read_csv('GUL3_combined_2020_small.csv', date_parser = True)"
   ]
  },
  {
   "cell_type": "code",
   "execution_count": 28,
   "metadata": {},
   "outputs": [],
   "source": [
    "data = pd.read_csv('../dataset/GUL3_combined_2020_small.csv', date_parser = True)"
   ]
  },
  {
   "cell_type": "code",
   "execution_count": 29,
   "metadata": {},
   "outputs": [
    {
     "data": {
      "text/html": [
       "<div>\n",
       "<style scoped>\n",
       "    .dataframe tbody tr th:only-of-type {\n",
       "        vertical-align: middle;\n",
       "    }\n",
       "\n",
       "    .dataframe tbody tr th {\n",
       "        vertical-align: top;\n",
       "    }\n",
       "\n",
       "    .dataframe thead th {\n",
       "        text-align: right;\n",
       "    }\n",
       "</style>\n",
       "<table border=\"1\" class=\"dataframe\">\n",
       "  <thead>\n",
       "    <tr style=\"text-align: right;\">\n",
       "      <th></th>\n",
       "      <th>Timestamp</th>\n",
       "      <th>Longitude</th>\n",
       "      <th>Latitude</th>\n",
       "      <th>U comp</th>\n",
       "      <th>V comp</th>\n",
       "    </tr>\n",
       "  </thead>\n",
       "  <tbody>\n",
       "    <tr>\n",
       "      <th>0</th>\n",
       "      <td>2020/04/01 00:00</td>\n",
       "      <td>99.253709</td>\n",
       "      <td>9.339609</td>\n",
       "      <td>-10.281</td>\n",
       "      <td>-23.955</td>\n",
       "    </tr>\n",
       "    <tr>\n",
       "      <th>1</th>\n",
       "      <td>2020/04/01 00:00</td>\n",
       "      <td>99.381130</td>\n",
       "      <td>9.375871</td>\n",
       "      <td>16.232</td>\n",
       "      <td>0.825</td>\n",
       "    </tr>\n",
       "    <tr>\n",
       "      <th>2</th>\n",
       "      <td>2020/04/01 00:00</td>\n",
       "      <td>99.399338</td>\n",
       "      <td>9.375881</td>\n",
       "      <td>16.232</td>\n",
       "      <td>0.825</td>\n",
       "    </tr>\n",
       "    <tr>\n",
       "      <th>3</th>\n",
       "      <td>2020/04/01 00:00</td>\n",
       "      <td>99.417546</td>\n",
       "      <td>9.375890</td>\n",
       "      <td>17.409</td>\n",
       "      <td>0.141</td>\n",
       "    </tr>\n",
       "    <tr>\n",
       "      <th>4</th>\n",
       "      <td>2020/04/01 00:00</td>\n",
       "      <td>99.344702</td>\n",
       "      <td>9.393930</td>\n",
       "      <td>3.173</td>\n",
       "      <td>-11.752</td>\n",
       "    </tr>\n",
       "    <tr>\n",
       "      <th>...</th>\n",
       "      <td>...</td>\n",
       "      <td>...</td>\n",
       "      <td>...</td>\n",
       "      <td>...</td>\n",
       "      <td>...</td>\n",
       "    </tr>\n",
       "    <tr>\n",
       "      <th>508096</th>\n",
       "      <td>2020/04/30 20:00</td>\n",
       "      <td>99.180268</td>\n",
       "      <td>9.863916</td>\n",
       "      <td>5.985</td>\n",
       "      <td>4.782</td>\n",
       "    </tr>\n",
       "    <tr>\n",
       "      <th>508097</th>\n",
       "      <td>2020/04/30 20:00</td>\n",
       "      <td>99.198502</td>\n",
       "      <td>9.863937</td>\n",
       "      <td>8.326</td>\n",
       "      <td>1.948</td>\n",
       "    </tr>\n",
       "    <tr>\n",
       "      <th>508098</th>\n",
       "      <td>2020/04/30 20:00</td>\n",
       "      <td>99.216736</td>\n",
       "      <td>9.863957</td>\n",
       "      <td>5.521</td>\n",
       "      <td>2.975</td>\n",
       "    </tr>\n",
       "    <tr>\n",
       "      <th>508099</th>\n",
       "      <td>2020/04/30 20:00</td>\n",
       "      <td>99.234970</td>\n",
       "      <td>9.863976</td>\n",
       "      <td>4.117</td>\n",
       "      <td>4.012</td>\n",
       "    </tr>\n",
       "    <tr>\n",
       "      <th>508100</th>\n",
       "      <td>2020/04/30 20:00</td>\n",
       "      <td>99.253204</td>\n",
       "      <td>9.863994</td>\n",
       "      <td>4.085</td>\n",
       "      <td>3.385</td>\n",
       "    </tr>\n",
       "  </tbody>\n",
       "</table>\n",
       "<p>508101 rows × 5 columns</p>\n",
       "</div>"
      ],
      "text/plain": [
       "               Timestamp  Longitude  Latitude  U comp  V comp\n",
       "0       2020/04/01 00:00  99.253709  9.339609 -10.281 -23.955\n",
       "1       2020/04/01 00:00  99.381130  9.375871  16.232   0.825\n",
       "2       2020/04/01 00:00  99.399338  9.375881  16.232   0.825\n",
       "3       2020/04/01 00:00  99.417546  9.375890  17.409   0.141\n",
       "4       2020/04/01 00:00  99.344702  9.393930   3.173 -11.752\n",
       "...                  ...        ...       ...     ...     ...\n",
       "508096  2020/04/30 20:00  99.180268  9.863916   5.985   4.782\n",
       "508097  2020/04/30 20:00  99.198502  9.863937   8.326   1.948\n",
       "508098  2020/04/30 20:00  99.216736  9.863957   5.521   2.975\n",
       "508099  2020/04/30 20:00  99.234970  9.863976   4.117   4.012\n",
       "508100  2020/04/30 20:00  99.253204  9.863994   4.085   3.385\n",
       "\n",
       "[508101 rows x 5 columns]"
      ]
     },
     "execution_count": 29,
     "metadata": {},
     "output_type": "execute_result"
    }
   ],
   "source": [
    "data"
   ]
  },
  {
   "cell_type": "code",
   "execution_count": 30,
   "metadata": {},
   "outputs": [
    {
     "data": {
      "text/html": [
       "<div>\n",
       "<style scoped>\n",
       "    .dataframe tbody tr th:only-of-type {\n",
       "        vertical-align: middle;\n",
       "    }\n",
       "\n",
       "    .dataframe tbody tr th {\n",
       "        vertical-align: top;\n",
       "    }\n",
       "\n",
       "    .dataframe thead th {\n",
       "        text-align: right;\n",
       "    }\n",
       "</style>\n",
       "<table border=\"1\" class=\"dataframe\">\n",
       "  <thead>\n",
       "    <tr style=\"text-align: right;\">\n",
       "      <th></th>\n",
       "      <th>PM2.5(µg/m3)</th>\n",
       "      <th>Temp(C)</th>\n",
       "      <th>lat</th>\n",
       "      <th>long</th>\n",
       "    </tr>\n",
       "  </thead>\n",
       "  <tbody>\n",
       "    <tr>\n",
       "      <th>2016-03-31</th>\n",
       "      <td>35.814905</td>\n",
       "      <td>30.238620</td>\n",
       "      <td>13.754</td>\n",
       "      <td>100.5014</td>\n",
       "    </tr>\n",
       "    <tr>\n",
       "      <th>2016-04-30</th>\n",
       "      <td>31.561806</td>\n",
       "      <td>32.025000</td>\n",
       "      <td>13.754</td>\n",
       "      <td>100.5014</td>\n",
       "    </tr>\n",
       "    <tr>\n",
       "      <th>2016-05-31</th>\n",
       "      <td>16.634745</td>\n",
       "      <td>31.756855</td>\n",
       "      <td>13.754</td>\n",
       "      <td>100.5014</td>\n",
       "    </tr>\n",
       "  </tbody>\n",
       "</table>\n",
       "</div>"
      ],
      "text/plain": [
       "            PM2.5(µg/m3)    Temp(C)     lat      long\n",
       "2016-03-31     35.814905  30.238620  13.754  100.5014\n",
       "2016-04-30     31.561806  32.025000  13.754  100.5014\n",
       "2016-05-31     16.634745  31.756855  13.754  100.5014"
      ]
     },
     "execution_count": 30,
     "metadata": {},
     "output_type": "execute_result"
    }
   ],
   "source": [
    "train.head(3)"
   ]
  },
  {
   "cell_type": "code",
   "execution_count": 34,
   "metadata": {},
   "outputs": [
    {
     "name": "stdout",
     "output_type": "stream",
     "text": [
      "<class 'pandas.core.frame.DataFrame'>\n",
      "DatetimeIndex: 29 entries, 2016-03-31 to 2018-07-31\n",
      "Freq: M\n",
      "Data columns (total 4 columns):\n",
      " #   Column        Non-Null Count  Dtype  \n",
      "---  ------        --------------  -----  \n",
      " 0   PM2.5(µg/m3)  29 non-null     float64\n",
      " 1   Temp(C)       29 non-null     float64\n",
      " 2   lat           29 non-null     float64\n",
      " 3   long          29 non-null     float64\n",
      "dtypes: float64(4)\n",
      "memory usage: 1.1 KB\n"
     ]
    }
   ],
   "source": [
    "train.info()"
   ]
  },
  {
   "cell_type": "code",
   "execution_count": 37,
   "metadata": {},
   "outputs": [],
   "source": [
    "data_U = data.set_index('Timestamp').drop(['V comp'], axis=1)"
   ]
  },
  {
   "cell_type": "code",
   "execution_count": 39,
   "metadata": {},
   "outputs": [],
   "source": [
    "train_size, valid_size, test_size = map(lambda r: int(r*data_U.shape[0]), (0.6, 0.2, 0.2))"
   ]
  },
  {
   "cell_type": "code",
   "execution_count": 41,
   "metadata": {},
   "outputs": [],
   "source": [
    "train, valid, test = data.iloc[:train_size],  \\\n",
    "        data.iloc[train_size: train_size + valid_size],  \\\n",
    "            data.iloc[train_size + valid_size:]"
   ]
  },
  {
   "cell_type": "code",
   "execution_count": null,
   "metadata": {},
   "outputs": [],
   "source": [
    "mod = SARIMAX(train['U comp'],\n",
    "              order=best_order,\n",
    "              seasonal_order=best_seasonal_order,\n",
    "              enforce_stationarity=False,\n",
    "              enforce_invertibility=False)\n",
    "\n",
    "results = mod.fit()\n",
    "\n",
    "print(results.summary().tables[1])"
   ]
  },
  {
   "cell_type": "code",
   "execution_count": null,
   "metadata": {},
   "outputs": [],
   "source": [
    "test_exog = pd.concat((valid[exog_columns], test[exog_columns]), axis=0)"
   ]
  },
  {
   "cell_type": "code",
   "execution_count": null,
   "metadata": {},
   "outputs": [],
   "source": [
    "pred = results.get_prediction(start=test.index[0], end=test.index[-1], exog=test_exog, dynamic=False)\n",
    "pred_ci = pred.conf_int()"
   ]
  },
  {
   "cell_type": "code",
   "execution_count": null,
   "metadata": {},
   "outputs": [],
   "source": [
    "from matplotlib.pyplot import figure\n",
    "figure(num=None, figsize=(18, 6), dpi=80, facecolor='w', edgecolor='k')\n",
    "plt.plot(data['U comp'], color='g',label='ground truth')\n",
    "pred.predicted_mean.plot(alpha=.7, color='r',label='predict')\n",
    "plt.legend(loc=\"upper right\")\n",
    "\n",
    "plt.show()"
   ]
  },
  {
   "cell_type": "code",
   "execution_count": null,
   "metadata": {},
   "outputs": [],
   "source": [
    "mse = mean_squared_error(test['U comp'], pred.predicted_mean)\n",
    "rmse = math.sqrt(mse)\n",
    "print('Test on SARIMAX with RMSE: %f' % (rmse, ))"
   ]
  }
 ],
 "metadata": {
  "colab": {
   "name": "SARIMAX_v2.ipynb",
   "provenance": [],
   "toc_visible": true
  },
  "kernelspec": {
   "display_name": "Python 3",
   "language": "python",
   "name": "python3"
  },
  "language_info": {
   "codemirror_mode": {
    "name": "ipython",
    "version": 3
   },
   "file_extension": ".py",
   "mimetype": "text/x-python",
   "name": "python",
   "nbconvert_exporter": "python",
   "pygments_lexer": "ipython3",
   "version": "3.8.3"
  },
  "toc": {
   "base_numbering": 1,
   "nav_menu": {},
   "number_sections": true,
   "sideBar": true,
   "skip_h1_title": false,
   "title_cell": "Table of Contents",
   "title_sidebar": "Contents",
   "toc_cell": false,
   "toc_position": {},
   "toc_section_display": true,
   "toc_window_display": false
  }
 },
 "nbformat": 4,
 "nbformat_minor": 1
}
